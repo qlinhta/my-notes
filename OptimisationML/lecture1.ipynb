{
 "cells": [
  {
   "cell_type": "markdown",
   "source": [
    "# Optimisation for Machine Learning\n",
    "\n",
    "September 20, 2023\n",
    "\n",
    "### Logistic\n",
    "Contact: [Clement Royer](mailto:clement.royer@lamsade.dauphine.fr)\n",
    "Lecture's web: [URL](https://www.lamsade.dauphine.fr/%7Ecroyer/teachOAA.html)\n",
    "Examen: 60% (2h), dated December 13, 2023 10:00 AM - 12:00 PM\n",
    "Project: 40%, during from October 6, 2023 to December 23, 2023"
   ],
   "metadata": {
    "collapsed": false
   },
   "id": "f7104e9b9069540f"
  },
  {
   "cell_type": "code",
   "execution_count": 3,
   "id": "initial_id",
   "metadata": {
    "collapsed": true,
    "ExecuteTime": {
     "end_time": "2023-09-20T06:44:46.712357Z",
     "start_time": "2023-09-20T06:44:46.709103Z"
    }
   },
   "outputs": [],
   "source": [
    "import numpy as np\n",
    "import matplotlib.pyplot as plt\n",
    "plt.style.use('seaborn-paper')\n",
    "plt.rc('text', usetex=True)\n",
    "plt.rc('font', family='serif')\n",
    "plt.rc('font', size=18)\n",
    "plt.rc('axes', titlesize=18)\n",
    "plt.rc('axes', labelsize=18)\n",
    "plt.rc('xtick', labelsize=18)\n",
    "plt.rc('ytick', labelsize=18)\n",
    "plt.rc('legend', fontsize=18)\n",
    "plt.rc('lines', markersize=10)\n",
    "plt.rcParams['figure.figsize'] = [12, 12]"
   ]
  },
  {
   "cell_type": "markdown",
   "source": [
    "#### What is optimisation?\n",
    "- Field of study that is concerned with finding the best decision (or decisions) from a set of available alternatives. In the simplest case, this is the problem of finding a maximum (or minimum) of a real function $f(x)$ of a real variable $x$.\n",
    "- As a subfield of theoritical computer science/computational mathematics, matured between 1980s - 2000s with efficient software packages.\n",
    "- Shift in the past decades (2000s - 2020s) data-driven optimisation, with the rise of machine learning and big data, lead to specific optimisation problems/formulations, changes the preferred classes of algorithms. Old algorithms became trendy again. Other algorithms are irrelevant (e.g. Newton's method).\n",
    "\n",
    "#### Typical optimisation ML:\n",
    "Start with data $D = \\{(x_i, y_i)\\}_{i=1}^n$ and a model $h(x, \\theta)$, where $\\theta$ is the parameter to be optimised. The goal is to discover a mapping between the input $x_i$ and the output $y_i$. $h$ such that $h(x_i, \\theta) \\approx y_i$ for all $i$.\n",
    "\n",
    "#### Process: Training/Learning\n",
    "Typically $h$ is defined/parameterized with a vector $\\theta \\in R^d$ and learning consists in finding the best $\\theta$ such that $h(x_i, w) \\approx y_i$ for all $i$.\n",
    "\n",
    "An optimisation problem asscoiated with this task will have following form:\n",
    "$$\n",
    "\\min_{\\theta \\in R^d} f_D(\\theta) + \\lambda R(\\theta)\n",
    "$$\n",
    "where $f_D(\\theta)$ is the loss function, $R(\\theta)$ is the regularisation term and $\\lambda$ is the regularisation parameter.\n",
    "\n",
    "#### Notation:\n",
    "$w = \\begin{bmatrix} w_1 \\\\ \\vdots \\\\ w_d \\end{bmatrix} \\in R^d$ is the vector of parameters to be optimised.\n",
    "Objective function: $f(w) = f_D(w) + \\lambda R(w)$ is the function to be minimised.\n",
    "Optimal solution: $w^* = \\arg \\min_{w \\in R^d} f(w)$ is the vector of parameters that minimises the objective function.\n",
    "Optimal value: $f^* = f(w^*)$ is the value of the objective function at the optimal solution."
   ],
   "metadata": {
    "collapsed": false
   },
   "id": "5e1a90705fc27cf2"
  },
  {
   "cell_type": "code",
   "execution_count": null,
   "outputs": [],
   "source": [],
   "metadata": {
    "collapsed": false
   },
   "id": "f678642876de2593"
  }
 ],
 "metadata": {
  "kernelspec": {
   "display_name": "Python 3",
   "language": "python",
   "name": "python3"
  },
  "language_info": {
   "codemirror_mode": {
    "name": "ipython",
    "version": 2
   },
   "file_extension": ".py",
   "mimetype": "text/x-python",
   "name": "python",
   "nbconvert_exporter": "python",
   "pygments_lexer": "ipython2",
   "version": "2.7.6"
  }
 },
 "nbformat": 4,
 "nbformat_minor": 5
}
