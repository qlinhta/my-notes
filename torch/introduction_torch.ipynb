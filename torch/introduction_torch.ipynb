{
 "cells": [
  {
   "cell_type": "code",
   "execution_count": 1,
   "metadata": {
    "collapsed": true,
    "ExecuteTime": {
     "end_time": "2023-06-26T17:18:09.248105Z",
     "start_time": "2023-06-26T17:17:38.526082Z"
    }
   },
   "outputs": [
    {
     "name": "stdout",
     "output_type": "stream",
     "text": [
      "1.13.1\n"
     ]
    }
   ],
   "source": [
    "import torch\n",
    "import torch.nn as nn\n",
    "import torch.nn.functional as F\n",
    "import torch.optim as optim\n",
    "\n",
    "import pandas as pd\n",
    "import numpy as np\n",
    "import matplotlib.pyplot as plt\n",
    "\n",
    "print(torch.__version__)"
   ]
  },
  {
   "cell_type": "markdown",
   "source": [
    "### Introduction to Tensors"
   ],
   "metadata": {
    "collapsed": false
   }
  },
  {
   "cell_type": "code",
   "execution_count": 3,
   "outputs": [
    {
     "name": "stdout",
     "output_type": "stream",
     "text": [
      "tensor(3.1415)\n"
     ]
    }
   ],
   "source": [
    "# Scalar (0D tensor)\n",
    "scalar = torch.tensor(3.1415)\n",
    "print(scalar)"
   ],
   "metadata": {
    "collapsed": false,
    "ExecuteTime": {
     "end_time": "2023-06-26T17:22:36.554110Z",
     "start_time": "2023-06-26T17:22:36.545128Z"
    }
   }
  },
  {
   "cell_type": "code",
   "execution_count": 10,
   "outputs": [
    {
     "name": "stdout",
     "output_type": "stream",
     "text": [
      "tensor([1, 2, 3, 4, 5])\n"
     ]
    }
   ],
   "source": [
    "# Vector (1D tensor)\n",
    "vector = torch.tensor([1, 2, 3, 4, 5])\n",
    "print(vector)"
   ],
   "metadata": {
    "collapsed": false,
    "ExecuteTime": {
     "end_time": "2023-06-26T17:26:04.525989Z",
     "start_time": "2023-06-26T17:26:04.522032Z"
    }
   }
  },
  {
   "cell_type": "code",
   "execution_count": 18,
   "outputs": [
    {
     "name": "stdout",
     "output_type": "stream",
     "text": [
      "tensor([1, 2, 3, 4, 5])\n",
      "tensor([True, True, True, True, True]) torch.Size([5])\n"
     ]
    }
   ],
   "source": [
    "other_vector = torch.arange(1, 6)\n",
    "print(other_vector)\n",
    "print(vector == other_vector, vector.shape)"
   ],
   "metadata": {
    "collapsed": false,
    "ExecuteTime": {
     "end_time": "2023-06-26T17:27:31.190572Z",
     "start_time": "2023-06-26T17:27:31.182380Z"
    }
   }
  },
  {
   "cell_type": "code",
   "execution_count": 27,
   "outputs": [
    {
     "name": "stdout",
     "output_type": "stream",
     "text": [
      "tensor([[1, 2],\n",
      "        [4, 5]])\n"
     ]
    }
   ],
   "source": [
    "# Matrix\n",
    "matrix = torch.tensor([[1, 2], [4, 5]])\n",
    "\n",
    "print(matrix)"
   ],
   "metadata": {
    "collapsed": false,
    "ExecuteTime": {
     "end_time": "2023-06-26T17:31:55.865314Z",
     "start_time": "2023-06-26T17:31:55.856915Z"
    }
   }
  },
  {
   "cell_type": "code",
   "execution_count": 33,
   "outputs": [
    {
     "name": "stdout",
     "output_type": "stream",
     "text": [
      "tensor([[[ 1, -1,  0],\n",
      "         [ 2,  0,  1],\n",
      "         [ 4,  1,  0],\n",
      "         [ 6,  0,  1]]])\n"
     ]
    }
   ],
   "source": [
    "TENSOR = torch.tensor([[[1, -1, 0],\n",
    "                        [2, 0, 1],\n",
    "                          [4, 1, 0],\n",
    "                            [6, 0, 1]]])\n",
    "print(TENSOR)"
   ],
   "metadata": {
    "collapsed": false,
    "ExecuteTime": {
     "end_time": "2023-06-26T17:35:34.989060Z",
     "start_time": "2023-06-26T17:35:34.981895Z"
    }
   }
  },
  {
   "cell_type": "code",
   "execution_count": 34,
   "outputs": [
    {
     "data": {
      "text/plain": "torch.Size([1, 4, 3])"
     },
     "execution_count": 34,
     "metadata": {},
     "output_type": "execute_result"
    }
   ],
   "source": [
    "TENSOR.shape"
   ],
   "metadata": {
    "collapsed": false,
    "ExecuteTime": {
     "end_time": "2023-06-26T17:35:35.424609Z",
     "start_time": "2023-06-26T17:35:35.420689Z"
    }
   }
  },
  {
   "cell_type": "code",
   "execution_count": 35,
   "outputs": [
    {
     "data": {
      "text/plain": "3"
     },
     "execution_count": 35,
     "metadata": {},
     "output_type": "execute_result"
    }
   ],
   "source": [
    "TENSOR.ndim"
   ],
   "metadata": {
    "collapsed": false,
    "ExecuteTime": {
     "end_time": "2023-06-26T17:35:50.517731Z",
     "start_time": "2023-06-26T17:35:50.512981Z"
    }
   }
  },
  {
   "cell_type": "markdown",
   "source": [
    "### Random Tensors\n",
    "\n",
    "Why do we need random tensors? Random tensors are useful for initializing the weights of neural networks. We will learn more about this in the next lesson."
   ],
   "metadata": {
    "collapsed": false
   }
  },
  {
   "cell_type": "code",
   "execution_count": 42,
   "outputs": [
    {
     "name": "stdout",
     "output_type": "stream",
     "text": [
      "tensor([[[0.9545, 0.4976, 0.9336, 0.1765, 0.2997],\n",
      "         [0.3670, 0.3845, 0.0935, 0.1126, 0.6940],\n",
      "         [0.0465, 0.0367, 0.8529, 0.5588, 0.0148],\n",
      "         [0.8884, 0.9097, 0.5475, 0.4254, 0.8654]],\n",
      "\n",
      "        [[0.5163, 0.1426, 0.1004, 0.4389, 0.1185],\n",
      "         [0.9222, 0.9318, 0.1760, 0.3467, 0.3947],\n",
      "         [0.7754, 0.7576, 0.1391, 0.5181, 0.2161],\n",
      "         [0.8226, 0.0193, 0.0674, 0.6016, 0.1217]],\n",
      "\n",
      "        [[0.9507, 0.0025, 0.9830, 0.9472, 0.8941],\n",
      "         [0.5252, 0.7507, 0.4825, 0.6466, 0.1163],\n",
      "         [0.3574, 0.6522, 0.0891, 0.8660, 0.0504],\n",
      "         [0.3442, 0.1452, 0.0024, 0.5404, 0.5459]]])\n"
     ]
    }
   ],
   "source": [
    "# Random tensors\n",
    "random_tensor = torch.rand(3, 4, 5)\n",
    "print(random_tensor)"
   ],
   "metadata": {
    "collapsed": false,
    "ExecuteTime": {
     "end_time": "2023-06-26T17:42:41.062847Z",
     "start_time": "2023-06-26T17:42:41.058772Z"
    }
   }
  },
  {
   "cell_type": "code",
   "execution_count": 52,
   "outputs": [
    {
     "name": "stdout",
     "output_type": "stream",
     "text": [
      "tensor([[[-2.3710, -0.8751,  0.0693,  1.5853, -1.1846,  0.1068, -0.6729],\n",
      "         [ 1.4875, -0.0743,  1.1090,  1.2451,  0.1415,  1.1672,  0.1820],\n",
      "         [-1.2224,  0.9455, -1.0133,  0.3462, -0.1871,  0.7392,  0.5829],\n",
      "         [-2.8387,  0.5218, -0.6013, -0.6262,  1.3650, -0.8247,  0.7255]],\n",
      "\n",
      "        [[-0.4978,  0.2873,  0.1436, -0.2023, -0.7466,  0.0592,  0.9684],\n",
      "         [ 1.6999,  0.8969,  0.7516, -0.0576,  1.7022,  0.1361,  0.5812],\n",
      "         [ 0.0047, -1.3984, -0.6336, -0.6668,  1.5470,  2.1056,  0.4774],\n",
      "         [ 0.5965,  1.4588,  0.7178,  0.0241, -1.6986,  0.7098,  1.5676]],\n",
      "\n",
      "        [[ 0.1447,  1.8930,  1.9312,  0.8216,  0.1941, -0.4811,  1.6345],\n",
      "         [ 0.2891, -0.5341, -0.5915, -2.2003, -0.0482, -0.4796,  1.0995],\n",
      "         [ 0.3376, -0.7319,  1.5728,  2.1317,  0.6963, -1.5608, -2.9887],\n",
      "         [-0.5780, -0.2286, -0.5004,  1.0900,  0.4223, -0.8505,  0.7542]]])\n"
     ]
    }
   ],
   "source": [
    "other_random_tensor = torch.randn(3, 4, 7)\n",
    "print(other_random_tensor)"
   ],
   "metadata": {
    "collapsed": false,
    "ExecuteTime": {
     "end_time": "2023-06-26T17:44:33.681063Z",
     "start_time": "2023-06-26T17:44:33.674865Z"
    }
   }
  },
  {
   "cell_type": "code",
   "execution_count": 54,
   "outputs": [
    {
     "data": {
      "text/plain": "3"
     },
     "execution_count": 54,
     "metadata": {},
     "output_type": "execute_result"
    }
   ],
   "source": [
    "other_random_tensor.ndim"
   ],
   "metadata": {
    "collapsed": false,
    "ExecuteTime": {
     "end_time": "2023-06-26T17:46:02.132492Z",
     "start_time": "2023-06-26T17:46:02.126737Z"
    }
   }
  },
  {
   "cell_type": "code",
   "execution_count": 56,
   "outputs": [
    {
     "name": "stdout",
     "output_type": "stream",
     "text": [
      "tensor([[[-2.3710,  1.4875, -1.2224, -2.8387],\n",
      "         [-0.4978,  1.6999,  0.0047,  0.5965],\n",
      "         [ 0.1447,  0.2891,  0.3376, -0.5780]],\n",
      "\n",
      "        [[-0.8751, -0.0743,  0.9455,  0.5218],\n",
      "         [ 0.2873,  0.8969, -1.3984,  1.4588],\n",
      "         [ 1.8930, -0.5341, -0.7319, -0.2286]],\n",
      "\n",
      "        [[ 0.0693,  1.1090, -1.0133, -0.6013],\n",
      "         [ 0.1436,  0.7516, -0.6336,  0.7178],\n",
      "         [ 1.9312, -0.5915,  1.5728, -0.5004]],\n",
      "\n",
      "        [[ 1.5853,  1.2451,  0.3462, -0.6262],\n",
      "         [-0.2023, -0.0576, -0.6668,  0.0241],\n",
      "         [ 0.8216, -2.2003,  2.1317,  1.0900]],\n",
      "\n",
      "        [[-1.1846,  0.1415, -0.1871,  1.3650],\n",
      "         [-0.7466,  1.7022,  1.5470, -1.6986],\n",
      "         [ 0.1941, -0.0482,  0.6963,  0.4223]],\n",
      "\n",
      "        [[ 0.1068,  1.1672,  0.7392, -0.8247],\n",
      "         [ 0.0592,  0.1361,  2.1056,  0.7098],\n",
      "         [-0.4811, -0.4796, -1.5608, -0.8505]],\n",
      "\n",
      "        [[-0.6729,  0.1820,  0.5829,  0.7255],\n",
      "         [ 0.9684,  0.5812,  0.4774,  1.5676],\n",
      "         [ 1.6345,  1.0995, -2.9887,  0.7542]]])\n"
     ]
    }
   ],
   "source": [
    "# Permuted dimensions\n",
    "permuted_tensor = other_random_tensor.permute(2, 0, 1)\n",
    "print(permuted_tensor)"
   ],
   "metadata": {
    "collapsed": false,
    "ExecuteTime": {
     "end_time": "2023-06-26T17:48:09.927666Z",
     "start_time": "2023-06-26T17:48:09.921046Z"
    }
   }
  },
  {
   "cell_type": "code",
   "execution_count": 57,
   "outputs": [
    {
     "data": {
      "text/plain": "torch.Size([7, 3, 4])"
     },
     "execution_count": 57,
     "metadata": {},
     "output_type": "execute_result"
    }
   ],
   "source": [
    "permuted_tensor.shape"
   ],
   "metadata": {
    "collapsed": false,
    "ExecuteTime": {
     "end_time": "2023-06-26T17:48:15.511691Z",
     "start_time": "2023-06-26T17:48:15.507977Z"
    }
   }
  },
  {
   "cell_type": "code",
   "execution_count": 58,
   "outputs": [
    {
     "name": "stdout",
     "output_type": "stream",
     "text": [
      "tensor([-2.3710, -0.8751,  0.0693,  1.5853, -1.1846,  0.1068, -0.6729])\n"
     ]
    }
   ],
   "source": [
    "# Select elements from tensor\n",
    "print(permuted_tensor[:, 0, 0])"
   ],
   "metadata": {
    "collapsed": false,
    "ExecuteTime": {
     "end_time": "2023-06-26T17:50:26.723923Z",
     "start_time": "2023-06-26T17:50:26.720203Z"
    }
   }
  },
  {
   "cell_type": "code",
   "execution_count": null,
   "outputs": [],
   "source": [],
   "metadata": {
    "collapsed": false
   }
  }
 ],
 "metadata": {
  "kernelspec": {
   "display_name": "Python 3",
   "language": "python",
   "name": "python3"
  },
  "language_info": {
   "codemirror_mode": {
    "name": "ipython",
    "version": 2
   },
   "file_extension": ".py",
   "mimetype": "text/x-python",
   "name": "python",
   "nbconvert_exporter": "python",
   "pygments_lexer": "ipython2",
   "version": "2.7.6"
  }
 },
 "nbformat": 4,
 "nbformat_minor": 0
}
