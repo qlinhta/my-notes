{
 "cells": [
  {
   "cell_type": "code",
   "execution_count": null,
   "metadata": {
    "scrolled": false,
    "pycharm": {
     "is_executing": true
    }
   },
   "outputs": [],
   "source": [
    "import os\n",
    "\n",
    "import matplotlib.pyplot as plt\n",
    "import numpy as np\n",
    "from keras import optimizers\n",
    "from keras.layers import Dense, Conv2D, Flatten, MaxPool2D\n",
    "from keras.models import Sequential\n",
    "from keras.utils import to_categorical\n",
    "from matplotlib import rcParams\n",
    "from scipy import io\n",
    "\n",
    "rcParams.update({'font.size': 18})\n",
    "plt.rcParams['figure.figsize'] = [12, 12]"
   ]
  },
  {
   "cell_type": "code",
   "execution_count": 1,
   "metadata": {},
   "outputs": [
    {
     "ename": "NameError",
     "evalue": "name 'io' is not defined",
     "output_type": "error",
     "traceback": [
      "\u001B[0;31m---------------------------------------------------------------------------\u001B[0m",
      "\u001B[0;31mNameError\u001B[0m                                 Traceback (most recent call last)",
      "Input \u001B[0;32mIn [1]\u001B[0m, in \u001B[0;36m<cell line: 1>\u001B[0;34m()\u001B[0m\n\u001B[0;32m----> 1\u001B[0m letters_train_mat \u001B[38;5;241m=\u001B[39m \u001B[43mio\u001B[49m\u001B[38;5;241m.\u001B[39mloadmat(os\u001B[38;5;241m.\u001B[39mpath\u001B[38;5;241m.\u001B[39mjoin(\u001B[38;5;124m'\u001B[39m\u001B[38;5;124m..\u001B[39m\u001B[38;5;124m'\u001B[39m, \u001B[38;5;124m'\u001B[39m\u001B[38;5;124mdatasets\u001B[39m\u001B[38;5;124m'\u001B[39m, \u001B[38;5;124m'\u001B[39m\u001B[38;5;124mlettersTrainSet.mat\u001B[39m\u001B[38;5;124m'\u001B[39m))\n\u001B[1;32m      2\u001B[0m letters_test_mat \u001B[38;5;241m=\u001B[39m io\u001B[38;5;241m.\u001B[39mloadmat(os\u001B[38;5;241m.\u001B[39mpath\u001B[38;5;241m.\u001B[39mjoin(\u001B[38;5;124m'\u001B[39m\u001B[38;5;124m..\u001B[39m\u001B[38;5;124m'\u001B[39m, \u001B[38;5;124m'\u001B[39m\u001B[38;5;124mdatasets\u001B[39m\u001B[38;5;124m'\u001B[39m, \u001B[38;5;124m'\u001B[39m\u001B[38;5;124mlettersTestSet.mat\u001B[39m\u001B[38;5;124m'\u001B[39m))\n\u001B[1;32m      3\u001B[0m XTrain \u001B[38;5;241m=\u001B[39m letters_train_mat[\u001B[38;5;124m'\u001B[39m\u001B[38;5;124mXTrain\u001B[39m\u001B[38;5;124m'\u001B[39m]\n",
      "\u001B[0;31mNameError\u001B[0m: name 'io' is not defined"
     ]
    }
   ],
   "source": [
    "letters_train_mat = io.loadmat(os.path.join('..', 'datasets', 'lettersTrainSet.mat'))\n",
    "letters_test_mat = io.loadmat(os.path.join('..', 'datasets', 'lettersTestSet.mat'))\n",
    "XTrain = letters_train_mat['XTrain']\n",
    "TTrain = letters_train_mat['TTrain_cell']\n",
    "XTest = letters_test_mat['XTest']\n",
    "TTest = letters_test_mat['TTest_cell']\n",
    "\n",
    "perm = np.random.permutation(1500)[:20]\n",
    "\n",
    "# By default, Keras expects data in form (batch, height, width, channels)\n",
    "XTrain = np.transpose(XTrain, axes=[3, 0, 1, 2])\n",
    "XTest = np.transpose(XTest, axes=[3, 0, 1, 2])\n",
    "\n",
    "fig, axs = plt.subplots(4, 5)\n",
    "axs = axs.reshape(-1)\n",
    "\n",
    "for j in range(len(axs)):\n",
    "    axs[j].imshow(np.squeeze(XTrain[perm[j], :, :, :]), cmap='gray')\n",
    "    axs[j].axis('off')"
   ]
  },
  {
   "cell_type": "code",
   "execution_count": 7,
   "metadata": {},
   "outputs": [],
   "source": [
    "classes = np.unique(TTrain)\n",
    "y_train_label = np.zeros_like(TTrain)\n",
    "y_test_label = np.zeros_like(TTest)\n",
    "for nc in range(len(classes)):\n",
    "    y_train_label[TTrain == classes[nc]] = nc\n",
    "    y_test_label[TTest == classes[nc]] = nc\n",
    "\n",
    "y_train_label = y_train_label.reshape(-1)\n",
    "y_test_label = y_test_label.reshape(-1)\n",
    "\n",
    "#one-hot encode categorical classes\n",
    "y_train = to_categorical(y_train_label)\n",
    "y_test = to_categorical(y_test_label)"
   ]
  },
  {
   "cell_type": "code",
   "execution_count": 16,
   "metadata": {},
   "outputs": [
    {
     "name": "stdout",
     "output_type": "stream",
     "text": [
      "Epoch 1/30\n",
      "1500/1500 [==============================] - 0s 183us/step - loss: 0.4938\n",
      "Epoch 2/30\n",
      "1500/1500 [==============================] - 0s 66us/step - loss: 0.0512\n",
      "Epoch 3/30\n",
      "1500/1500 [==============================] - 0s 66us/step - loss: 0.0173\n",
      "Epoch 4/30\n",
      "1500/1500 [==============================] - 0s 69us/step - loss: 0.0108\n",
      "Epoch 5/30\n",
      "1500/1500 [==============================] - 0s 68us/step - loss: 0.0080\n",
      "Epoch 6/30\n",
      "1500/1500 [==============================] - 0s 67us/step - loss: 0.0060\n",
      "Epoch 7/30\n",
      "1500/1500 [==============================] - 0s 68us/step - loss: 0.0050\n",
      "Epoch 8/30\n",
      "1500/1500 [==============================] - 0s 68us/step - loss: 0.0040\n",
      "Epoch 9/30\n",
      "1500/1500 [==============================] - 0s 68us/step - loss: 0.0035\n",
      "Epoch 10/30\n",
      "1500/1500 [==============================] - 0s 68us/step - loss: 0.0030\n",
      "Epoch 11/30\n",
      "1500/1500 [==============================] - 0s 66us/step - loss: 0.0026\n",
      "Epoch 12/30\n",
      "1500/1500 [==============================] - 0s 72us/step - loss: 0.0025\n",
      "Epoch 13/30\n",
      "1500/1500 [==============================] - 0s 66us/step - loss: 0.0021\n",
      "Epoch 14/30\n",
      "1500/1500 [==============================] - 0s 69us/step - loss: 0.0019\n",
      "Epoch 15/30\n",
      "1500/1500 [==============================] - 0s 67us/step - loss: 0.0018\n",
      "Epoch 16/30\n",
      "1500/1500 [==============================] - 0s 62us/step - loss: 0.0017\n",
      "Epoch 17/30\n",
      "1500/1500 [==============================] - 0s 68us/step - loss: 0.0015\n",
      "Epoch 18/30\n",
      "1500/1500 [==============================] - 0s 67us/step - loss: 0.0015\n",
      "Epoch 19/30\n",
      "1500/1500 [==============================] - 0s 67us/step - loss: 0.0014\n",
      "Epoch 20/30\n",
      "1500/1500 [==============================] - 0s 72us/step - loss: 0.0013\n",
      "Epoch 21/30\n",
      "1500/1500 [==============================] - 0s 71us/step - loss: 0.0012\n",
      "Epoch 22/30\n",
      "1500/1500 [==============================] - 0s 78us/step - loss: 0.0011\n",
      "Epoch 23/30\n",
      "1500/1500 [==============================] - 0s 68us/step - loss: 0.0011\n",
      "Epoch 24/30\n",
      "1500/1500 [==============================] - 0s 70us/step - loss: 0.0010\n",
      "Epoch 25/30\n",
      "1500/1500 [==============================] - 0s 68us/step - loss: 9.5643e-04\n",
      "Epoch 26/30\n",
      "1500/1500 [==============================] - 0s 66us/step - loss: 9.0637e-04\n",
      "Epoch 27/30\n",
      "1500/1500 [==============================] - 0s 70us/step - loss: 8.7863e-04\n",
      "Epoch 28/30\n",
      "1500/1500 [==============================] - 0s 75us/step - loss: 8.3013e-04\n",
      "Epoch 29/30\n",
      "1500/1500 [==============================] - 0s 75us/step - loss: 7.9356e-04\n",
      "Epoch 30/30\n",
      "1500/1500 [==============================] - 0s 75us/step - loss: 7.6706e-04\n"
     ]
    },
    {
     "data": {
      "text/plain": [
       "<keras.callbacks.History at 0x12140b09940>"
      ]
     },
     "execution_count": 16,
     "metadata": {},
     "output_type": "execute_result"
    }
   ],
   "source": [
    "#create model\n",
    "model = Sequential()\n",
    "\n",
    "#add model layers\n",
    "model.add(Conv2D(filters=16, kernel_size=5, activation='relu', input_shape=(28, 28, 1)))\n",
    "model.add(MaxPool2D(pool_size=2, strides=2))\n",
    "model.add(Flatten())\n",
    "model.add(Dense(len(classes), activation='softmax'))\n",
    "\n",
    "sgd_optimizer = optimizers.SGD(momentum=0.9)\n",
    "model.compile(optimizer=sgd_optimizer, loss='categorical_crossentropy')\n",
    "model.fit(XTrain, y_train, epochs=30)"
   ]
  },
  {
   "cell_type": "code",
   "execution_count": 37,
   "metadata": {},
   "outputs": [
    {
     "name": "stdout",
     "output_type": "stream",
     "text": [
      "Accuracy = 0.8853333333333333\n"
     ]
    }
   ],
   "source": [
    "YPredict = np.argmax(model.predict(XTest), axis=1)\n",
    "# argmax reverses the one-hot encoding scheme\n",
    "\n",
    "accuracy = np.sum(YPredict == y_test_label) / len(y_test_label)\n",
    "print('Accuracy = {}'.format(accuracy))"
   ]
  }
 ],
 "metadata": {
  "kernelspec": {
   "display_name": "Python 3",
   "language": "python",
   "name": "python3"
  },
  "language_info": {
   "codemirror_mode": {
    "name": "ipython",
    "version": 3
   },
   "file_extension": ".py",
   "mimetype": "text/x-python",
   "name": "python",
   "nbconvert_exporter": "python",
   "pygments_lexer": "ipython3",
   "version": "3.6.8"
  }
 },
 "nbformat": 4,
 "nbformat_minor": 2
}
