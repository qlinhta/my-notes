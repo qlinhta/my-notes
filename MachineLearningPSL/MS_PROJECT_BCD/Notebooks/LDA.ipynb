{
 "cells": [
  {
   "cell_type": "code",
   "execution_count": 1,
   "metadata": {},
   "outputs": [
    {
     "ename": "ImportError",
     "evalue": "cannot import name 'LDA' from 'src' (/Users/quyenlinhta/MasterPSL/ML/MS-PSL/src/__init__.py)",
     "output_type": "error",
     "traceback": [
      "\u001B[0;31m---------------------------------------------------------------------------\u001B[0m",
      "\u001B[0;31mImportError\u001B[0m                               Traceback (most recent call last)",
      "\u001B[0;32m/var/folders/sm/lw2bbffs15g5l3r4ldd25hc00000gn/T/ipykernel_1883/31651186.py\u001B[0m in \u001B[0;36m<module>\u001B[0;34m\u001B[0m\n\u001B[1;32m     12\u001B[0m \u001B[0msys\u001B[0m\u001B[0;34m.\u001B[0m\u001B[0mpath\u001B[0m\u001B[0;34m.\u001B[0m\u001B[0mappend\u001B[0m\u001B[0;34m(\u001B[0m\u001B[0;34m'../'\u001B[0m\u001B[0;34m)\u001B[0m\u001B[0;34m\u001B[0m\u001B[0;34m\u001B[0m\u001B[0m\n\u001B[1;32m     13\u001B[0m \u001B[0;34m\u001B[0m\u001B[0m\n\u001B[0;32m---> 14\u001B[0;31m \u001B[0;32mfrom\u001B[0m \u001B[0msrc\u001B[0m \u001B[0;32mimport\u001B[0m \u001B[0mLDA\u001B[0m\u001B[0;34m,\u001B[0m \u001B[0mmetrics\u001B[0m\u001B[0;34m\u001B[0m\u001B[0;34m\u001B[0m\u001B[0m\n\u001B[0m\u001B[1;32m     15\u001B[0m \u001B[0;32mfrom\u001B[0m \u001B[0msklearn\u001B[0m\u001B[0;34m.\u001B[0m\u001B[0mmodel_selection\u001B[0m \u001B[0;32mimport\u001B[0m \u001B[0mtrain_test_split\u001B[0m\u001B[0;34m\u001B[0m\u001B[0;34m\u001B[0m\u001B[0m\n\u001B[1;32m     16\u001B[0m \u001B[0mplt\u001B[0m\u001B[0;34m.\u001B[0m\u001B[0mstyle\u001B[0m\u001B[0;34m.\u001B[0m\u001B[0muse\u001B[0m\u001B[0;34m(\u001B[0m\u001B[0;34m'seaborn-paper'\u001B[0m\u001B[0;34m)\u001B[0m\u001B[0;34m\u001B[0m\u001B[0;34m\u001B[0m\u001B[0m\n",
      "\u001B[0;31mImportError\u001B[0m: cannot import name 'LDA' from 'src' (/Users/quyenlinhta/MasterPSL/ML/MS-PSL/src/__init__.py)"
     ]
    }
   ],
   "source": [
    "import dalex as dx\n",
    "import joblib\n",
    "import pandas as pd\n",
    "import matplotlib.pyplot as plt\n",
    "import numpy as np\n",
    "import seaborn as sns\n",
    "import lime.lime_tabular\n",
    "import lime.lime_image\n",
    "import warnings\n",
    "import sys\n",
    "\n",
    "sys.path.append('../')\n",
    "\n",
    "from src import LDA, metrics\n",
    "from sklearn.model_selection import train_test_split\n",
    "plt.style.use('seaborn-paper')\n",
    "plt.rc('text', usetex=True)\n",
    "plt.rc('font', family='serif')\n",
    "plt.rc('font', size=18)\n",
    "plt.rc('axes', titlesize=18)\n",
    "plt.rc('axes', labelsize=18)\n",
    "plt.rc('xtick', labelsize=18)\n",
    "plt.rc('ytick', labelsize=18)\n",
    "plt.rc('legend', fontsize=18)\n",
    "plt.rc('lines', markersize=10)"
   ]
  },
  {
   "cell_type": "code",
   "execution_count": null,
   "metadata": {},
   "outputs": [],
   "source": [
    "df = pd.read_csv('../dataset/breast-cancer-wisconsin-processed.csv')\n",
    "label = pd.read_csv('../dataset/breast-cancer-wisconsin-processed-label.csv')\n",
    "data = pd.concat([df, label], axis=1)\n",
    "\n",
    "X = data.drop('diagnosis', axis=1)\n",
    "y = data['diagnosis']\n",
    "X_train, X_test, y_train, y_test = train_test_split(X, y, test_size=0.2, random_state=42, stratify=y)"
   ]
  },
  {
   "cell_type": "code",
   "execution_count": null,
   "metadata": {},
   "outputs": [],
   "source": [
    "plt.subplots(figsize=(8, 8))\n",
    "plt.title('Dataset')\n",
    "plt.scatter(X_train[y_train == 0]['smoothness_mean_log'], X_train[y_train == 0]['texture_mean_log'], marker='o',\n",
    "            label='Benign', s=100, edgecolors='blue', facecolors='white')\n",
    "plt.scatter(X_train[y_train == 1]['smoothness_mean_log'], X_train[y_train == 1]['texture_mean_log'], marker='v',\n",
    "            label='Malignant', s=100, edgecolors='red', facecolors='red')\n",
    "plt.xlabel('Log Scale of Smoothness Mean')\n",
    "plt.ylabel('Log Scale of Texture Mean')\n",
    "plt.legend()\n",
    "plt.show()"
   ]
  },
  {
   "cell_type": "code",
   "execution_count": null,
   "metadata": {},
   "outputs": [],
   "source": [
    "path_to_plot = '../src/output_plots/'\n",
    "filetype = '.pdf'\n",
    "\n",
    "model = LDA.LDA()\n",
    "model.fit(X_train, y_train)\n",
    "y_pred = model.predict(X_test)"
   ]
  },
  {
   "cell_type": "code",
   "execution_count": null,
   "metadata": {},
   "outputs": [],
   "source": [
    "metrics.confusion_matrix(y_test, y_pred, save=True, save_to=path_to_plot + 'LDA_confusion_matrix' + filetype)"
   ]
  },
  {
   "cell_type": "code",
   "execution_count": null,
   "metadata": {},
   "outputs": [],
   "source": [
    "print(\"Accuracy: \", metrics.accuracy(y_test, y_pred))\n",
    "print(\"Precision: \", metrics.precision(y_test, y_pred))\n",
    "print(\"Recall: \", metrics.recall(y_test, y_pred))\n",
    "print(\"F1: \", metrics.f1_score(y_test, y_pred))"
   ]
  },
  {
   "cell_type": "code",
   "execution_count": null,
   "metadata": {},
   "outputs": [],
   "source": [
    "metrics.learning_curve_lda(X_train, y_train, X_test, y_test, save=True, save_to=path_to_plot + 'LDA_learning_curve' + filetype)"
   ]
  },
  {
   "cell_type": "code",
   "execution_count": null,
   "metadata": {},
   "outputs": [],
   "source": [
    "metrics.precision_recall_curve(y_test, y_pred, save=True, save_to=path_to_plot + 'LDA_precision_recall_curve' + filetype)"
   ]
  },
  {
   "cell_type": "code",
   "execution_count": null,
   "metadata": {},
   "outputs": [],
   "source": [
    "#Log scale of smoothness mean1\n",
    "fig, ax = plt.subplots(1, 2, figsize=(20, 10))\n",
    "ax[0].set_title('Probability of being Benign')\n",
    "ax[0].scatter(X_test[y_pred == 0]['smoothness_mean_log'], model.predict_proba_to_plot(X_test[y_pred == 0])[:, 0], marker='o',\n",
    "              label='Benign', s=100, edgecolors='blue', facecolors='white')\n",
    "ax[0].scatter(X_test[y_pred == 1]['smoothness_mean_log'], model.predict_proba_to_plot(X_test[y_pred == 1])[:, 0], marker='v',\n",
    "              label='Malignant', s=100, edgecolors='red', facecolors='red')\n",
    "ax[0].scatter(X_test[y_pred != y_test]['smoothness_mean_log'], model.predict_proba_to_plot(X_test[y_pred != y_test])[:, 0],\n",
    "              marker='x', label='Misclassified', s=100, edgecolors='black', facecolors='black')\n",
    "ax[0].set_xlabel('Log Scale of Smoothness Mean')\n",
    "ax[0].set_ylabel('Probability of being Benign')\n",
    "ax[0].legend()\n",
    "ax[1].set_title('Probability of being Malignant')\n",
    "\n",
    "ax[1].scatter(X_test[y_pred == 0]['smoothness_mean_log'], model.predict_proba_to_plot(X_test[y_pred == 0])[:, 1], marker='o',\n",
    "              label='Benign', s=100, edgecolors='blue', facecolors='white')\n",
    "ax[1].scatter(X_test[y_pred == 1]['smoothness_mean_log'], model.predict_proba_to_plot(X_test[y_pred == 1])[:, 1], marker='v',\n",
    "              label='Malignant', s=100, edgecolors='red', facecolors='red')\n",
    "ax[1].scatter(X_test[y_pred != y_test]['smoothness_mean_log'], model.predict_proba_to_plot(X_test[y_pred != y_test])[:, 1],\n",
    "              marker='x', label='Misclassified', s=100, edgecolors='black', facecolors='black')\n",
    "ax[1].set_xlabel('Log Scale of Smoothness Mean')\n",
    "ax[1].set_ylabel('Probability of being Malignant')\n",
    "ax[1].legend()\n",
    "plt.savefig(path_to_plot + 'LDA_probability' + filetype)\n",
    "plt.show()"
   ]
  },
  {
   "cell_type": "code",
   "execution_count": null,
   "metadata": {},
   "outputs": [],
   "source": [
    "plt.subplots(figsize=(8, 8))\n",
    "plt.title('Predicted Labels')\n",
    "plt.scatter(X_test[y_pred == 0]['smoothness_mean_log'], X_test[y_pred == 0]['texture_mean_log'], marker='o',\n",
    "            label='Benign', s=100, edgecolors='blue', facecolors='white')\n",
    "plt.scatter(X_test[y_pred == 1]['smoothness_mean_log'], X_test[y_pred == 1]['texture_mean_log'], marker='v',\n",
    "            label='Malignant', s=100, edgecolors='red', facecolors='red')\n",
    "plt.scatter(X_test[y_pred != y_test]['smoothness_mean_log'], X_test[y_pred != y_test]['texture_mean_log'], marker='x',\n",
    "            label='Misclassified', s=100, edgecolors='black', facecolors='black')\n",
    "plt.xlabel('Log Scale of Smoothness Mean')\n",
    "plt.ylabel('Log Scale of Texture Mean')\n",
    "plt.legend()\n",
    "plt.savefig(path_to_plot + 'LDA_predicted_labels' + filetype)\n",
    "plt.show()"
   ]
  },
  {
   "cell_type": "code",
   "execution_count": null,
   "metadata": {},
   "outputs": [],
   "source": [
    "misclassified = X_test[y_pred != y_test]\n",
    "\n",
    "explainer = lime.lime_tabular.LimeTabularExplainer(X_train.values, feature_names=X_train.columns,\n",
    "                                                   class_names=['Benign', 'Malignant'],\n",
    "                                                   discretize_continuous=True, verbose=True, mode='classification')\n",
    "for i in misclassified.index:\n",
    "    exp = explainer.explain_instance(X_test.loc[i].values, model.predict_proba_to_plot, num_features=10)\n",
    "    exp.show_in_notebook(show_table=True, show_all=True)"
   ]
  },
  {
   "cell_type": "code",
   "execution_count": null,
   "metadata": {},
   "outputs": [],
   "source": [
    "fig, ax = plt.subplots(1, 2, figsize=(20, 10))\n",
    "ax[0].set_title('True Labels')\n",
    "ax[0].scatter(X_test[y_test == 0]['smoothness_mean_log'], X_test[y_test == 0]['texture_mean_log'], marker='o',\n",
    "              label='Benign', s=100, edgecolors='blue', facecolors='white')\n",
    "ax[0].scatter(X_test[y_test == 1]['smoothness_mean_log'], X_test[y_test == 1]['texture_mean_log'], marker='v',\n",
    "              label='Malignant', s=100, edgecolors='green', facecolors='green')\n",
    "ax[0].set_xlabel('Log Scale of Smoothness Mean')\n",
    "ax[0].set_ylabel('Log Scale of Texture Mean')\n",
    "ax[0].legend()\n",
    "\n",
    "ax[1].set_title('Predicted Labels')\n",
    "ax[1].scatter(X_test[y_pred == 0]['smoothness_mean_log'], X_test[y_pred == 0]['texture_mean_log'], marker='o',\n",
    "              label='Benign', s=100, edgecolors='red', facecolors='white')\n",
    "ax[1].scatter(X_test[y_pred == 1]['smoothness_mean_log'], X_test[y_pred == 1]['texture_mean_log'], marker='v',\n",
    "              label='Malignant', s=100, edgecolors='darkorange', facecolors='darkorange')\n",
    "ax[1].set_xlabel('Log Scale of Smoothness Mean')\n",
    "ax[1].set_ylabel('Log Scale of Texture Mean')\n",
    "ax[1].legend()\n",
    "for i in range(len(y_test)):\n",
    "    if y_test.iloc[i] != y_pred[i]:\n",
    "        ax[1].scatter(X_test.iloc[i]['smoothness_mean_log'], X_test.iloc[i]['texture_mean_log'], marker='x',\n",
    "                      label='Incorrect', s=100, edgecolors='black', facecolors='black')\n",
    "plt.savefig(path_to_plot + 'LDA_true_vs_predicted' + filetype)\n",
    "plt.show()"
   ]
  },
  {
   "cell_type": "code",
   "execution_count": null,
   "outputs": [],
   "source": [],
   "metadata": {
    "collapsed": false
   }
  }
 ],
 "metadata": {
  "kernelspec": {
   "display_name": "MSPSL",
   "language": "python",
   "name": "python3"
  },
  "language_info": {
   "codemirror_mode": {
    "name": "ipython",
    "version": 3
   },
   "file_extension": ".py",
   "mimetype": "text/x-python",
   "name": "python",
   "nbconvert_exporter": "python",
   "pygments_lexer": "ipython3",
   "version": "3.7.16"
  },
  "orig_nbformat": 4,
  "vscode": {
   "interpreter": {
    "hash": "5e073d977754854049596af19ae0ebd3be4ffea998361dee2da8f21954d5ef35"
   }
  }
 },
 "nbformat": 4,
 "nbformat_minor": 2
}
