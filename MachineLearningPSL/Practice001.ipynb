{
 "cells": [
  {
   "cell_type": "code",
   "execution_count": 1,
   "metadata": {
    "collapsed": true
   },
   "outputs": [],
   "source": [
    "import numpy as np\n",
    "import matplotlib.pyplot as plt"
   ]
  },
  {
   "cell_type": "code",
   "execution_count": 3,
   "outputs": [],
   "source": [
    "X = np.random.randn(100, 10)\n",
    "y = np.random.randint(0, 2, 10)\n",
    "w = np.random.randn(10, 1)\n",
    "b = np.random.randn(1, 1)"
   ],
   "metadata": {
    "collapsed": false
   }
  },
  {
   "cell_type": "code",
   "execution_count": 6,
   "outputs": [],
   "source": [
    "# Get the accuracy\n",
    "def get_accuracy(X, y, w, b):\n",
    "    # Get the predictions\n",
    "    y_pred = sigmoid(np.dot(X, w) + b)\n",
    "\n",
    "    # Get the predictions in the form of 0s and 1s\n",
    "    y_pred = np.round(y_pred)\n",
    "\n",
    "    # Get the accuracy\n",
    "    accuracy = np.sum(y_pred == y) / len(y)\n",
    "\n",
    "    # Return the accuracy\n",
    "    return accuracy\n",
    "\n",
    "\n",
    "# Sigmoid function\n",
    "def sigmoid(x):\n",
    "    return 1 / (1 + np.exp(-x))"
   ],
   "metadata": {
    "collapsed": false
   }
  },
  {
   "cell_type": "code",
   "execution_count": 7,
   "outputs": [],
   "source": [
    "# K-fold cross validation\n",
    "def k_fold_cross_validation(X, y, k, epochs, learning_rate):\n",
    "    # Split the data into k folds\n",
    "    X_folds = np.array_split(X, k)\n",
    "    y_folds = np.array_split(y, k)\n",
    "\n",
    "    # Initialize the accuracy list\n",
    "    accuracy = []\n",
    "\n",
    "    # Loop through the folds\n",
    "    for i in range(k):\n",
    "        # Get the test data\n",
    "        X_test = X_folds[i]\n",
    "        y_test = y_folds[i]\n",
    "\n",
    "        # Get the training data\n",
    "        X_train = np.concatenate(X_folds[:i] + X_folds[i + 1:])\n",
    "        y_train = np.concatenate(y_folds[:i] + y_folds[i + 1:])\n",
    "\n",
    "        # Train the model\n",
    "        w, b = train(X_train, y_train, epochs, learning_rate)\n",
    "\n",
    "        # Get the accuracy\n",
    "        accuracy.append(get_accuracy(X_test, y_test, w, b))\n",
    "\n",
    "    # Return the average accuracy\n",
    "    return np.mean(accuracy)"
   ],
   "metadata": {
    "collapsed": false
   }
  },
  {
   "cell_type": "code",
   "execution_count": 8,
   "outputs": [],
   "source": [
    "# Train the model\n",
    "def train(X, y, epochs, learning_rate):\n",
    "    # Initialize the weights and bias\n",
    "    w = np.random.randn(X.shape[1], 1)\n",
    "    b = np.random.randn(1, 1)\n",
    "\n",
    "    # Loop through the epochs\n",
    "    for i in range(epochs):\n",
    "        # Get the predictions\n",
    "        y_pred = sigmoid(np.dot(X, w) + b)\n",
    "\n",
    "        # Calculate the gradient\n",
    "        w_grad = np.dot(X.T, (y_pred - y))\n",
    "        b_grad = np.sum(y_pred - y)\n",
    "\n",
    "        # Update the weights and bias\n",
    "        w -= learning_rate * w_grad\n",
    "        b -= learning_rate * b_grad\n",
    "\n",
    "    # Return the weights and bias\n",
    "    return w, b"
   ],
   "metadata": {
    "collapsed": false
   }
  },
  {
   "cell_type": "code",
   "execution_count": 9,
   "outputs": [
    {
     "ename": "ValueError",
     "evalue": "non-broadcastable output operand with shape (10,1) doesn't match the broadcast shape (10,8)",
     "output_type": "error",
     "traceback": [
      "\u001B[0;31m---------------------------------------------------------------------------\u001B[0m",
      "\u001B[0;31mValueError\u001B[0m                                Traceback (most recent call last)",
      "Input \u001B[0;32mIn [9]\u001B[0m, in \u001B[0;36m<cell line: 2>\u001B[0;34m()\u001B[0m\n\u001B[1;32m      1\u001B[0m \u001B[38;5;66;03m# Evaluate the model\u001B[39;00m\n\u001B[0;32m----> 2\u001B[0m accuracy \u001B[38;5;241m=\u001B[39m \u001B[43mk_fold_cross_validation\u001B[49m\u001B[43m(\u001B[49m\u001B[43mX\u001B[49m\u001B[43m,\u001B[49m\u001B[43m \u001B[49m\u001B[43my\u001B[49m\u001B[43m,\u001B[49m\u001B[43m \u001B[49m\u001B[38;5;241;43m5\u001B[39;49m\u001B[43m,\u001B[49m\u001B[43m \u001B[49m\u001B[38;5;241;43m100\u001B[39;49m\u001B[43m,\u001B[49m\u001B[43m \u001B[49m\u001B[38;5;241;43m0.1\u001B[39;49m\u001B[43m)\u001B[49m\n\u001B[1;32m      3\u001B[0m \u001B[38;5;28mprint\u001B[39m(\u001B[38;5;124m\"\u001B[39m\u001B[38;5;124mAccuracy:\u001B[39m\u001B[38;5;124m\"\u001B[39m, accuracy)\n",
      "Input \u001B[0;32mIn [7]\u001B[0m, in \u001B[0;36mk_fold_cross_validation\u001B[0;34m(X, y, k, epochs, learning_rate)\u001B[0m\n\u001B[1;32m     18\u001B[0m y_train \u001B[38;5;241m=\u001B[39m np\u001B[38;5;241m.\u001B[39mconcatenate(y_folds[:i] \u001B[38;5;241m+\u001B[39m y_folds[i \u001B[38;5;241m+\u001B[39m \u001B[38;5;241m1\u001B[39m:])\n\u001B[1;32m     20\u001B[0m \u001B[38;5;66;03m# Train the model\u001B[39;00m\n\u001B[0;32m---> 21\u001B[0m w, b \u001B[38;5;241m=\u001B[39m \u001B[43mtrain\u001B[49m\u001B[43m(\u001B[49m\u001B[43mX_train\u001B[49m\u001B[43m,\u001B[49m\u001B[43m \u001B[49m\u001B[43my_train\u001B[49m\u001B[43m,\u001B[49m\u001B[43m \u001B[49m\u001B[43mepochs\u001B[49m\u001B[43m,\u001B[49m\u001B[43m \u001B[49m\u001B[43mlearning_rate\u001B[49m\u001B[43m)\u001B[49m\n\u001B[1;32m     23\u001B[0m \u001B[38;5;66;03m# Get the accuracy\u001B[39;00m\n\u001B[1;32m     24\u001B[0m accuracy\u001B[38;5;241m.\u001B[39mappend(get_accuracy(X_test, y_test, w, b))\n",
      "Input \u001B[0;32mIn [8]\u001B[0m, in \u001B[0;36mtrain\u001B[0;34m(X, y, epochs, learning_rate)\u001B[0m\n\u001B[1;32m     14\u001B[0m     b_grad \u001B[38;5;241m=\u001B[39m np\u001B[38;5;241m.\u001B[39msum(y_pred \u001B[38;5;241m-\u001B[39m y)\n\u001B[1;32m     16\u001B[0m     \u001B[38;5;66;03m# Update the weights and bias\u001B[39;00m\n\u001B[0;32m---> 17\u001B[0m     w \u001B[38;5;241m-\u001B[39m\u001B[38;5;241m=\u001B[39m learning_rate \u001B[38;5;241m*\u001B[39m w_grad\n\u001B[1;32m     18\u001B[0m     b \u001B[38;5;241m-\u001B[39m\u001B[38;5;241m=\u001B[39m learning_rate \u001B[38;5;241m*\u001B[39m b_grad\n\u001B[1;32m     20\u001B[0m \u001B[38;5;66;03m# Return the weights and bias\u001B[39;00m\n",
      "\u001B[0;31mValueError\u001B[0m: non-broadcastable output operand with shape (10,1) doesn't match the broadcast shape (10,8)"
     ]
    }
   ],
   "source": [
    "# Evaluate the model\n",
    "accuracy = k_fold_cross_validation(X, y, 5, 100, 0.1)\n",
    "print(\"Accuracy:\", accuracy)"
   ],
   "metadata": {
    "collapsed": false
   }
  },
  {
   "cell_type": "code",
   "execution_count": null,
   "outputs": [],
   "source": [],
   "metadata": {
    "collapsed": false
   }
  }
 ],
 "metadata": {
  "kernelspec": {
   "display_name": "Python 3",
   "language": "python",
   "name": "python3"
  },
  "language_info": {
   "codemirror_mode": {
    "name": "ipython",
    "version": 2
   },
   "file_extension": ".py",
   "mimetype": "text/x-python",
   "name": "python",
   "nbconvert_exporter": "python",
   "pygments_lexer": "ipython2",
   "version": "2.7.6"
  }
 },
 "nbformat": 4,
 "nbformat_minor": 0
}
