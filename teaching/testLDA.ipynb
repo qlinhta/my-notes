{
 "cells": [
  {
   "cell_type": "code",
   "execution_count": 7,
   "metadata": {
    "collapsed": true
   },
   "outputs": [],
   "source": [
    "import numpy as np\n",
    "import pandas as pd\n",
    "import matplotlib.pyplot as plt\n",
    "import seaborn as sns"
   ]
  },
  {
   "cell_type": "code",
   "execution_count": 8,
   "outputs": [],
   "source": [
    "x1 = [0, -1, -2, -1, 1/2, 1, 1, 3/2]\n",
    "x2 = [-1, -1/2, -1, -3/2, 1, 2, 0, 1]\n",
    "\n",
    "X = np.array([x1, x2]).T\n",
    "y = np.array([0, 0, 0, 0, 1, 1, 1, 1])"
   ],
   "metadata": {
    "collapsed": false
   }
  },
  {
   "cell_type": "code",
   "execution_count": 9,
   "outputs": [],
   "source": [
    "df = pd.DataFrame(X, columns=['x1', 'x2'])"
   ],
   "metadata": {
    "collapsed": false
   }
  },
  {
   "cell_type": "code",
   "execution_count": 10,
   "outputs": [],
   "source": [
    "df['y'] = y"
   ],
   "metadata": {
    "collapsed": false
   }
  },
  {
   "cell_type": "code",
   "execution_count": 11,
   "outputs": [
    {
     "data": {
      "text/plain": "    x1   x2  y\n0  0.0 -1.0  0\n1 -1.0 -0.5  0\n2 -2.0 -1.0  0\n3 -1.0 -1.5  0\n4  0.5  1.0  1\n5  1.0  2.0  1\n6  1.0  0.0  1\n7  1.5  1.0  1",
      "text/html": "<div>\n<style scoped>\n    .dataframe tbody tr th:only-of-type {\n        vertical-align: middle;\n    }\n\n    .dataframe tbody tr th {\n        vertical-align: top;\n    }\n\n    .dataframe thead th {\n        text-align: right;\n    }\n</style>\n<table border=\"1\" class=\"dataframe\">\n  <thead>\n    <tr style=\"text-align: right;\">\n      <th></th>\n      <th>x1</th>\n      <th>x2</th>\n      <th>y</th>\n    </tr>\n  </thead>\n  <tbody>\n    <tr>\n      <th>0</th>\n      <td>0.0</td>\n      <td>-1.0</td>\n      <td>0</td>\n    </tr>\n    <tr>\n      <th>1</th>\n      <td>-1.0</td>\n      <td>-0.5</td>\n      <td>0</td>\n    </tr>\n    <tr>\n      <th>2</th>\n      <td>-2.0</td>\n      <td>-1.0</td>\n      <td>0</td>\n    </tr>\n    <tr>\n      <th>3</th>\n      <td>-1.0</td>\n      <td>-1.5</td>\n      <td>0</td>\n    </tr>\n    <tr>\n      <th>4</th>\n      <td>0.5</td>\n      <td>1.0</td>\n      <td>1</td>\n    </tr>\n    <tr>\n      <th>5</th>\n      <td>1.0</td>\n      <td>2.0</td>\n      <td>1</td>\n    </tr>\n    <tr>\n      <th>6</th>\n      <td>1.0</td>\n      <td>0.0</td>\n      <td>1</td>\n    </tr>\n    <tr>\n      <th>7</th>\n      <td>1.5</td>\n      <td>1.0</td>\n      <td>1</td>\n    </tr>\n  </tbody>\n</table>\n</div>"
     },
     "execution_count": 11,
     "metadata": {},
     "output_type": "execute_result"
    }
   ],
   "source": [
    "df"
   ],
   "metadata": {
    "collapsed": false
   }
  },
  {
   "cell_type": "code",
   "execution_count": 12,
   "outputs": [
    {
     "data": {
      "text/plain": "<Figure size 558.875x500 with 1 Axes>",
      "image/png": "[encoded data removed]"
     },
     "metadata": {},
     "output_type": "display_data"
    }
   ],
   "source": [
    "sns.lmplot(x='x1', y='x2', data=df, hue='y', fit_reg=False, scatter_kws={\"s\": 100})\n",
    "plt.show()"
   ],
   "metadata": {
    "collapsed": false
   }
  },
  {
   "cell_type": "code",
   "execution_count": 13,
   "outputs": [],
   "source": [
    "# Calculate the means of the two classes\n",
    "mean_0 = np.mean(X[y==0], axis=0)\n",
    "mean_1 = np.mean(X[y==1], axis=0)"
   ],
   "metadata": {
    "collapsed": false
   }
  },
  {
   "cell_type": "code",
   "execution_count": 14,
   "outputs": [
    {
     "data": {
      "text/plain": "(array([-1., -1.]), array([1., 1.]))"
     },
     "execution_count": 14,
     "metadata": {},
     "output_type": "execute_result"
    }
   ],
   "source": [
    "mean_0, mean_1"
   ],
   "metadata": {
    "collapsed": false
   }
  },
  {
   "cell_type": "code",
   "execution_count": 15,
   "outputs": [],
   "source": [
    "# Calculate the pi0, pi1\n",
    "pi0 = np.sum(y==0) / len(y)\n",
    "pi1 = np.sum(y==1) / len(y)"
   ],
   "metadata": {
    "collapsed": false
   }
  },
  {
   "cell_type": "code",
   "execution_count": 16,
   "outputs": [
    {
     "data": {
      "text/plain": "(0.5, 0.5)"
     },
     "execution_count": 16,
     "metadata": {},
     "output_type": "execute_result"
    }
   ],
   "source": [
    "pi0, pi1"
   ],
   "metadata": {
    "collapsed": false
   }
  },
  {
   "cell_type": "code",
   "execution_count": 19,
   "outputs": [],
   "source": [
    "# Calculate the covariance matrix\n",
    "cov_0 = np.zeros((2, 2))\n",
    "cov_1 = np.zeros((2, 2))\n",
    "\n",
    "for i in range(len(y)):\n",
    "    if y[i] == 0:\n",
    "        cov_0 += np.outer(X[i] - mean_0, X[i] - mean_0)\n",
    "    else:\n",
    "        cov_1 += np.outer(X[i] - mean_1, X[i] - mean_1)\n",
    "\n",
    "cov_0 /= np.sum(y==0)\n",
    "cov_1 /= np.sum(y==1)"
   ],
   "metadata": {
    "collapsed": false
   }
  },
  {
   "cell_type": "code",
   "execution_count": 20,
   "outputs": [
    {
     "data": {
      "text/plain": "array([[0.5  , 0.   ],\n       [0.   , 0.125]])"
     },
     "execution_count": 20,
     "metadata": {},
     "output_type": "execute_result"
    }
   ],
   "source": [
    "cov_0"
   ],
   "metadata": {
    "collapsed": false
   }
  },
  {
   "cell_type": "code",
   "execution_count": 21,
   "outputs": [
    {
     "data": {
      "text/plain": "array([[0.125, 0.   ],\n       [0.   , 0.5  ]])"
     },
     "execution_count": 21,
     "metadata": {},
     "output_type": "execute_result"
    }
   ],
   "source": [
    "cov_1"
   ],
   "metadata": {
    "collapsed": false
   }
  },
  {
   "cell_type": "code",
   "execution_count": 22,
   "outputs": [],
   "source": [
    "# calculate the covariance matrix general\n",
    "cov = (pi0 * cov_0 + pi1 * cov_1)/len(y)"
   ],
   "metadata": {
    "collapsed": false
   }
  },
  {
   "cell_type": "code",
   "execution_count": 23,
   "outputs": [
    {
     "data": {
      "text/plain": "array([[0.0390625, 0.       ],\n       [0.       , 0.0390625]])"
     },
     "execution_count": 23,
     "metadata": {},
     "output_type": "execute_result"
    }
   ],
   "source": [
    "cov"
   ],
   "metadata": {
    "collapsed": false
   }
  },
  {
   "cell_type": "code",
   "execution_count": 24,
   "outputs": [],
   "source": [
    "# Calculate the inverse of the covariance matrix\n",
    "cov_inv = np.linalg.inv(cov)"
   ],
   "metadata": {
    "collapsed": false
   }
  },
  {
   "cell_type": "code",
   "execution_count": 26,
   "outputs": [],
   "source": [
    "# Calculate the weights\n",
    "w = np.dot(cov_inv, (mean_0 - mean_1))\n",
    "# Calculate the bias\n",
    "b = -0.5 * np.dot(np.dot(mean_0.T, cov_inv), mean_0) + 0.5 * np.dot(np.dot(mean_1.T, cov_inv), mean_1) + np.log(pi0/pi1)"
   ],
   "metadata": {
    "collapsed": false
   }
  },
  {
   "cell_type": "code",
   "execution_count": 27,
   "outputs": [
    {
     "data": {
      "text/plain": "(array([-51.2, -51.2]), 0.0)"
     },
     "execution_count": 27,
     "metadata": {},
     "output_type": "execute_result"
    }
   ],
   "source": [
    "w, b"
   ],
   "metadata": {
    "collapsed": false
   }
  },
  {
   "cell_type": "code",
   "execution_count": 34,
   "outputs": [
    {
     "data": {
      "text/plain": "<Figure size 558.875x500 with 1 Axes>",
      "image/png": "[encoded data removed]"
     },
     "metadata": {},
     "output_type": "display_data"
    }
   ],
   "source": [
    "# Calculate the decision boundary\n",
    "x1 = np.linspace(-2, 2, 100)\n",
    "x2 = -(w[0] * x1 + b) / w[1]\n",
    "\n",
    "# Plot the decision boundary\n",
    "sns.lmplot(x='x1', y='x2', data=df, hue='y', fit_reg=False, scatter_kws={\"s\": 100})\n",
    "plt.plot(x1, x2, color='black')\n",
    "plt.show()"
   ],
   "metadata": {
    "collapsed": false
   }
  },
  {
   "cell_type": "code",
   "execution_count": 37,
   "outputs": [
    {
     "name": "stdout",
     "output_type": "stream",
     "text": [
      "Probability of x = [1/2, 1/2] is:  5.809282904332702e-23\n",
      "Class 0\n"
     ]
    }
   ],
   "source": [
    "# Predict the class of x = [1/2, 1/2]\n",
    "x = np.array([1/2, 1/2])\n",
    "y_pred = np.dot(x, w) + b\n",
    "print('Probability of x = [1/2, 1/2] is: ', 1/(1 + np.exp(-y_pred)))\n",
    "if y_pred > 0:\n",
    "    print('Class 1')\n",
    "else:\n",
    "    print('Class 0')"
   ],
   "metadata": {
    "collapsed": false
   }
  },
  {
   "cell_type": "code",
   "execution_count": 38,
   "outputs": [
    {
     "data": {
      "text/plain": "<Figure size 558.875x500 with 1 Axes>",
      "image/png": "[encoded data removed]"
     },
     "metadata": {},
     "output_type": "display_data"
    }
   ],
   "source": [
    "sns.lmplot(x='x1', y='x2', data=df, hue='y', fit_reg=False, scatter_kws={\"s\": 100})\n",
    "plt.plot(x1, x2, color='black')\n",
    "plt.scatter(x[0], x[1], color='green', s=200)\n",
    "plt.show()"
   ],
   "metadata": {
    "collapsed": false
   }
  },
  {
   "cell_type": "code",
   "execution_count": 39,
   "outputs": [],
   "source": [
    "# With mu_0 = [-1, -1, -1], mu_1 = [1, 1, 1], pi0 = 0.5, pi1 = 0.5\n",
    "mu_0 = np.array([-1, -1, -1])\n",
    "mu_1 = np.array([1, 1, 1])\n",
    "pi0 = 0.5\n",
    "pi1 = 0.5\n",
    "sigma = np.array([[2, 1, 1], [1, 1, 2], [1, 2, 2]])\n",
    "\n",
    "# Calculate the weights\n",
    "w = np.dot(np.linalg.inv(sigma), (mu_0 - mu_1))\n",
    "\n",
    "# Calculate the bias\n",
    "b = -0.5 * np.dot(np.dot(mu_0.T, np.linalg.inv(sigma)), mu_0) + 0.5 * np.dot(np.dot(mu_1.T, np.linalg.inv(sigma)), mu_1) + np.log(pi0/pi1)"
   ],
   "metadata": {
    "collapsed": false
   }
  },
  {
   "cell_type": "code",
   "execution_count": 40,
   "outputs": [
    {
     "data": {
      "text/plain": "(array([-0.66666667,  0.        , -0.66666667]), 0.0)"
     },
     "execution_count": 40,
     "metadata": {},
     "output_type": "execute_result"
    }
   ],
   "source": [
    "w, b"
   ],
   "metadata": {
    "collapsed": false
   }
  },
  {
   "cell_type": "code",
   "execution_count": 42,
   "outputs": [
    {
     "name": "stdout",
     "output_type": "stream",
     "text": [
      "Probability of x_test is:  0.33924363123418283\n",
      "Class 0\n"
     ]
    }
   ],
   "source": [
    "# Predict the class of x_test\n",
    "x_test = np.array([1, 0, 0])\n",
    "y_pred = np.dot(x_test, w) + b\n",
    "print('Probability of x_test is: ', 1/(1 + np.exp(-y_pred)))\n",
    "if y_pred > 0:\n",
    "    print('Class 1')\n",
    "else:\n",
    "    print('Class 0')"
   ],
   "metadata": {
    "collapsed": false
   }
  },
  {
   "cell_type": "code",
   "execution_count": null,
   "outputs": [],
   "source": [],
   "metadata": {
    "collapsed": false
   }
  }
 ],
 "metadata": {
  "kernelspec": {
   "display_name": "Python 3",
   "language": "python",
   "name": "python3"
  },
  "language_info": {
   "codemirror_mode": {
    "name": "ipython",
    "version": 2
   },
   "file_extension": ".py",
   "mimetype": "text/x-python",
   "name": "python",
   "nbconvert_exporter": "python",
   "pygments_lexer": "ipython2",
   "version": "2.7.6"
  }
 },
 "nbformat": 4,
 "nbformat_minor": 0
}
