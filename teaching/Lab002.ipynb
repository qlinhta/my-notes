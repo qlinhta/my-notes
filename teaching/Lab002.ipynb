{
 "cells": [
  {
   "cell_type": "code",
   "execution_count": null,
   "metadata": {},
   "outputs": [],
   "source": [
    "# INTRODUCTION TO PYTHON VARIABLES, DATA TYPES, AND OPERATORS"
   ]
  },
  {
   "cell_type": "code",
   "execution_count": 3,
   "outputs": [
    {
     "data": {
      "text/plain": "(1.0, 0.0)"
     },
     "execution_count": 3,
     "metadata": {},
     "output_type": "execute_result"
    }
   ],
   "source": [
    "float(True), float(False)"
   ],
   "metadata": {
    "collapsed": false
   }
  },
  {
   "attachments": {},
   "cell_type": "markdown",
   "metadata": {},
   "source": [
    "### Variables assignment"
   ]
  },
  {
   "cell_type": "code",
   "execution_count": 4,
   "metadata": {},
   "outputs": [
    {
     "name": "stdout",
     "output_type": "stream",
     "text": [
      "10\n"
     ]
    }
   ],
   "source": [
    "x = 10\n",
    "\n",
    "print(x)"
   ]
  },
  {
   "cell_type": "code",
   "execution_count": 7,
   "metadata": {},
   "outputs": [
    {
     "name": "stdout",
     "output_type": "stream",
     "text": [
      "John <class 'str'>\n"
     ]
    }
   ],
   "source": [
    "name = \"John\"\n",
    "\n",
    "print(name, type(name))"
   ]
  },
  {
   "cell_type": "code",
   "execution_count": 8,
   "metadata": {},
   "outputs": [
    {
     "name": "stdout",
     "output_type": "stream",
     "text": [
      "3.14 <class 'float'>\n"
     ]
    }
   ],
   "source": [
    "pi = 3.14\n",
    "\n",
    "print(pi, type(pi))"
   ]
  },
  {
   "cell_type": "code",
   "execution_count": 9,
   "metadata": {},
   "outputs": [
    {
     "name": "stdout",
     "output_type": "stream",
     "text": [
      "True <class 'bool'>\n"
     ]
    }
   ],
   "source": [
    "is_raining = True\n",
    "\n",
    "print(is_raining, type(is_raining))"
   ]
  },
  {
   "cell_type": "code",
   "execution_count": 15,
   "metadata": {},
   "outputs": [
    {
     "name": "stdout",
     "output_type": "stream",
     "text": [
      "[1, 2, 3, 4, 5] <class 'list'>\n"
     ]
    }
   ],
   "source": [
    "numbers = [1, 2, 3, 4, 5]\n",
    "print(numbers, type(numbers))"
   ]
  },
  {
   "cell_type": "code",
   "execution_count": 14,
   "metadata": {},
   "outputs": [
    {
     "name": "stdout",
     "output_type": "stream",
     "text": [
      "(10, 20) <class 'tuple'>\n"
     ]
    }
   ],
   "source": [
    "coordinates = (10, 20)\n",
    "print(coordinates, type(coordinates))"
   ]
  },
  {
   "cell_type": "code",
   "execution_count": 13,
   "metadata": {},
   "outputs": [
    {
     "name": "stdout",
     "output_type": "stream",
     "text": [
      "{'name': 'John', 'age': 20, 'courses': ['Math', 'Physics']} <class 'dict'>\n"
     ]
    }
   ],
   "source": [
    "student = {'name': 'John', 'age': 20, 'courses': ['Math', 'Physics']}\n",
    "print(student, type(student))"
   ]
  },
  {
   "cell_type": "code",
   "execution_count": 18,
   "metadata": {},
   "outputs": [
    {
     "name": "stdout",
     "output_type": "stream",
     "text": [
      "Hello, Linh\n"
     ]
    }
   ],
   "source": [
    "def greet(name):\n",
    "    return \"Hello, \" + name\n",
    "greeting = greet(\"Linh\")\n",
    "print(greeting)"
   ]
  },
  {
   "cell_type": "code",
   "execution_count": 22,
   "metadata": {},
   "outputs": [
    {
     "name": "stdout",
     "output_type": "stream",
     "text": [
      "23\n"
     ]
    }
   ],
   "source": [
    "x = 10 # x = 10\n",
    "x = x + 5 # x = 10 + 5\n",
    "x = x + 8 # x 15, x = 23\n",
    "print(x)"
   ]
  },
  {
   "attachments": {},
   "cell_type": "markdown",
   "metadata": {},
   "source": [
    "### Variable types"
   ]
  },
  {
   "cell_type": "code",
   "execution_count": 25,
   "metadata": {},
   "outputs": [
    {
     "name": "stdout",
     "output_type": "stream",
     "text": [
      "Type of x: <class 'int'>\n",
      "Type of y: <class 'int'>\n"
     ]
    }
   ],
   "source": [
    "# int (integer): A whole number, such as 1, 100, or -5.\n",
    "\n",
    "x = 10\n",
    "y = -100\n",
    "\n",
    "print(\"Type of x:\", type(x))\n",
    "print(\"Type of y:\", type(y))"
   ]
  },
  {
   "cell_type": "code",
   "execution_count": 26,
   "metadata": {},
   "outputs": [
    {
     "name": "stdout",
     "output_type": "stream",
     "text": [
      "Type of x: <class 'float'>\n",
      "Type of y: <class 'float'>\n"
     ]
    }
   ],
   "source": [
    "# float (floating point number): A number with a decimal point, such as 3.14, 0.01, or -2.5.\n",
    "\n",
    "x = 3.14\n",
    "y = -0.01\n",
    "\n",
    "print(\"Type of x:\", type(x))\n",
    "print(\"Type of y:\", type(y))"
   ]
  },
  {
   "cell_type": "code",
   "execution_count": 27,
   "metadata": {},
   "outputs": [
    {
     "name": "stdout",
     "output_type": "stream",
     "text": [
      "Type of x: <class 'str'>\n",
      "Type of y: <class 'str'>\n"
     ]
    }
   ],
   "source": [
    "# str (string): A sequence of characters, such as \"hello\", \"abc123\", or \"I am a string\". Strings can be enclosed in either single or double quotes.\n",
    "\n",
    "x = \"hello\"\n",
    "y = \"red\"\n",
    "\n",
    "print(\"Type of x:\", type(x))\n",
    "print(\"Type of y:\", type(y))"
   ]
  },
  {
   "cell_type": "code",
   "execution_count": 28,
   "metadata": {},
   "outputs": [
    {
     "name": "stdout",
     "output_type": "stream",
     "text": [
      "Type of x: <class 'bool'>\n",
      "Type of y: <class 'bool'>\n"
     ]
    }
   ],
   "source": [
    "# bool (Boolean): A value that can be either True or False.\n",
    "\n",
    "x = True\n",
    "y = False\n",
    "\n",
    "print(\"Type of x:\", type(x))\n",
    "print(\"Type of y:\", type(y))"
   ]
  },
  {
   "attachments": {},
   "cell_type": "markdown",
   "metadata": {},
   "source": [
    "### Operation in Python"
   ]
  },
  {
   "cell_type": "code",
   "execution_count": 29,
   "metadata": {},
   "outputs": [
    {
     "name": "stdout",
     "output_type": "stream",
     "text": [
      "15\n",
      "5\n",
      "50\n",
      "2.0\n",
      "0\n",
      "100000\n"
     ]
    }
   ],
   "source": [
    "# In Python, you can perform various operations on different data types. Here are some examples:\n",
    "'''\n",
    "Arithmetic operations:\n",
    "+ (addition)\n",
    "- (subtraction)\n",
    "* (multiplication)\n",
    "/ (division)\n",
    "% (modulus)\n",
    "** (exponentiation)\n",
    "'''\n",
    "\n",
    "x = 10\n",
    "y = 5\n",
    "\n",
    "# Addition\n",
    "print(x + y)  # Output: 15\n",
    "\n",
    "# Subtraction\n",
    "print(x - y)  # Output: 5\n",
    "\n",
    "# Multiplication\n",
    "print(x * y)  # Output: 50\n",
    "\n",
    "# Division\n",
    "print(x / y)  # Output: 2.0\n",
    "\n",
    "# Modulus\n",
    "print(x % y)  # Output: 0\n",
    "\n",
    "# Exponentiation\n",
    "print(x ** y)  # Output: 100000"
   ]
  },
  {
   "cell_type": "code",
   "execution_count": 30,
   "metadata": {},
   "outputs": [
    {
     "name": "stdout",
     "output_type": "stream",
     "text": [
      "False\n",
      "True\n",
      "True\n",
      "False\n",
      "True\n",
      "False\n"
     ]
    }
   ],
   "source": [
    "'''\n",
    "Comparison operations:\n",
    "== (equal to)\n",
    "!= (not equal to)\n",
    "> (greater than)\n",
    "< (less than)\n",
    ">= (greater than or equal to)\n",
    "<= (less than or equal to)\n",
    "'''\n",
    "\n",
    "x = 10\n",
    "y = 5\n",
    "\n",
    "# Equal to\n",
    "print(x == y)  # Output: False\n",
    "\n",
    "# Not equal to\n",
    "print(x != y)  # Output: True\n",
    "\n",
    "# Greater than\n",
    "print(x > y)  # Output: True\n",
    "\n",
    "# Less than\n",
    "print(x < y)  # Output: False\n",
    "\n",
    "# Greater than or equal to\n",
    "print(x >= y)  # Output: True\n",
    "\n",
    "# Less than or equal to\n",
    "print(x <= y)  # Output: False"
   ]
  },
  {
   "cell_type": "code",
   "execution_count": 40,
   "metadata": {},
   "outputs": [
    {
     "name": "stdout",
     "output_type": "stream",
     "text": [
      "False\n",
      "True\n",
      "False\n"
     ]
    }
   ],
   "source": [
    "'''\n",
    "Logical operations:\n",
    "and (returns True if both operands are True, False otherwise)\n",
    "or (returns True if at least one operand is True, False otherwise)\n",
    "not (negates a Boolean value)\n",
    "'''\n",
    "\n",
    "x = True\n",
    "y = False\n",
    "\n",
    "# and\n",
    "print(x and y)  # Output: False\n",
    "\n",
    "# or\n",
    "print(x or y)  # Output: True\n",
    "\n",
    "# not\n",
    "print(not x)  # Output: False"
   ]
  },
  {
   "cell_type": "code",
   "execution_count": 45,
   "outputs": [
    {
     "name": "stdout",
     "output_type": "stream",
     "text": [
      "True\n"
     ]
    }
   ],
   "source": [
    "print(not 7 < 5)"
   ],
   "metadata": {
    "collapsed": false
   }
  },
  {
   "cell_type": "code",
   "execution_count": 46,
   "metadata": {},
   "outputs": [
    {
     "name": "stdout",
     "output_type": "stream",
     "text": [
      "False\n",
      "True\n"
     ]
    }
   ],
   "source": [
    "'''\n",
    "Membership operations:\n",
    "in (returns True if an element is in a sequence, False otherwise)\n",
    "not in (returns True if an element is not in a sequence, False otherwise)\n",
    "'''\n",
    "\n",
    "x = [1, 2, 3, 4, 5]\n",
    "y = 10\n",
    "\n",
    "# in\n",
    "print(y in x)  # Output: False\n",
    "\n",
    "# not in\n",
    "print(y not in x)  # Output: True"
   ]
  },
  {
   "cell_type": "code",
   "execution_count": null,
   "metadata": {},
   "outputs": [],
   "source": [
    "# String concatenation\n",
    "# In Python, you can use the + operator to concatenate (join) two or more strings. Here are some examples"
   ]
  },
  {
   "cell_type": "code",
   "execution_count": 47,
   "metadata": {},
   "outputs": [
    {
     "name": "stdout",
     "output_type": "stream",
     "text": [
      "John is 20 years old.\n",
      "Hello, John!\n"
     ]
    }
   ],
   "source": [
    "# Concatenate two strings\n",
    "name = \"John\"\n",
    "age = 20\n",
    "\n",
    "output = name + \" is \" + str(age) + \" years old.\"\n",
    "print(output)  # Output: \"John is 20 years old.\"\n",
    "\n",
    "# Concatenate three strings\n",
    "greeting = \"Hello\"\n",
    "name = \"John\"\n",
    "exclamation = \"!\"\n",
    "\n",
    "output = greeting + \", \" + name + exclamation\n",
    "print(output)  # Output: \"Hello, John!\""
   ]
  },
  {
   "cell_type": "code",
   "execution_count": 48,
   "metadata": {},
   "outputs": [
    {
     "name": "stdout",
     "output_type": "stream",
     "text": [
      "John is 20 years old.\n",
      "The value of pi is 3.14\n"
     ]
    }
   ],
   "source": [
    "'''\n",
    "You can also use the + operator to concatenate a string with another data type, such as an integer or a float. \n",
    "In this case, you need to use the str() function to convert the value to a string.\n",
    "'''\n",
    "\n",
    "# Concatenate a string and an integer\n",
    "name = \"John\"\n",
    "age = 20\n",
    "\n",
    "output = name + \" is \" + str(age) + \" years old.\"\n",
    "print(output)  # Output: \"John is 20 years old.\"\n",
    "\n",
    "# Concatenate a string and a float\n",
    "pi = 3.14\n",
    "output = \"The value of pi is \" + str(pi)\n",
    "print(output)  # Output: \"The value of pi is 3.14\""
   ]
  },
  {
   "cell_type": "code",
   "execution_count": 51,
   "metadata": {},
   "outputs": [
    {
     "name": "stdout",
     "output_type": "stream",
     "text": [
      "John is 20 years old.\n"
     ]
    }
   ],
   "source": [
    "# You can also use the f-strings feature introduced in Python 3.6 to concatenate strings and variables in a more concise and readable way.\n",
    "\n",
    "name = \"John\"\n",
    "age = 20\n",
    "print(f\"{name} is {age} years old.\")"
   ]
  },
  {
   "attachments": {},
   "cell_type": "markdown",
   "metadata": {},
   "source": [
    "### Some built-in functions"
   ]
  },
  {
   "cell_type": "code",
   "execution_count": 53,
   "metadata": {},
   "outputs": [
    {
     "name": "stdout",
     "output_type": "stream",
     "text": [
      "Minimum value: 1\n",
      "Maximum value: 10\n"
     ]
    }
   ],
   "source": [
    "# Find the minimum and maximum value in a list\n",
    "numbers = [10, 5, 8, 1, 7, 3]\n",
    "\n",
    "min_value = min(numbers)\n",
    "max_value = max(numbers)\n",
    "\n",
    "print(f\"Minimum value: {min_value}\")  # Output: \"Minimum value: 1\"\n",
    "print(f\"Maximum value: {max_value}\")  # Output: \"Maximum value: 10\""
   ]
  },
  {
   "cell_type": "code",
   "execution_count": 54,
   "metadata": {},
   "outputs": [
    {
     "name": "stdout",
     "output_type": "stream",
     "text": [
      "Minimum character: a\n",
      "Maximum character: d\n"
     ]
    }
   ],
   "source": [
    "# You can also use the min() and max() functions to find the minimum and maximum value in a string. \n",
    "# In this case, the function will return the character with the minimum or maximum ASCII value.\n",
    "\n",
    "# Find the minimum and maximum character in a string\n",
    "string = \"abcd\"\n",
    "\n",
    "min_char = min(string)\n",
    "max_char = max(string)\n",
    "\n",
    "print(f\"Minimum character: {min_char}\")  # Output: \"Minimum character: a\"\n",
    "print(f\"Maximum character: {max_char}\")  # Output: \"Maximum character: d\""
   ]
  },
  {
   "cell_type": "code",
   "execution_count": 55,
   "metadata": {},
   "outputs": [
    {
     "name": "stdout",
     "output_type": "stream",
     "text": [
      "10 <class 'str'>\n",
      "3.14 <class 'str'>\n"
     ]
    }
   ],
   "source": [
    "# str() is a built-in function that converts a value to a string.\n",
    "\n",
    "# Convert an integer to a string\n",
    "x = 10\n",
    "x_str = str(x)\n",
    "print(x_str, type(x_str))  # Output: \"10\"\n",
    "\n",
    "# Convert a float to a string\n",
    "y = 3.14\n",
    "y_str = str(y)\n",
    "print(y_str, type(y_str))  # Output: \"3.14\""
   ]
  },
  {
   "cell_type": "code",
   "execution_count": 56,
   "metadata": {},
   "outputs": [
    {
     "name": "stdout",
     "output_type": "stream",
     "text": [
      "Hello, Man!\n"
     ]
    }
   ],
   "source": [
    "# input(): Reads a line of input from the user and returns it as a string.\n",
    "\n",
    "# Read a line of input from the user\n",
    "name = input(\"Enter your name: \")\n",
    "print(f\"Hello, {name}!\")"
   ]
  },
  {
   "cell_type": "code",
   "execution_count": 57,
   "metadata": {},
   "outputs": [
    {
     "name": "stdout",
     "output_type": "stream",
     "text": [
      "3\n",
      "3.14\n"
     ]
    }
   ],
   "source": [
    "# round(): Rounds a floating point number to a specified number of decimal places.\n",
    "\n",
    "# Round a float to the nearest integer\n",
    "x = 3.14\n",
    "x_rounded = round(x)\n",
    "print(x_rounded)  # Output: 3\n",
    "\n",
    "# Round a float to two decimal places\n",
    "y = 3.14159\n",
    "y_rounded = round(y, 2)\n",
    "print(y_rounded)  # Output: 3.14"
   ]
  },
  {
   "cell_type": "code",
   "execution_count": 60,
   "metadata": {},
   "outputs": [
    {
     "name": "stdout",
     "output_type": "stream",
     "text": [
      "13\n",
      "5\n"
     ]
    }
   ],
   "source": [
    "# len(): Returns the length of a sequence (such as a string, a list, or a tuple).\n",
    "\n",
    "# Find the length of a string\n",
    "string = \"Hello, world!\"\n",
    "string_length = len(string)\n",
    "print(string_length)  # Output: 13\n",
    "\n",
    "# Find the length of a list\n",
    "numbers = [1, 2, 3, 4, 5]\n",
    "numbers_length = len(numbers)\n",
    "print(numbers_length)  # Output: 5"
   ]
  },
  {
   "attachments": {},
   "cell_type": "markdown",
   "metadata": {},
   "source": [
    "### If/Else Statement"
   ]
  },
  {
   "cell_type": "code",
   "execution_count": null,
   "metadata": {},
   "outputs": [],
   "source": [
    "# Basic if/else statement\n",
    "x = 10\n",
    "\n",
    "if x > 0:\n",
    "    print(\"x is positive\")\n",
    "else:\n",
    "    print(\"x is not positive\")\n",
    "\n",
    "# Output: \"x is positive\""
   ]
  },
  {
   "cell_type": "code",
   "execution_count": null,
   "metadata": {},
   "outputs": [],
   "source": [
    "# If/elif/else statement\n",
    "x = 10\n",
    "\n",
    "if x > 0:\n",
    "    print(\"x is positive\")\n",
    "elif x == 0:\n",
    "    print(\"x is zero\")\n",
    "else:\n",
    "    print(\"x is negative\")\n",
    "\n",
    "# Output: \"x is positive\""
   ]
  },
  {
   "cell_type": "code",
   "execution_count": null,
   "metadata": {},
   "outputs": [],
   "source": [
    "# Nested if/else statement\n",
    "x = 10\n",
    "y = 5\n",
    "\n",
    "if x > y:\n",
    "    if x > 0:\n",
    "        print(\"x is positive and greater than y\")\n",
    "    else:\n",
    "        print(\"x is negative and greater than y\")\n",
    "else:\n",
    "    if x > 0:\n",
    "        print(\"x is positive and less than or equal to y\")\n",
    "    else:\n",
    "        print(\"x is negative and less than or equal to y\")\n",
    "\n",
    "# Output: \"x is positive and greater than y\""
   ]
  },
  {
   "cell_type": "code",
   "execution_count": null,
   "metadata": {},
   "outputs": [],
   "source": [
    "# Check if a number is prime\n",
    "\n",
    "\"\"\"\n",
    "This function first checks if x is less than 2, and returns False if that is the case.\n",
    "If x is 2 or greater, the function iterates over the range 2 to x, and checks if x is divisible by each number in the range.\n",
    "If x is divisible by any of these numbers, the function returns False.\n",
    "If the loop completes without finding a divisor, the function returns True.\n",
    "\"\"\"\n",
    "def is_prime(x):\n",
    "    if x < 2:\n",
    "        return False\n",
    "    for i in range(2, x):\n",
    "        if x % i == 0:\n",
    "            return False\n",
    "    return True\n",
    "\n",
    "# Test the is_prime() function\n",
    "for i in range(10):\n",
    "    print(f\"{i}: {is_prime(i)}\")"
   ]
  },
  {
   "attachments": {},
   "cell_type": "markdown",
   "metadata": {},
   "source": [
    "### For/while loop"
   ]
  },
  {
   "cell_type": "code",
   "execution_count": null,
   "metadata": {},
   "outputs": [],
   "source": [
    "# Define a list of numbers\n",
    "numbers = [1, 2, 3, 4, 5]\n",
    "\n",
    "# Use a for loop to iterate over the list\n",
    "for number in numbers:\n",
    "    # Print each element\n",
    "    print(number)\n",
    "\n",
    "# Output:\n",
    "# 1\n",
    "# 2\n",
    "# 3\n",
    "# 4\n",
    "# 5"
   ]
  },
  {
   "cell_type": "code",
   "execution_count": null,
   "metadata": {},
   "outputs": [],
   "source": [
    "# Use a for loop to iterate over a range of numbers\n",
    "for i in range(1, 6):\n",
    "    # Print the square of each number\n",
    "    print(i**2)\n",
    "\n",
    "# Output:\n",
    "# 1\n",
    "# 4\n",
    "# 9\n",
    "# 16\n",
    "# 25"
   ]
  },
  {
   "cell_type": "code",
   "execution_count": null,
   "metadata": {},
   "outputs": [],
   "source": [
    "# Initialize a counter variable\n",
    "i = 10\n",
    "\n",
    "# Use a while loop to count down from 10\n",
    "while i > 0:\n",
    "    # Print the current value of i\n",
    "    print(i)\n",
    "    # Decrement i\n",
    "    i -= 1"
   ]
  },
  {
   "cell_type": "code",
   "execution_count": null,
   "metadata": {},
   "outputs": [],
   "source": [
    "# Open a file in read mode\n",
    "with open(\"file.txt\", \"r\") as f:\n",
    "    # Use a while loop to read lines from the file\n",
    "    line = f.readline()\n",
    "    while line:\n",
    "        # Print the line\n",
    "        print(line, end=\"\")\n",
    "        # Read the next line\n",
    "        line = f.readline()"
   ]
  },
  {
   "cell_type": "code",
   "execution_count": null,
   "metadata": {},
   "outputs": [],
   "source": []
  }
 ],
 "metadata": {
  "kernelspec": {
   "display_name": "Python 3",
   "language": "python",
   "name": "python3"
  },
  "language_info": {
   "codemirror_mode": {
    "name": "ipython",
    "version": 3
   },
   "file_extension": ".py",
   "mimetype": "text/x-python",
   "name": "python",
   "nbconvert_exporter": "python",
   "pygments_lexer": "ipython3",
   "version": "3.11.1"
  },
  "orig_nbformat": 4,
  "vscode": {
   "interpreter": {
    "hash": "5c7b89af1651d0b8571dde13640ecdccf7d5a6204171d6ab33e7c296e100e08a"
   }
  }
 },
 "nbformat": 4,
 "nbformat_minor": 2
}
