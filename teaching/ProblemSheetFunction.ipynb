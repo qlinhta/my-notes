{
 "cells": [
  {
   "attachments": {},
   "cell_type": "markdown",
   "metadata": {},
   "source": [
    "### If and Else Statement"
   ]
  },
  {
   "cell_type": "code",
   "execution_count": 2,
   "metadata": {},
   "outputs": [],
   "source": [
    "'''\n",
    "1. Write a program that prints \"x is greater than y\" if the variable \"x\" is greater than the variable \"y\".\n",
    "'''\n",
    "\n",
    "def greater_than(x,y):\n",
    "    if x < y:\n",
    "        print(\"x is greater than y\")\n",
    "    else:\n",
    "        print(\"x is not greater than y\")"
   ]
  },
  {
   "cell_type": "code",
   "execution_count": 4,
   "outputs": [
    {
     "name": "stdout",
     "output_type": "stream",
     "text": [
      "x is greater than y\n"
     ]
    }
   ],
   "source": [
    "greater_than(5, 6)"
   ],
   "metadata": {
    "collapsed": false
   }
  },
  {
   "cell_type": "code",
   "execution_count": 5,
   "metadata": {},
   "outputs": [
    {
     "data": {
      "text/plain": "False"
     },
     "execution_count": 5,
     "metadata": {},
     "output_type": "execute_result"
    }
   ],
   "source": [
    "'''\n",
    "2. Write a program that assigns the value of \"True\" to the variable \"result\" if the variable \"x\" is equal to the variable \"y\", and \"False\" otherwise.\n",
    "'''\n",
    "\n",
    "def equal_to(x,y):\n",
    "    if x == y:\n",
    "        result = True\n",
    "    else:\n",
    "        result = False\n",
    "    return result\n",
    "\n",
    "equal_to(5, 6)"
   ]
  },
  {
   "cell_type": "code",
   "execution_count": 6,
   "metadata": {},
   "outputs": [
    {
     "data": {
      "text/plain": "True"
     },
     "execution_count": 6,
     "metadata": {},
     "output_type": "execute_result"
    }
   ],
   "source": [
    "'''\n",
    "3. Write a program that assigns the value of \"True\" to the variable \"result\" if the variable \"x\" is not equal to the variable \"y\", and \"False\" otherwise.\n",
    "'''\n",
    "\n",
    "def not_equal_to(x,y):\n",
    "    if x != y:\n",
    "        result = True\n",
    "    else:\n",
    "        result = False\n",
    "    return result\n",
    "\n",
    "not_equal_to(5, 6)"
   ]
  },
  {
   "cell_type": "code",
   "execution_count": 7,
   "metadata": {},
   "outputs": [
    {
     "name": "stdout",
     "output_type": "stream",
     "text": [
      "Odd\n"
     ]
    }
   ],
   "source": [
    "'''\n",
    "4. Write a program that checks if a given number is even or odd using if-else.\n",
    "'''\n",
    "\n",
    "def even_or_odd(x):\n",
    "    if x % 2 == 0:\n",
    "        print(\"Even\")\n",
    "    else:\n",
    "        print(\"Odd\")\n",
    "\n",
    "even_or_odd(5)"
   ]
  },
  {
   "cell_type": "code",
   "execution_count": 5,
   "metadata": {},
   "outputs": [],
   "source": [
    "'''\n",
    "5. Write a program that checks if a given string is a palindrome or not using if-else.\n",
    "'''\n",
    "\n",
    "# A palindrome is a word, phrase, number, or other sequence of characters which reads the same backward or forward.\n",
    "# For example, \"madam\", \"racecgr\", \"12321\", \"kayak\", \"noon\", \"level\", \"refer\", \"rotator\", \"solos\", \"stats\", \"tenet\", \"wow\", etc.\n",
    "\n",
    "def palindrome(x):\n",
    "    for i in range(len(x)):\n",
    "        if x[i] != x[-i-1]:\n",
    "            print(\"Not a palindrome\")\n",
    "            break\n",
    "    else:\n",
    "        print(\"Palindrome\")"
   ]
  },
  {
   "cell_type": "code",
   "execution_count": 9,
   "metadata": {},
   "outputs": [
    {
     "name": "stdout",
     "output_type": "stream",
     "text": [
      "Leap year\n"
     ]
    }
   ],
   "source": [
    "'''\n",
    "6. Write a program that checks if a given year is a leap year or not using if-else.\n",
    "'''\n",
    "\n",
    "# A leap year is a year that is divisible by 4, but not divisible by 100, unless it is also divisible by 400.\n",
    "# For example, 1992, 1996, 2000, 2004, 2008, 2012, 2016, 2020, 2024, 2028, etc.\n",
    "\n",
    "def leap_year(x):\n",
    "    if x % 4 == 0 and x % 100 != 0 or x % 400 == 0:\n",
    "        print(\"Leap year\")\n",
    "    else:\n",
    "        print(\"Not a leap year\")\n",
    "\n",
    "leap_year(2020)"
   ]
  },
  {
   "cell_type": "code",
   "execution_count": 12,
   "metadata": {},
   "outputs": [
    {
     "name": "stdout",
     "output_type": "stream",
     "text": [
      "Vowel\n"
     ]
    }
   ],
   "source": [
    "'''\n",
    "7. Write a program that checks if a given character is a vowel or a consonant using if-else.\n",
    "'''\n",
    "\n",
    "def vowel_or_consonant(x):\n",
    "    if x in \"ueoai\":\n",
    "        print(\"Vowel\")\n",
    "    else:\n",
    "        print(\"Consonant\")\n",
    "\n",
    "vowel_or_consonant(\"a\")"
   ]
  },
  {
   "cell_type": "code",
   "execution_count": 16,
   "metadata": {},
   "outputs": [
    {
     "name": "stdout",
     "output_type": "stream",
     "text": [
      "Does not contain\n"
     ]
    }
   ],
   "source": [
    "'''\n",
    "8. Write a program that checks if a given string contains a specific substring using if-else.\n",
    "'''\n",
    "\n",
    "# For example, \"Python\" contains \"Py\", \"on\", \"Pyt\", \"hon\", \"Pyth\", \"thon\", \"Pytho\", \"thon\", \"Python\", etc.\n",
    "# Idea is to solve this problem using a for loop and the range() function, and the (in) operator.\n",
    "\n",
    "def contains(x,y):\n",
    "    if y in x:\n",
    "        print(\"Contains\")\n",
    "    else:\n",
    "        print(\"Does not contain\")\n",
    "\n",
    "contains(\"Python\", \"H\")"
   ]
  },
  {
   "cell_type": "code",
   "execution_count": 18,
   "metadata": {},
   "outputs": [
    {
     "name": "stdout",
     "output_type": "stream",
     "text": [
      "Does not contain\n"
     ]
    }
   ],
   "source": [
    "'''\n",
    "9. Write a program that checks if a given list contains a specific element using if-else.\n",
    "'''\n",
    "\n",
    "# For example, [1, 2, 3, 4, 5] contains 1, 2, 3, 4, 5, etc.\n",
    "\n",
    "def contains(x,y):\n",
    "    if y in x:\n",
    "        print(\"Contains\")\n",
    "    else:\n",
    "        print(\"Does not contain\")\n",
    "\n",
    "contains([1, 2, 3, 4, 5], 6)"
   ]
  },
  {
   "cell_type": "code",
   "execution_count": 36,
   "metadata": {},
   "outputs": [
    {
     "name": "stdout",
     "output_type": "stream",
     "text": [
      "AM\n",
      "PM\n"
     ]
    }
   ],
   "source": [
    "'''\n",
    "10. Write a program that checks if a given time is AM or PM using if-else.\n",
    "'''\n",
    "\n",
    "# For example, 12:00 AM, 12:00 PM, 1:00 AM, 1:00 PM, 2:00 AM, 2:00 PM, etc.\n",
    "\n",
    "def am_or_pm(x):\n",
    "    if x[-2:] == \"AM\":\n",
    "        print(\"AM\")\n",
    "    else:\n",
    "        print(\"PM\")\n",
    "\n",
    "def am_or_pm2(x):\n",
    "    am = 'AM'\n",
    "    if am in x:\n",
    "        print(\"AM\")\n",
    "    else:\n",
    "        print(\"PM\")\n",
    "\n",
    "am_or_pm(\"12:00 AM\")\n",
    "am_or_pm2(\"12:00 PM\")"
   ]
  },
  {
   "attachments": {},
   "cell_type": "markdown",
   "metadata": {},
   "source": [
    "### For or While Loop"
   ]
  },
  {
   "cell_type": "code",
   "execution_count": 38,
   "metadata": {},
   "outputs": [
    {
     "name": "stdout",
     "output_type": "stream",
     "text": [
      "2\n",
      "4\n",
      "6\n",
      "8\n",
      "10\n"
     ]
    }
   ],
   "source": [
    "'''\n",
    "1. Write a program that uses a while loop to print the even numbers from 1 to 10.\n",
    "'''\n",
    "list_numbers = [1, 2, 3, 4, 5, 6, 7, 8, 9, 10]\n",
    "def even_numbers(list_numbers):\n",
    "    for i in list_numbers:\n",
    "        if i % 2 == 0:\n",
    "            print(i)\n",
    "\n",
    "even_numbers(list_numbers)"
   ]
  },
  {
   "cell_type": "code",
   "execution_count": 39,
   "metadata": {},
   "outputs": [
    {
     "name": "stdout",
     "output_type": "stream",
     "text": [
      "55\n"
     ]
    }
   ],
   "source": [
    "'''\n",
    "2. Write a program that uses a for loop to print the sum of the numbers from 1 to 10.\n",
    "'''\n",
    "\n",
    "def sum_of_numbers():\n",
    "    sum = 0\n",
    "    for i in range(1, 11):\n",
    "        sum += i\n",
    "    print(sum)\n",
    "\n",
    "sum_of_numbers()"
   ]
  },
  {
   "cell_type": "code",
   "execution_count": 40,
   "metadata": {},
   "outputs": [
    {
     "name": "stdout",
     "output_type": "stream",
     "text": [
      "1\n",
      "2\n",
      "3\n",
      "4\n",
      "5\n"
     ]
    }
   ],
   "source": [
    "''' \n",
    "3. Write a program that uses a for loop to iterate through a list and print each element.\n",
    "'''\n",
    "\n",
    "def iterate_list_for(x):\n",
    "    for i in x:\n",
    "        print(i)\n",
    "\n",
    "iterate_list_for([1, 2, 3, 4, 5])"
   ]
  },
  {
   "cell_type": "code",
   "execution_count": 14,
   "metadata": {},
   "outputs": [],
   "source": [
    "''' \n",
    "4. Write a program that uses a while loop to iterate through a list and print each element.\n",
    "'''\n",
    "\n",
    "def iterate_list_while(x):\n",
    "    i = 0\n",
    "    while i < len(x):\n",
    "        print(x[i])\n",
    "        i += 1"
   ]
  },
  {
   "cell_type": "code",
   "execution_count": 61,
   "metadata": {},
   "outputs": [
    {
     "name": "stdout",
     "output_type": "stream",
     "text": [
      "a\n",
      "b\n",
      "c\n",
      "d\n",
      "e\n"
     ]
    }
   ],
   "source": [
    "''' \n",
    "5. Write a program that uses a for loop to find the largest element in a list.\n",
    "'''\n",
    "\n",
    "def largest_element_for(x):\n",
    "    for i in x:\n",
    "        if i == max(x):\n",
    "            print(i)\n",
    "\n",
    "po = [\"a\", \"b\", \"c\", \"d\", \"e\"]\n",
    "length = len(po)\n",
    "for i in range(length): # (0, length)\n",
    "    print(po[i])"
   ]
  },
  {
   "cell_type": "code",
   "execution_count": 64,
   "metadata": {},
   "outputs": [
    {
     "name": "stdout",
     "output_type": "stream",
     "text": [
      "5\n"
     ]
    }
   ],
   "source": [
    "'''\n",
    "6. Write a program that uses a while loop to find the largest element in a list.\n",
    "'''\n",
    "\n",
    "def largest_element_while(x):\n",
    "    i = 0\n",
    "    while i < len(x):\n",
    "        if x[i] == max(x):\n",
    "            print(x[i])\n",
    "        i += 1\n",
    "\n",
    "largest_element_while([1, 2, 3, 4, 5])"
   ]
  },
  {
   "cell_type": "code",
   "execution_count": 68,
   "metadata": {},
   "outputs": [],
   "source": [
    "''' \n",
    "8. Write a program that uses a for loop to find the second largest element in a list.\n",
    "9. Write a program that uses a while loop to find the second largest element in a list.\n",
    "'''\n",
    "\n",
    "\n",
    "def second_largest_element_for(x):\n",
    "    for i in x:\n",
    "        if i == sorted(x)[-2]:\n",
    "            print(i)\n",
    "\n",
    "\n",
    "def second_largest_element_while(x):\n",
    "    i = 0\n",
    "    while i < len(x):\n",
    "        if x[i] == sorted(x)[-2]:\n",
    "            print(x[i])\n",
    "        i += 1"
   ]
  },
  {
   "cell_type": "code",
   "execution_count": 69,
   "metadata": {},
   "outputs": [],
   "source": [
    "'''\n",
    "10. Write a program that uses a for loop to find the average of all elements in a list.\n",
    "11. Write a program that uses a while loop to find the average of all elements in a list.\n",
    "'''\n",
    "\n",
    "def average_for(x):\n",
    "    for i in x:\n",
    "        print(sum(x) / len(x))\n",
    "\n",
    "def average_while(x):\n",
    "    i = 0\n",
    "    while i < len(x):\n",
    "        print(sum(x) / len(x))\n",
    "        i += 1"
   ]
  },
  {
   "cell_type": "code",
   "execution_count": 70,
   "metadata": {},
   "outputs": [
    {
     "name": "stdout",
     "output_type": "stream",
     "text": [
      "3.0\n",
      "3.0\n",
      "3.0\n",
      "3.0\n",
      "3.0\n"
     ]
    }
   ],
   "source": [
    "average_for([1, 2, 3, 4, 5])"
   ]
  },
  {
   "cell_type": "code",
   "execution_count": null,
   "outputs": [],
   "source": [],
   "metadata": {
    "collapsed": false
   }
  }
 ],
 "metadata": {
  "kernelspec": {
   "display_name": "Python 3",
   "language": "python",
   "name": "python3"
  },
  "language_info": {
   "codemirror_mode": {
    "name": "ipython",
    "version": 3
   },
   "file_extension": ".py",
   "mimetype": "text/x-python",
   "name": "python",
   "nbconvert_exporter": "python",
   "pygments_lexer": "ipython3",
   "version": "3.11.1"
  },
  "orig_nbformat": 4,
  "vscode": {
   "interpreter": {
    "hash": "5c7b89af1651d0b8571dde13640ecdccf7d5a6204171d6ab33e7c296e100e08a"
   }
  }
 },
 "nbformat": 4,
 "nbformat_minor": 2
}
