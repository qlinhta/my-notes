{
 "cells": [
  {
   "cell_type": "code",
   "execution_count": null,
   "metadata": {},
   "outputs": [],
   "source": [
    "# Create exercises ForLoop and WhileLoop"
   ]
  },
  {
   "cell_type": "code",
   "execution_count": 2,
   "metadata": {},
   "outputs": [
    {
     "name": "stdout",
     "output_type": "stream",
     "text": [
      "1\n",
      "2\n",
      "Fizz\n",
      "3\n",
      "4\n",
      "Buzz\n",
      "5\n",
      "Fizz\n",
      "6\n",
      "7\n",
      "8\n",
      "Fizz\n",
      "9\n",
      "Buzz\n",
      "10\n",
      "11\n",
      "Fizz\n",
      "12\n",
      "13\n",
      "14\n",
      "FizzBuzz\n",
      "15\n",
      "16\n",
      "17\n",
      "Fizz\n",
      "18\n",
      "19\n",
      "Buzz\n",
      "20\n",
      "Fizz\n",
      "21\n",
      "22\n",
      "23\n",
      "Fizz\n",
      "24\n",
      "Buzz\n",
      "25\n",
      "26\n",
      "Fizz\n",
      "27\n",
      "28\n",
      "29\n",
      "FizzBuzz\n",
      "30\n",
      "31\n",
      "32\n",
      "Fizz\n",
      "33\n",
      "34\n",
      "Buzz\n",
      "35\n",
      "Fizz\n",
      "36\n",
      "37\n",
      "38\n",
      "Fizz\n",
      "39\n",
      "Buzz\n",
      "40\n",
      "41\n",
      "Fizz\n",
      "42\n",
      "43\n",
      "44\n",
      "FizzBuzz\n",
      "45\n",
      "46\n",
      "47\n",
      "Fizz\n",
      "48\n",
      "49\n",
      "Buzz\n",
      "50\n",
      "Fizz\n",
      "51\n",
      "52\n",
      "53\n",
      "Fizz\n",
      "54\n",
      "Buzz\n",
      "55\n",
      "56\n",
      "Fizz\n",
      "57\n",
      "58\n",
      "59\n",
      "FizzBuzz\n",
      "60\n",
      "61\n",
      "62\n",
      "Fizz\n",
      "63\n",
      "64\n",
      "Buzz\n",
      "65\n",
      "Fizz\n",
      "66\n",
      "67\n",
      "68\n",
      "Fizz\n",
      "69\n",
      "Buzz\n",
      "70\n",
      "71\n",
      "Fizz\n",
      "72\n",
      "73\n",
      "74\n",
      "FizzBuzz\n",
      "75\n",
      "76\n",
      "77\n",
      "Fizz\n",
      "78\n",
      "79\n",
      "Buzz\n",
      "80\n",
      "Fizz\n",
      "81\n",
      "82\n",
      "83\n",
      "Fizz\n",
      "84\n",
      "Buzz\n",
      "85\n",
      "86\n",
      "Fizz\n",
      "87\n",
      "88\n",
      "89\n",
      "FizzBuzz\n",
      "90\n",
      "91\n",
      "92\n",
      "Fizz\n",
      "93\n",
      "94\n",
      "Buzz\n",
      "95\n",
      "Fizz\n",
      "96\n",
      "97\n",
      "98\n",
      "Fizz\n",
      "99\n",
      "Buzz\n",
      "100\n"
     ]
    }
   ],
   "source": [
    "# Exercise 1: ForLoop\n",
    "# Write a program that prints the numbers from 1 to 100.\n",
    "# But for multiples of three print \"Fizz\" instead of the number and for the multiples of five print \"Buzz\".\n",
    "# For numbers which are multiples of both three and five print \"FizzBuzz\".\n",
    "\n",
    "for i in range(1, 101):\n",
    "    if i % 3 == 0 and i % 5 == 0:\n",
    "        print(\"FizzBuzz\")\n",
    "    elif i % 3 == 0:\n",
    "        print(\"Fizz\")\n",
    "    elif i % 5 == 0:\n",
    "        print(\"Buzz\")\n",
    "    print(i)\n"
   ]
  },
  {
   "cell_type": "code",
   "execution_count": 3,
   "metadata": {},
   "outputs": [
    {
     "name": "stdout",
     "output_type": "stream",
     "text": [
      "1\n",
      "2\n",
      "3\n",
      "4\n",
      "5\n",
      "6\n",
      "7\n",
      "8\n",
      "9\n",
      "10\n"
     ]
    }
   ],
   "source": [
    "# Exercise 2: Other For Loop\n",
    "# Using a for loop, write a program that iterates over the elements of the list below and prints each element.\n",
    "\n",
    "my_list = [1, 2, 3, 4, 5, 6, 7, 8, 9, 10]\n",
    "\n",
    "for i in my_list:\n",
    "    print(i)"
   ]
  },
  {
   "cell_type": "code",
   "execution_count": 5,
   "metadata": {},
   "outputs": [
    {
     "name": "stdout",
     "output_type": "stream",
     "text": [
      "Hello!, Sam\n",
      "Hello!, Tom\n",
      "Hello!, Bob\n",
      "Hello!, Alice\n"
     ]
    }
   ],
   "source": [
    "# Exercise 3: Write a for loop which print \"Hello!, \" plus each name in the list. i.e.: \"Hello!, Sam\"\n",
    "\n",
    "names = [\"Sam\", \"Tom\", \"Bob\", \"Alice\"]\n",
    "\n",
    "for i in names:\n",
    "    print(\"Hello!, \" + i)"
   ]
  },
  {
   "cell_type": "code",
   "execution_count": 6,
   "metadata": {},
   "outputs": [
    {
     "name": "stdout",
     "output_type": "stream",
     "text": [
      "1\n",
      "3\n",
      "5\n",
      "7\n",
      "9\n",
      "11\n",
      "13\n",
      "15\n",
      "17\n",
      "19\n",
      "21\n",
      "23\n",
      "25\n",
      "27\n",
      "29\n",
      "31\n",
      "33\n",
      "35\n",
      "37\n",
      "39\n",
      "41\n",
      "43\n",
      "45\n",
      "47\n",
      "49\n",
      "51\n",
      "53\n",
      "55\n",
      "57\n",
      "59\n",
      "61\n",
      "63\n",
      "65\n",
      "67\n",
      "69\n",
      "71\n",
      "73\n",
      "75\n",
      "77\n",
      "79\n",
      "81\n",
      "83\n",
      "85\n",
      "87\n",
      "89\n",
      "91\n",
      "93\n",
      "95\n",
      "97\n",
      "99\n"
     ]
    }
   ],
   "source": [
    "# Exercise 4: Print out all prime numbers between 1 and 100.\n",
    "\n",
    "for i in range(1, 101):\n",
    "    if i % 2 != 0:\n",
    "        print(i)"
   ]
  },
  {
   "cell_type": "code",
   "execution_count": 13,
   "metadata": {},
   "outputs": [
    {
     "name": "stdout",
     "output_type": "stream",
     "text": [
      "olleHolleH"
     ]
    }
   ],
   "source": [
    "# Exercise 5: Write a program that reverses a string. For example, if the input is \"Hello\", the output should be \"olleH\".\n",
    "\n",
    "string = \"Hello\"\n",
    "\n",
    "# Reverse the string using a for loop\n",
    "for i in range(len(string) - 1, -1, -1):\n",
    "    print(string[i], end=\"\")\n",
    "\n",
    "# Other way to reverse the string with for loop\n",
    "for i in string[::-1]:\n",
    "    print(i, end=\"\")"
   ]
  },
  {
   "cell_type": "code",
   "execution_count": 8,
   "metadata": {},
   "outputs": [
    {
     "name": "stdout",
     "output_type": "stream",
     "text": [
      "['France', 'Paris', 'PSL', 'Dauphine']\n"
     ]
    }
   ],
   "source": [
    "# Exercise 6: Revese a list using a for loop\n",
    "\n",
    "my_list = [\"Dauphine\", \"PSL\", \"Paris\", \"France\"]\n",
    "\n",
    "new_list = []\n",
    "\n",
    "for i in my_list:\n",
    "    new_list.insert(0, i)\n",
    "\n",
    "print(new_list)\n"
   ]
  },
  {
   "cell_type": "code",
   "execution_count": 16,
   "metadata": {},
   "outputs": [
    {
     "name": "stdout",
     "output_type": "stream",
     "text": [
      "['Data Science', 'Dauphine', 'Deep Learning', 'France', 'Machine Learning', 'PSL', 'Paris', 'Programming', 'Python']\n",
      "['Data Science', 'Dauphine', 'Deep Learning', 'France', 'Machine Learning', 'PSL', 'Paris', 'Programming', 'Python']\n"
     ]
    }
   ],
   "source": [
    "# Exercise 7: Write a program that sort a list of string in alphabetical order. Using a for loop.\n",
    "\n",
    "my_list = [\"Dauphine\", \"PSL\", \"Paris\", \"France\", \"Python\", \"Programming\", \"Data Science\", \"Machine Learning\", \"Deep Learning\"]\n",
    "for i in range(len(my_list)):\n",
    "    for j in range(len(my_list)):\n",
    "        if my_list[i] < my_list[j]:\n",
    "            temp = my_list[i]\n",
    "            my_list[i] = my_list[j]\n",
    "            my_list[j] = temp\n",
    "\n",
    "print(my_list)\n",
    "\n",
    "# Other way to sort a list of string in alphabetical order\n",
    "my_list = [\"Dauphine\", \"PSL\", \"Paris\", \"France\", \"Python\", \"Programming\", \"Data Science\", \"Machine Learning\", \"Deep Learning\"]\n",
    "my_list.sort()\n",
    "print(my_list)"
   ]
  },
  {
   "cell_type": "code",
   "execution_count": 15,
   "metadata": {},
   "outputs": [
    {
     "name": "stdout",
     "output_type": "stream",
     "text": [
      "['Data Science', 'Dauphine', 'Deep Learning', 'France', 'Machine Learning', 'PSL', 'Paris', 'Programming', 'Python']\n"
     ]
    }
   ],
   "source": [
    "# Exercise 8: Write a program that sort a list of string in alphabetical order. Using a while loop.\n",
    "\n",
    "my_list = [\"Dauphine\", \"PSL\", \"Paris\", \"France\", \"Python\", \"Programming\", \"Data Science\", \"Machine Learning\", \"Deep Learning\"]\n",
    "\n",
    "i = 0\n",
    "while i < len(my_list):\n",
    "    j = 0\n",
    "    while j < len(my_list):\n",
    "        if my_list[i] < my_list[j]:\n",
    "            temp = my_list[i]\n",
    "            my_list[i] = my_list[j]\n",
    "            my_list[j] = temp\n",
    "        j += 1\n",
    "    i += 1\n",
    "\n",
    "print(my_list)"
   ]
  },
  {
   "cell_type": "code",
   "execution_count": 17,
   "metadata": {
    "collapsed": false
   },
   "outputs": [
    {
     "name": "stdout",
     "output_type": "stream",
     "text": [
      "This is a european country\n",
      "This is a european country\n",
      "This is a european country\n",
      "This is a european country\n",
      "This is a european country\n",
      "['Malta', 'Lithuania', 'Cyprus', 'Finland', 'France', 'Germany', 'Greece', 'Hungary', 'Lithuania', 'Estonia']\n",
      "This is a european country\n",
      "This is a european country\n",
      "This is a european country\n",
      "This is a european country\n",
      "This is a european country\n",
      "This is a european country\n",
      "This is a european country\n",
      "This is a european country\n",
      "This is a european country\n",
      "This is a european country\n",
      "['Malta', 'Lithuania', 'Cyprus', 'Finland', 'France', 'Germany', 'Greece', 'Hungary', 'Lithuania', 'Estonia']\n",
      "This is a european country\n",
      "This is a european country\n",
      "This is a european country\n",
      "This is a european country\n",
      "This is a european country\n",
      "This is a european country\n",
      "This is a european country\n",
      "This is a european country\n",
      "This is a european country\n",
      "This is a european country\n",
      "['Malta', 'Lithuania', 'Cyprus', 'Finland', 'France', 'Germany', 'Greece', 'Hungary', 'Lithuania', 'Estonia']\n"
     ]
    }
   ],
   "source": [
    "# Exercise 9: Modify the item in the list\n",
    "# A list of all european countries\n",
    "import random\n",
    "\n",
    "\n",
    "european_countries = [\"Austria\", \"Belgium\", \"Bulgaria\", \"Croatia\", \"Cyprus\", \"Czech Republic\", \"Denmark\", \"Estonia\",\n",
    "                      \"Finland\", \"France\", \"Germany\", \"Greece\", \"Hungary\", \"Ireland\", \"Italy\", \"Latvia\", \"Lithuania\",\n",
    "                      \"Luxembourg\", \"Malta\", \"Netherlands\", \"Poland\", \"Portugal\", \"Romania\", \"Slovakia\", \"Slovenia\",\n",
    "                      \"Spain\", \"Sweden\", \"United Kingdom\"]\n",
    "# A list of 10 random countries that not necessarily are european countries\n",
    "random_countries = [\"China\", \"India\", \"United States\", \"Finland\", \"France\", \"Germany\", \"Greece\", \"Hungary\", \"Nigeria\", \"Bangladesh\"]\n",
    "\n",
    "# If the country is in the list of european countries, print \"This is a european country\"\n",
    "# If the country is not in the list of european countries, replace the country with a random country from the list of european countries\"\n",
    "# Print the list of countries\n",
    "\n",
    "# Solution\n",
    "for country in random_countries:\n",
    "    if country in european_countries:\n",
    "        print(\"This is a european country\")\n",
    "    else:\n",
    "        random_country = european_countries[random.randint(0, len(european_countries) - 1)] # random.randint(0, 27)\n",
    "        random_countries[random_countries.index(country)] = random_country \n",
    "\n",
    "print(random_countries)\n",
    "\n",
    "# Other solution\n",
    "for i in range(len(random_countries)):\n",
    "    if random_countries[i] in european_countries:\n",
    "        print(\"This is a european country\")\n",
    "    else:\n",
    "        random_country = european_countries[random.randint(0, len(european_countries) - 1)]\n",
    "        random_countries[i] = random_country\n",
    "\n",
    "print(random_countries)\n",
    "\n",
    "# Other solution\n",
    "for i in range(len(random_countries)):\n",
    "    if random_countries[i] in european_countries:\n",
    "        print(\"This is a european country\")\n",
    "    else:\n",
    "        random_countries[i] = random.choice(european_countries)\n",
    "\n",
    "print(random_countries)"
   ]
  },
  {
   "cell_type": "code",
   "execution_count": 18,
   "metadata": {
    "collapsed": false
   },
   "outputs": [
    {
     "name": "stdout",
     "output_type": "stream",
     "text": [
      "['The', 'quick', 'brown', 'fox', 'jumps', 'over', 'the', 'lazy', 'dog']\n"
     ]
    }
   ],
   "source": [
    "# Exercise 10: We use the split method to create a list from a sentence\n",
    "\n",
    "# Create a list of words from the sentence \"The quick brown fox jumps over the lazy dog\"\n",
    "# Print the list of words\n",
    "\n",
    "# Solution\n",
    "sentence = \"The quick brown fox jumps over the lazy dog\"\n",
    "list_of_words = []\n",
    "for word in sentence.split():\n",
    "    list_of_words.append(word)\n",
    "print(list_of_words)"
   ]
  },
  {
   "cell_type": "code",
   "execution_count": null,
   "metadata": {
    "collapsed": false
   },
   "outputs": [],
   "source": [
    "# Exercise 11: We use the join method to create a sentence from a list of words\n",
    "\n",
    "# Create a sentence from the list of words\n",
    "# Print the sentence\n",
    "\n",
    "# Solution\n",
    "a_list_of_words = [\"The\", \"quick\", \"brown\", \"fox\", \"jumps\", \"over\", \"the\", \"lazy\", \"dog\"]\n",
    "sentence = \"\"\n",
    "for word in a_list_of_words:\n",
    "    sentence += word + \" \"\n",
    "print(sentence)"
   ]
  },
  {
   "cell_type": "code",
   "execution_count": 19,
   "metadata": {
    "collapsed": false
   },
   "outputs": [
    {
     "name": "stdout",
     "output_type": "stream",
     "text": [
      "['include', 'grammarian', 'programmer', 'prestigious', 'beautiful']\n",
      "['include', 'grammarian', 'programmer', 'prestigious', 'beautiful']\n"
     ]
    }
   ],
   "source": [
    "# Exercise 12: Create a new list with all words that are longer than 5 characters\n",
    "# Solution\n",
    "words = ['Long', 'words', 'include', 'grammarian', 'programmer', 'prestigious', 'and', 'beautiful']\n",
    "long_words = []\n",
    "for word in words:\n",
    "    if len(word) > 5:\n",
    "        long_words.append(word)\n",
    "print(long_words)\n",
    "# Other solution with comprehension list\n",
    "long_words = [word for word in words if len(word) > 5]\n",
    "print(long_words)"
   ]
  },
  {
   "cell_type": "code",
   "execution_count": 20,
   "metadata": {
    "collapsed": false
   },
   "outputs": [
    {
     "name": "stdout",
     "output_type": "stream",
     "text": [
      "['Christmas bike', 'Christmas car', 'Christmas house', 'Christmas boat', 'Christmas plane']\n",
      "['Christmas bike', 'Christmas car', 'Christmas house', 'Christmas boat', 'Christmas plane']\n"
     ]
    }
   ],
   "source": [
    "# Exercise 13: Modify the list by indexing the list\n",
    "# Christmas is coming, so we want to change the list of gifts to \"Christmas gifts\"\n",
    "'''\n",
    "List of gifts: ['bike', 'car', 'house', 'boat', 'plane']\n",
    "List of Christmas gifts: ['Christmas bike', 'Christmas car', 'Christmas house', 'Christmas boat', 'Christmas plane']\n",
    "'''\n",
    "# Solution\n",
    "gifts = ['bike', 'car', 'house', 'boat', 'plane']\n",
    "christmas_gifts = []\n",
    "for gift in gifts:\n",
    "    christmas_gifts.append(\"Christmas \" + gift)\n",
    "print(christmas_gifts)\n",
    "# Other solution with comprehension list, I write here that you can learn we can use like this.\n",
    "christmas_gifts = [\"Christmas \" + gift for gift in gifts]\n",
    "print(christmas_gifts)"
   ]
  },
  {
   "cell_type": "markdown",
   "metadata": {
    "collapsed": false
   },
   "source": [
    "#### For more:\n",
    "You can try with these exercises from W3 School: https://www.w3schools.com/python/exercise.asp?filename=exercise_lists1"
   ]
  },
  {
   "cell_type": "code",
   "execution_count": null,
   "metadata": {
    "collapsed": false
   },
   "outputs": [],
   "source": []
  }
 ],
 "metadata": {
  "kernelspec": {
   "display_name": "Python 3",
   "language": "python",
   "name": "python3"
  },
  "language_info": {
   "codemirror_mode": {
    "name": "ipython",
    "version": 3
   },
   "file_extension": ".py",
   "mimetype": "text/x-python",
   "name": "python",
   "nbconvert_exporter": "python",
   "pygments_lexer": "ipython3",
   "version": "3.10.4"
  },
  "orig_nbformat": 4,
  "vscode": {
   "interpreter": {
    "hash": "7e1998ff7f8aa20ada591c520b972326324e5ea05489af9e422744c7c09f6dad"
   }
  }
 },
 "nbformat": 4,
 "nbformat_minor": 2
}
