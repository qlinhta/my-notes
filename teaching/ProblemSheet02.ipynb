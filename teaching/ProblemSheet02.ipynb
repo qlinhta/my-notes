{
 "cells": [
  {
   "cell_type": "code",
   "execution_count": null,
   "metadata": {},
   "outputs": [],
   "source": [
    "# Create exercises ForLoop and WhileLoop"
   ]
  },
  {
   "cell_type": "code",
   "execution_count": null,
   "metadata": {},
   "outputs": [],
   "source": [
    "# Exercise 1: ForLoop\n",
    "# Write a program that prints the numbers from 1 to 100.\n",
    "# But for multiples of three print \"Fizz\" instead of the number and for the multiples of five print \"Buzz\".\n",
    "# For numbers which are multiples of both three and five print \"FizzBuzz\".\n",
    "\n",
    "for i in range(1, 101):\n",
    "    '''\n",
    "    Your code here\n",
    "    '''\n",
    "    print(i)\n"
   ]
  },
  {
   "cell_type": "code",
   "execution_count": null,
   "metadata": {},
   "outputs": [],
   "source": [
    "# Exercise 2: Other For Loop\n",
    "# Using a for loop, write a program that iterates over the elements of the list below and prints each element.\n",
    "\n",
    "my_list = [1, 2, 3, 4, 5, 6, 7, 8, 9, 10]\n",
    "\n",
    "'''\n",
    "Your code here\n",
    "'''"
   ]
  },
  {
   "cell_type": "code",
   "execution_count": null,
   "metadata": {},
   "outputs": [],
   "source": [
    "# Exercise 3: Write a for loop which print \"Hello!, \" plus each name in the list. i.e.: \"Hello!, Sam\"\n",
    "\n",
    "names = [\"Sam\", \"Tom\", \"Bob\", \"Alice\"]\n",
    "\n",
    "'''\n",
    "Your code here\n",
    "'''"
   ]
  },
  {
   "cell_type": "code",
   "execution_count": null,
   "metadata": {},
   "outputs": [],
   "source": [
    "# Exercise 4: Print out all prime numbers between 1 and 100.\n",
    "\n",
    "for i in range(1, 101):\n",
    "    '''\n",
    "    Your code here\n",
    "    '''\n",
    "    print(i)"
   ]
  },
  {
   "cell_type": "code",
   "execution_count": null,
   "metadata": {},
   "outputs": [],
   "source": [
    "# Exercise 5: Write a program that reverses a string. For example, if the input is \"Hello\", the output should be \"olleH\".\n",
    "\n",
    "string = \"Hello\"\n",
    "\n",
    "'''\n",
    "Your code here\n",
    "'''"
   ]
  },
  {
   "cell_type": "code",
   "execution_count": null,
   "metadata": {},
   "outputs": [],
   "source": [
    "# Exercise 6: Revese a list using a for loop\n",
    "\n",
    "my_list = [\"Dauphine\", \"PSL\", \"Paris\", \"France\"]\n",
    "\n",
    "new_list = []\n",
    "\n",
    "'''\n",
    "Your code here\n",
    "'''\n",
    "\n",
    "print(new_list)\n"
   ]
  },
  {
   "cell_type": "code",
   "execution_count": null,
   "metadata": {},
   "outputs": [],
   "source": [
    "# Exercise 7: Write a program that sort a list of string in alphabetical order. Using a for loop.\n",
    "\n",
    "my_list = [\"Dauphine\", \"PSL\", \"Paris\", \"France\", \"Python\", \"Programming\", \"Data Science\", \"Machine Learning\", \"Deep Learning\"]\n",
    "for i in range(len(my_list)):\n",
    "    '''\n",
    "    Your code here\n",
    "    '''\n",
    "print(my_list)"
   ]
  },
  {
   "cell_type": "code",
   "execution_count": null,
   "metadata": {},
   "outputs": [],
   "source": [
    "# Exercise 8: Write a program that sort a list of string in alphabetical order. Using a while loop.\n",
    "\n",
    "'''\n",
    "Your code here\n",
    "'''\n",
    "my_list = [\"Dauphine\", \"PSL\", \"Paris\", \"France\", \"Python\", \"Programming\", \"Data Science\", \"Machine Learning\", \"Deep Learning\"]\n",
    "\n",
    "'''\n",
    "Your code here\n",
    "'''\n",
    "\n",
    "print(my_list)"
   ]
  },
  {
   "cell_type": "code",
   "execution_count": null,
   "outputs": [],
   "source": [
    "# Exercise 9: Modify the item in the list\n",
    "# A list of all european countries\n",
    "european_countries = [\"Austria\", \"Belgium\", \"Bulgaria\", \"Croatia\", \"Cyprus\", \"Czech Republic\", \"Denmark\", \"Estonia\",\n",
    "                      \"Finland\", \"France\", \"Germany\", \"Greece\", \"Hungary\", \"Ireland\", \"Italy\", \"Latvia\", \"Lithuania\",\n",
    "                      \"Luxembourg\", \"Malta\", \"Netherlands\", \"Poland\", \"Portugal\", \"Romania\", \"Slovakia\", \"Slovenia\",\n",
    "                      \"Spain\", \"Sweden\", \"United Kingdom\"]\n",
    "# A list of 10 random countries that not necessarily are european countries\n",
    "random_countries = [\"China\", \"India\", \"United States\", \"Finland\", \"France\", \"Germany\", \"Greece\", \"Hungary\", \"Nigeria\", \"Bangladesh\"]\n",
    "\n",
    "# If the country is in the list of european countries, print \"This is a european country\"\n",
    "# If the country is not in the list of european countries, replace the country with a random country from the list of european countries\"\n",
    "# Print the list of countries\n",
    "\n",
    "# Solution\n",
    "for country in random_countries:\n",
    "    '''\n",
    "    Your code here\n",
    "    '''\n",
    "print(random_countries)"
   ],
   "metadata": {
    "collapsed": false
   }
  },
  {
   "cell_type": "code",
   "execution_count": null,
   "outputs": [],
   "source": [
    "# Exercise 10: We use the split method to create a list from a sentence\n",
    "\n",
    "# Create a list of words from the sentence \"The quick brown fox jumps over the lazy dog\"\n",
    "# Print the list of words\n",
    "\n",
    "# Solution\n",
    "sentence = \"The quick brown fox jumps over the lazy dog\"\n",
    "list_of_words = []\n",
    "'''\n",
    "Your code here\n",
    "'''\n",
    "print(list_of_words)"
   ],
   "metadata": {
    "collapsed": false
   }
  },
  {
   "cell_type": "code",
   "execution_count": null,
   "outputs": [],
   "source": [
    "# Exercise 11: We use the join method to create a sentence from a list of words\n",
    "\n",
    "# Create a sentence from the list of words\n",
    "# Print the sentence\n",
    "\n",
    "# Solution\n",
    "a_list_of_words = [\"The\", \"quick\", \"brown\", \"fox\", \"jumps\", \"over\", \"the\", \"lazy\", \"dog\"]\n",
    "sentence = \"\"\n",
    "'''\n",
    "Your code here\n",
    "'''\n",
    "print(sentence)"
   ],
   "metadata": {
    "collapsed": false
   }
  },
  {
   "cell_type": "code",
   "execution_count": null,
   "outputs": [],
   "source": [
    "# Exercise 12: Create a new list with all words that are longer than 5 characters\n",
    "# Solution\n",
    "words = ['Long', 'words', 'include', 'grammarian', 'programmer', 'prestigious', 'and', 'beautiful']\n",
    "long_words = []\n",
    "'''\n",
    "Your code here\n",
    "'''\n",
    "print(long_words)\n",
    "# Other solution with comprehension list\n",
    "'''\n",
    "Your code here\n",
    "'''\n",
    "print(long_words)"
   ],
   "metadata": {
    "collapsed": false
   }
  },
  {
   "cell_type": "code",
   "execution_count": null,
   "outputs": [],
   "source": [
    "# Exercise 13: Modify the list by indexing the list\n",
    "# Christmas is coming, so we want to change the list of gifts to \"Christmas gifts\"\n",
    "'''\n",
    "List of gifts: ['bike', 'car', 'house', 'boat', 'plane']\n",
    "List of Christmas gifts: ['Christmas bike', 'Christmas car', 'Christmas house', 'Christmas boat', 'Christmas plane']\n",
    "'''\n",
    "# Solution\n",
    "gifts = ['bike', 'car', 'house', 'boat', 'plane']\n",
    "christmas_gifts = []\n",
    "'''\n",
    "Your code here\n",
    "'''\n",
    "# Other solution with comprehension list, I write here that you can learn we can use like this.\n",
    "christmas_gifts = [\"Christmas \" + gift for gift in gifts]\n",
    "print(christmas_gifts)"
   ],
   "metadata": {
    "collapsed": false
   }
  },
  {
   "cell_type": "markdown",
   "source": [
    "#### For more:\n",
    "You can try with these exercises from W3 School: https://www.w3schools.com/python/exercise.asp?filename=exercise_lists1"
   ],
   "metadata": {
    "collapsed": false
   }
  },
  {
   "cell_type": "code",
   "execution_count": null,
   "outputs": [],
   "source": [],
   "metadata": {
    "collapsed": false
   }
  }
 ],
 "metadata": {
  "kernelspec": {
   "display_name": "Python 3",
   "language": "python",
   "name": "python3"
  },
  "language_info": {
   "codemirror_mode": {
    "name": "ipython",
    "version": 3
   },
   "file_extension": ".py",
   "mimetype": "text/x-python",
   "name": "python",
   "nbconvert_exporter": "python",
   "pygments_lexer": "ipython3",
   "version": "3.10.4"
  },
  "orig_nbformat": 4,
  "vscode": {
   "interpreter": {
    "hash": "7e1998ff7f8aa20ada591c520b972326324e5ea05489af9e422744c7c09f6dad"
   }
  }
 },
 "nbformat": 4,
 "nbformat_minor": 2
}
