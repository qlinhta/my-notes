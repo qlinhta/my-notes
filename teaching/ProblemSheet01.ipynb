{
 "cells": [
  {
   "cell_type": "markdown",
   "metadata": {
    "collapsed": false
   },
   "source": [
    "## Problem sheet 01: Introduction to Python Programming"
   ]
  },
  {
   "cell_type": "code",
   "execution_count": 31,
   "metadata": {
    "collapsed": false
   },
   "outputs": [
    {
     "name": "stdout",
     "output_type": "stream",
     "text": [
      "The result is 300\n"
     ]
    }
   ],
   "source": [
    "'''\n",
    "Problem 01:\n",
    "\n",
    "Given two variables:\n",
    "\n",
    "Input : Given two numbers\n",
    "- number_1 = 10\n",
    "- number_2 = 30\n",
    "\n",
    "Output expected : The result is 300\n",
    "\n",
    "Indication 01: Using function print() to print the result, the result has to be completed as output expected\n",
    "\n",
    "'''\n",
    "# Type your code below\n",
    "\n",
    "number_1 = 10\n",
    "number_2 = 30\n",
    "print(\"The result is\", number_1 * number_2)"
   ]
  },
  {
   "cell_type": "code",
   "execution_count": 32,
   "metadata": {
    "collapsed": false
   },
   "outputs": [],
   "source": [
    "assert number_1 * number_2 == 300, \"The result is not correct\""
   ]
  },
  {
   "cell_type": "code",
   "execution_count": 33,
   "metadata": {
    "collapsed": false
   },
   "outputs": [
    {
     "name": "stdout",
     "output_type": "stream",
     "text": [
      "****************\n",
      "**************\n",
      "************\n",
      "**********\n",
      "********\n",
      "******\n",
      "****\n",
      "**\n",
      "*\n"
     ]
    }
   ],
   "source": [
    "'''\n",
    "Problem 02: Inverse christmas tree\n",
    "\n",
    "Input : Given character '*'\n",
    "\n",
    "Output expected :\n",
    "**************\n",
    "************\n",
    "**********\n",
    "********\n",
    "******\n",
    "****\n",
    "**\n",
    "*\n",
    "\n",
    "Indications: By using the operator multiplication for each time\n",
    "\n",
    "'''\n",
    "# Type your code below\n",
    "\n",
    "# Without using for loop\n",
    "print(\"*\" * 16)\n",
    "print(\"*\" * 14)\n",
    "print(\"*\" * 12)\n",
    "print(\"*\" * 10)\n",
    "print(\"*\" * 8)\n",
    "print(\"*\" * 6)\n",
    "print(\"*\" * 4)\n",
    "print(\"*\" * 2)\n",
    "print(\"*\" * 1)"
   ]
  },
  {
   "cell_type": "code",
   "execution_count": 34,
   "metadata": {
    "collapsed": false
   },
   "outputs": [
    {
     "name": "stdout",
     "output_type": "stream",
     "text": [
      "3\n"
     ]
    }
   ],
   "source": [
    "'''\n",
    "Problem 03: Count character in string\n",
    "\n",
    "Given a string, count number of appearances of the character \"i\" in the string\n",
    "\n",
    "Input : A string \"Hello Linh, today it is too damn cold\"\n",
    "\n",
    "Output expected : 3\n",
    "\n",
    "Indications: Each string object X has a method to count a character or a substring, it can be using as: X.count(\"character\"). Using this method to find the number of appearances of the character \"i\" in the string given\n",
    "\n",
    "'''\n",
    "# Type your code below\n",
    "\n",
    "string = \"Hello Linh, today it is too damn cold\"\n",
    "print(string.count(\"i\"))"
   ]
  },
  {
   "cell_type": "code",
   "execution_count": 35,
   "metadata": {
    "collapsed": false
   },
   "outputs": [],
   "source": [
    "assert string.count(\"i\") == 3, \"The result is not correct\""
   ]
  },
  {
   "cell_type": "code",
   "execution_count": 36,
   "metadata": {
    "collapsed": false
   },
   "outputs": [
    {
     "name": "stdout",
     "output_type": "stream",
     "text": [
      "ABCDEFGHABECDSAE\n"
     ]
    }
   ],
   "source": [
    "'''\n",
    "Problem 04: Replace character in string\n",
    "\n",
    "Given a string, replace the letter \"e\" in string by the letter \"E\"\n",
    "\n",
    "Input : A string \"ABCDeFGHABeCDSAE\"\n",
    "\n",
    "Output expected : \"ABCDEFGHABECDSAE\"\n",
    "\n",
    "Indications: Each string object X has a method to replace a character or a substring, using by syntax: X.replace(\"character_to_be_replace\", \"new_character\"). Using this to make people happy!\n",
    "'''\n",
    "# Type your code below\n",
    "\n",
    "string = \"ABCDeFGHABeCDSAE\"\n",
    "print(string.replace(\"e\", \"E\"))"
   ]
  },
  {
   "cell_type": "code",
   "execution_count": 37,
   "metadata": {
    "collapsed": false
   },
   "outputs": [],
   "source": [
    "assert string.replace(\"e\", \"E\") == \"ABCDEFGHABECDSAE\", \"The result is not correct\""
   ]
  },
  {
   "cell_type": "code",
   "execution_count": 38,
   "metadata": {
    "collapsed": false
   },
   "outputs": [
    {
     "name": "stdout",
     "output_type": "stream",
     "text": [
      "['My name is Linh', ' 24 years old', ' I live in Paris']\n"
     ]
    }
   ],
   "source": [
    "'''\n",
    "Problem 05: Split the string into multiple parts\n",
    "\n",
    "Given a string, split the string into multiple parts with \",\" as separator\n",
    "\n",
    "Input : A string \"My name is Linh, 24 years old, I live in Paris\"\n",
    "\n",
    "Output expected : ['My name is Linh', ' 24 years old', ' I live in Paris']\n",
    "\n",
    "Indications: Using method X.split(\"separator\") to separate multiple parts of string\n",
    "'''\n",
    "# Type your code below\n",
    "\n",
    "string = \"My name is Linh, 24 years old, I live in Paris\"\n",
    "print(string.split(\",\"))\n",
    "assert string.split(\",\") == ['My name is Linh', ' 24 years old', ' I live in Paris'], \"The result is not correct\""
   ]
  },
  {
   "cell_type": "code",
   "execution_count": 1,
   "metadata": {
    "collapsed": false
   },
   "outputs": [],
   "source": [
    "'''\n",
    "Problem 05: Fill your code to make this code work correctly\n",
    "\n",
    "Output expected : 123\n",
    "'''\n",
    "\n",
    "\n",
    "def mapping_character_and_number(string):  # A function that takes a string as a parameter (input)\n",
    "    '''\n",
    "    Objective is to make encoding the character to numeric using if/else statements\n",
    "    We have here only the letters (a, b, c) and numbers (1, 2, 3) corresponding to map each other\n",
    "    '''\n",
    "\n",
    "    new_string = '' # Initialize new_string\n",
    "\n",
    "    for char in string:  # For loop to run over all characters in the string from the first character to end\n",
    "        if char == 'a':  # If character is the letter \"a\"\n",
    "            new_string += '1'  # Add the number \"1\" to the new_string\n",
    "        elif char == 'b':  # If character is the letter \"b\"\n",
    "            new_string += '2'  # Add the number \"2\" to the new_string\n",
    "        elif char == 'c':  # If character is the letter \"c\"\n",
    "            new_string += '3'  # Add the number \"3\" to the new_string\n",
    "        else:  # If not a letter in (a, b, c), don't need to change, add directly the character in new string\n",
    "            new_string += char\n",
    "    return new_string  # Save the new_string as output of this function"
   ]
  },
  {
   "cell_type": "code",
   "execution_count": 2,
   "metadata": {
    "collapsed": false
   },
   "outputs": [
    {
     "name": "stdout",
     "output_type": "stream",
     "text": [
      "123\n"
     ]
    }
   ],
   "source": [
    "print(mapping_character_and_number('abc'))  # Call the function and print the result"
   ]
  },
  {
   "cell_type": "code",
   "execution_count": 3,
   "metadata": {
    "collapsed": false
   },
   "outputs": [],
   "source": [
    "# Run this test to make sure you are code correctly\n",
    "# If this doesn't print out any errors, then you are cool!\n",
    "assert(mapping_character_and_number('abc') == '123')  # Assert the result"
   ]
  },
  {
   "cell_type": "markdown",
   "metadata": {
    "collapsed": false
   },
   "source": [
    "## Syntax revision\n",
    "\n",
    "Fill in the #### space to complete the syntax, objective is make the script run perfectly"
   ]
  },
  {
   "cell_type": "code",
   "execution_count": 42,
   "metadata": {
    "collapsed": false
   },
   "outputs": [
    {
     "name": "stdout",
     "output_type": "stream",
     "text": [
      "30\n"
     ]
    }
   ],
   "source": [
    "'''\n",
    "THIS IS AN EXAMPLE\n",
    "'''\n",
    "\n",
    "# Print the length of a string\n",
    "string = 'Hello, how are you feel today?'\n",
    "print(len(string))"
   ]
  },
  {
   "cell_type": "code",
   "execution_count": 43,
   "metadata": {
    "collapsed": false
   },
   "outputs": [
    {
     "name": "stdout",
     "output_type": "stream",
     "text": [
      "Hello World\n"
     ]
    }
   ],
   "source": [
    "# Print out 'Hello World' using operator string concatenation\n",
    "first_word = \"Hello\"\n",
    "second_word = \"World\"\n",
    "# Your code here\n",
    "print(first_word + \" \" + second_word)"
   ]
  },
  {
   "cell_type": "code",
   "execution_count": 44,
   "metadata": {
    "collapsed": false
   },
   "outputs": [
    {
     "name": "stdout",
     "output_type": "stream",
     "text": [
      "a is not equal to 5 or 10 or 15\n"
     ]
    }
   ],
   "source": [
    "# If statement with multiple elif statement, replace \"?\" by operator corresponding\n",
    "a = 9\n",
    "if a == 5:\n",
    "    print('a is equal to 5')\n",
    "elif a == 10:\n",
    "    print('a is equal to 10')\n",
    "elif a == 15:\n",
    "    print('a is equal to 15')\n",
    "else:\n",
    "    print('a is not equal to 5 or 10 or 15')"
   ]
  },
  {
   "cell_type": "markdown",
   "metadata": {
    "collapsed": false
   },
   "source": [
    "### To continue, create your own example of using logical operators, comparison operators and practice with all syntax we have seen."
   ]
  }
 ],
 "metadata": {
  "kernelspec": {
   "display_name": "Python 3.10.4 64-bit",
   "language": "python",
   "name": "python3"
  },
  "language_info": {
   "codemirror_mode": {
    "name": "ipython",
    "version": 3
   },
   "file_extension": ".py",
   "mimetype": "text/x-python",
   "name": "python",
   "nbconvert_exporter": "python",
   "pygments_lexer": "ipython3",
   "version": "3.10.4 (v3.10.4:9d38120e33, Mar 23 2022, 17:29:05) [Clang 13.0.0 (clang-1300.0.29.30)]"
  },
  "vscode": {
   "interpreter": {
    "hash": "7e1998ff7f8aa20ada591c520b972326324e5ea05489af9e422744c7c09f6dad"
   }
  }
 },
 "nbformat": 4,
 "nbformat_minor": 0
}
