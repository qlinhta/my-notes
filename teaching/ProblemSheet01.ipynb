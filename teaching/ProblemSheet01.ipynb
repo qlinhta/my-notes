{
 "cells": [
  {
   "cell_type": "markdown",
   "source": [
    "## Problem sheet 01: Introduction to Python Programming"
   ],
   "metadata": {
    "collapsed": false
   }
  },
  {
   "cell_type": "code",
   "execution_count": null,
   "outputs": [],
   "source": [
    "'''\n",
    "Problem 01:\n",
    "\n",
    "Given two variables:\n",
    "\n",
    "Input : Given two numbers\n",
    "- number_1 = 10\n",
    "- number_2 = 30\n",
    "\n",
    "Output expected : The result is 300\n",
    "\n",
    "Indication 01: Using function print() to print the result, the result has to be completed as output expected\n",
    "\n",
    "'''\n",
    "# Type your code below\n",
    "\n"
   ],
   "metadata": {
    "collapsed": false
   }
  },
  {
   "cell_type": "code",
   "execution_count": null,
   "outputs": [],
   "source": [],
   "metadata": {
    "collapsed": false
   }
  },
  {
   "cell_type": "code",
   "execution_count": null,
   "outputs": [],
   "source": [
    "'''\n",
    "Problem 02: Inverse christmas tree\n",
    "\n",
    "Input : Given character '*'\n",
    "\n",
    "Output expected :\n",
    "**************\n",
    "************\n",
    "**********\n",
    "********\n",
    "******\n",
    "****\n",
    "**\n",
    "*\n",
    "\n",
    "Indications: By using the operator multiplication for each time\n",
    "\n",
    "'''\n",
    "# Type your code below\n"
   ],
   "metadata": {
    "collapsed": false
   }
  },
  {
   "cell_type": "code",
   "execution_count": null,
   "outputs": [],
   "source": [
    "'''\n",
    "Problem 03: Count character in string\n",
    "\n",
    "Given a string, count number of appearances of the character \"i\" in the string\n",
    "\n",
    "Input : A string \"Hello Linh, today it is too damn cold\"\n",
    "\n",
    "Output expected : 3\n",
    "\n",
    "Indications: Each string object X has a method to count a character or a substring, it can be using as: X.count(\"character\"). Using this method to find the number of appearances of the character \"i\" in the string given\n",
    "\n",
    "'''\n",
    "# Type your code below\n"
   ],
   "metadata": {
    "collapsed": false
   }
  },
  {
   "cell_type": "code",
   "execution_count": null,
   "outputs": [],
   "source": [],
   "metadata": {
    "collapsed": false
   }
  },
  {
   "cell_type": "code",
   "execution_count": null,
   "outputs": [],
   "source": [
    "'''\n",
    "Problem 04: Replace character in string\n",
    "\n",
    "Given a string, replace the letter \"e\" in string by the letter \"E\"\n",
    "\n",
    "Input : A string \"ABCDeFGHABeCDSAE\"\n",
    "\n",
    "Output expected : \"ABCDEFGHABECDSAE\"\n",
    "\n",
    "Indications: Each string object X has a method to replace a character or a substring, using by syntax: X.replace(\"character_to_be_replace\", \"new_character\"). Using this to make people happy!\n",
    "'''\n",
    "# Type your code below\n"
   ],
   "metadata": {
    "collapsed": false
   }
  },
  {
   "cell_type": "code",
   "execution_count": null,
   "outputs": [],
   "source": [],
   "metadata": {
    "collapsed": false
   }
  },
  {
   "cell_type": "code",
   "execution_count": null,
   "outputs": [],
   "source": [
    "'''\n",
    "Problem 05: Split the string into multiple parts\n",
    "\n",
    "Given a string, split the string into multiple parts with \",\" as separator\n",
    "\n",
    "Input : A string \"My name is Linh, 24 years old, I live in Paris\"\n",
    "\n",
    "Output expected : ['My name is Linh', ' 24 years old', ' I live in Paris']\n",
    "\n",
    "Indications: Using method X.split(\"separator\") to separate multiple parts of string\n",
    "'''\n",
    "# Type your code below\n"
   ],
   "metadata": {
    "collapsed": false
   }
  },
  {
   "cell_type": "code",
   "execution_count": null,
   "outputs": [],
   "source": [],
   "metadata": {
    "collapsed": false
   }
  },
  {
   "cell_type": "code",
   "execution_count": null,
   "outputs": [],
   "source": [
    "'''\n",
    "Problem 05: Fill your code to make this code work correctly\n",
    "\n",
    "Output expected : 123\n",
    "'''\n",
    "\n",
    "\n",
    "def mapping_character_and_number(string):  # A function that takes a string as a parameter (input)\n",
    "    '''\n",
    "    Objective is to make encoding the character to numeric using if/else statements\n",
    "    We have here only the letters (a, b, c) and numbers (1, 2, 3) corresponding to map each other\n",
    "    '''\n",
    "\n",
    "    new_string = '' # Initialize new_string\n",
    "\n",
    "    for char in string:  # For loop to run over all characters in the string from the first character to end\n",
    "        if char == 'a':  # If character is the letter \"a\"\n",
    "        # Your code here [make the new_string variables add number 1 each time in string we found letter \"a\"] <!> Remove this comment line while executing\n",
    "        elif char == 'b':  # If character is the letter \"b\"\n",
    "        # Your code here [make the new_string variables add number 2 each time in string we found letter \"b\"] <!> Remove this comment line while executing\n",
    "        elif char == 'c':  # If character is the letter \"c\"\n",
    "        # Your code here [make the new_string variables add number 3 each time in string we found letter \"c\"] <!> Remove this comment line while executing\n",
    "        else:  # If not a letter in (a, b, c), don't need to change, add directly the character in new string\n",
    "            new_string += char\n",
    "    return new_string  # Save the new_string as output of this function"
   ],
   "metadata": {
    "collapsed": false
   }
  },
  {
   "cell_type": "code",
   "execution_count": null,
   "outputs": [],
   "source": [
    "print(mapping_character_and_number('abc'))  # Call the function and print the result"
   ],
   "metadata": {
    "collapsed": false
   }
  },
  {
   "cell_type": "code",
   "execution_count": null,
   "outputs": [],
   "source": [
    "# Run this test to make sure you are code correctly\n",
    "# If this doesn't print out any errors, then you are cool!\n",
    "assert(mapping_character_and_number('abc') == '123')  # Assert the result"
   ],
   "metadata": {
    "collapsed": false
   }
  },
  {
   "cell_type": "markdown",
   "source": [
    "## Syntax revision\n",
    "\n",
    "Fill in the #### space to complete the syntax, objective is make the script run perfectly"
   ],
   "metadata": {
    "collapsed": false
   }
  },
  {
   "cell_type": "code",
   "execution_count": null,
   "outputs": [],
   "source": [
    "'''\n",
    "THIS IS AN EXAMPLE\n",
    "'''\n",
    "\n",
    "# Print the length of a string\n",
    "string = 'Hello, how are you feel today?'\n",
    "print(len(string))"
   ],
   "metadata": {
    "collapsed": false
   }
  },
  {
   "cell_type": "code",
   "execution_count": null,
   "outputs": [],
   "source": [
    "# Print out 'Hello World' using operator string concatenation\n",
    "first_word = \"Hello\"\n",
    "second_word = \"World\"\n",
    "# Your code here"
   ],
   "metadata": {
    "collapsed": false
   }
  },
  {
   "cell_type": "code",
   "execution_count": null,
   "outputs": [],
   "source": [
    "# If statement with multiple elif statement, replace \"?\" by operator corresponding\n",
    "a = 9\n",
    "if a ? 5:\n",
    "    print('a is equal to 5')\n",
    "elif a ? 10:\n",
    "    print('a is equal to 10')\n",
    "elif a ? 15:\n",
    "    print('a is equal to 15')\n",
    "else:\n",
    "    print('a is not equal to 5 or 10 or 15')\n"
   ],
   "metadata": {
    "collapsed": false
   }
  },
  {
   "cell_type": "markdown",
   "source": [
    "### To continue, create your own example of using logical operators, comparison operators and practice with all syntax we have seen."
   ],
   "metadata": {
    "collapsed": false
   }
  }
 ],
 "metadata": {
  "kernelspec": {
   "display_name": "Python 3",
   "language": "python",
   "name": "python3"
  },
  "language_info": {
   "codemirror_mode": {
    "name": "ipython",
    "version": 2
   },
   "file_extension": ".py",
   "mimetype": "text/x-python",
   "name": "python",
   "nbconvert_exporter": "python",
   "pygments_lexer": "ipython2",
   "version": "2.7.6"
  }
 },
 "nbformat": 4,
 "nbformat_minor": 0
}
