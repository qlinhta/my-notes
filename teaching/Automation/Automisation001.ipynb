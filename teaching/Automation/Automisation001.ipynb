{
 "cells": [
  {
   "cell_type": "markdown",
   "source": [
    "### Automating repetitive tasks\n",
    "\n",
    "1. Using loops and list comprehensions\n",
    "2. Writing custom functions\n",
    "3. Utilizing Python libraries for scheduling (e.g., schedule, cron-like job scheduling)\n",
    "\n",
    "### Web scraping and data extraction\n",
    "1. Introduction to web scraping with Beautiful Soup\n",
    "2. Extracting data from web pages\n",
    "3. Handling pagination and dynamic content (with Selenium, if needed)"
   ],
   "metadata": {
    "collapsed": false
   }
  },
  {
   "cell_type": "code",
   "execution_count": 1,
   "metadata": {
    "collapsed": true
   },
   "outputs": [
    {
     "name": "stdout",
     "output_type": "stream",
     "text": [
      "Requirement already satisfied: schedule in /Users/quyenlinhta/.conda/envs/DataAnalysisPSL/lib/python3.10/site-packages (1.1.0)\r\n",
      "Requirement already satisfied: beautifulsoup4 in /Users/quyenlinhta/.conda/envs/DataAnalysisPSL/lib/python3.10/site-packages (4.11.1)\r\n",
      "Requirement already satisfied: selenium in /Users/quyenlinhta/.conda/envs/DataAnalysisPSL/lib/python3.10/site-packages (4.8.2)\r\n",
      "Requirement already satisfied: soupsieve>1.2 in /Users/quyenlinhta/.conda/envs/DataAnalysisPSL/lib/python3.10/site-packages (from beautifulsoup4) (2.3.2.post1)\r\n",
      "Requirement already satisfied: trio-websocket~=0.9 in /Users/quyenlinhta/.conda/envs/DataAnalysisPSL/lib/python3.10/site-packages (from selenium) (0.10.1)\r\n",
      "Requirement already satisfied: certifi>=2021.10.8 in /Users/quyenlinhta/.conda/envs/DataAnalysisPSL/lib/python3.10/site-packages (from selenium) (2022.12.7)\r\n",
      "Requirement already satisfied: urllib3[socks]~=1.26 in /Users/quyenlinhta/.conda/envs/DataAnalysisPSL/lib/python3.10/site-packages (from selenium) (1.26.11)\r\n",
      "Requirement already satisfied: trio~=0.17 in /Users/quyenlinhta/.conda/envs/DataAnalysisPSL/lib/python3.10/site-packages (from selenium) (0.22.0)\r\n",
      "Requirement already satisfied: exceptiongroup>=1.0.0rc9 in /Users/quyenlinhta/.conda/envs/DataAnalysisPSL/lib/python3.10/site-packages (from trio~=0.17->selenium) (1.1.1)\r\n",
      "Requirement already satisfied: sortedcontainers in /Users/quyenlinhta/.conda/envs/DataAnalysisPSL/lib/python3.10/site-packages (from trio~=0.17->selenium) (2.4.0)\r\n",
      "Requirement already satisfied: idna in /Users/quyenlinhta/.conda/envs/DataAnalysisPSL/lib/python3.10/site-packages (from trio~=0.17->selenium) (3.3)\r\n",
      "Requirement already satisfied: async-generator>=1.9 in /Users/quyenlinhta/.conda/envs/DataAnalysisPSL/lib/python3.10/site-packages (from trio~=0.17->selenium) (1.10)\r\n",
      "Requirement already satisfied: outcome in /Users/quyenlinhta/.conda/envs/DataAnalysisPSL/lib/python3.10/site-packages (from trio~=0.17->selenium) (1.2.0)\r\n",
      "Requirement already satisfied: sniffio in /Users/quyenlinhta/.conda/envs/DataAnalysisPSL/lib/python3.10/site-packages (from trio~=0.17->selenium) (1.3.0)\r\n",
      "Requirement already satisfied: attrs>=19.2.0 in /Users/quyenlinhta/.conda/envs/DataAnalysisPSL/lib/python3.10/site-packages (from trio~=0.17->selenium) (21.4.0)\r\n",
      "Requirement already satisfied: wsproto>=0.14 in /Users/quyenlinhta/.conda/envs/DataAnalysisPSL/lib/python3.10/site-packages (from trio-websocket~=0.9->selenium) (1.2.0)\r\n",
      "Requirement already satisfied: PySocks!=1.5.7,<2.0,>=1.5.6 in /Users/quyenlinhta/.conda/envs/DataAnalysisPSL/lib/python3.10/site-packages (from urllib3[socks]~=1.26->selenium) (1.7.1)\r\n",
      "Requirement already satisfied: h11<1,>=0.9.0 in /Users/quyenlinhta/.conda/envs/DataAnalysisPSL/lib/python3.10/site-packages (from wsproto>=0.14->trio-websocket~=0.9->selenium) (0.14.0)\r\n"
     ]
    }
   ],
   "source": [
    "!pip install schedule beautifulsoup4 selenium"
   ]
  },
  {
   "cell_type": "code",
   "execution_count": 2,
   "outputs": [],
   "source": [
    "import requests # for making HTTP requests to web pages\n",
    "import schedule # for scheduling tasks to run periodically\n",
    "import time # for sleeping the program for a specified amount of time\n",
    "from bs4 import BeautifulSoup\n",
    "from datetime import datetime # for getting the current date and time\n",
    "from tqdm import tqdm # for displaying a progress bar for a loop\n",
    "import matplotlib.pyplot as plt\n",
    "import pandas as pd"
   ],
   "metadata": {
    "collapsed": false
   }
  },
  {
   "cell_type": "code",
   "execution_count": 3,
   "outputs": [],
   "source": [
    "# Example 1: Automating repetitive tasks\n",
    "\n",
    "#def job():\n",
    "    #print(\"I'm working...\")\n",
    "\n",
    "#schedule.every(5).seconds.do(job)"
   ],
   "metadata": {
    "collapsed": false
   }
  },
  {
   "cell_type": "code",
   "execution_count": 4,
   "outputs": [],
   "source": [
    "#while True:\n",
    "    #schedule.run_pending()\n",
    "    #time.sleep(1)"
   ],
   "metadata": {
    "collapsed": false
   }
  },
  {
   "cell_type": "code",
   "execution_count": 5,
   "outputs": [],
   "source": [
    "def get_bitcoin_price():\n",
    "    url = 'https://www.coingecko.com/en/coins/bitcoin'\n",
    "    response = requests.get(url)\n",
    "    soup = BeautifulSoup(response.content, 'html.parser')\n",
    "    price_address = soup.find('span', class_='no-wrap')\n",
    "    price = price_address.text.strip()\n",
    "    return price\n",
    "\n",
    "\n",
    "def log_bitcoin_price():\n",
    "    current_price = get_bitcoin_price()\n",
    "    timestamp = datetime.now().strftime('%Y-%m-%d %H:%M:%S')\n",
    "    log_message = f\"{timestamp} - Current Bitcoin price: {current_price}\\n\"\n",
    "    # Write the log message to a file\n",
    "    with open('bitcoin_price_log.txt', 'a') as log_file:\n",
    "        # mode 'a' is for appending to the file\n",
    "        # mode 'w' is for writing to the file\n",
    "        # mode 'r' is for reading from the file\n",
    "        log_file.write(log_message)\n",
    "\n",
    "    # Print the log message to the console\n",
    "    print(log_message.strip())"
   ],
   "metadata": {
    "collapsed": false
   }
  },
  {
   "cell_type": "code",
   "execution_count": 6,
   "outputs": [
    {
     "data": {
      "text/plain": "Every 1 second do log_bitcoin_price() (last run: [never], next run: 2023-03-24 20:28:50)"
     },
     "execution_count": 6,
     "metadata": {},
     "output_type": "execute_result"
    }
   ],
   "source": [
    "schedule.every(1).second.do(log_bitcoin_price)"
   ],
   "metadata": {
    "collapsed": false
   }
  },
  {
   "cell_type": "code",
   "execution_count": 7,
   "outputs": [
    {
     "name": "stdout",
     "output_type": "stream",
     "text": [
      "2023-03-24 20:28:51 - Current Bitcoin price: $28,026.20\n",
      "2023-03-24 20:28:53 - Current Bitcoin price: $28,026.20\n",
      "2023-03-24 20:28:54 - Current Bitcoin price: $28,026.20\n",
      "2023-03-24 20:28:56 - Current Bitcoin price: $28,027.71\n",
      "2023-03-24 20:28:58 - Current Bitcoin price: $28,027.71\n",
      "2023-03-24 20:28:59 - Current Bitcoin price: $28,027.71\n"
     ]
    },
    {
     "ename": "KeyboardInterrupt",
     "evalue": "",
     "output_type": "error",
     "traceback": [
      "\u001B[0;31m---------------------------------------------------------------------------\u001B[0m",
      "\u001B[0;31mKeyboardInterrupt\u001B[0m                         Traceback (most recent call last)",
      "Input \u001B[0;32mIn [7]\u001B[0m, in \u001B[0;36m<cell line: 1>\u001B[0;34m()\u001B[0m\n\u001B[1;32m      1\u001B[0m \u001B[38;5;28;01mwhile\u001B[39;00m \u001B[38;5;28;01mTrue\u001B[39;00m:\n\u001B[1;32m      2\u001B[0m     schedule\u001B[38;5;241m.\u001B[39mrun_pending()\n\u001B[0;32m----> 3\u001B[0m     \u001B[43mtime\u001B[49m\u001B[38;5;241;43m.\u001B[39;49m\u001B[43msleep\u001B[49m\u001B[43m(\u001B[49m\u001B[38;5;241;43m1\u001B[39;49m\u001B[43m)\u001B[49m\n",
      "\u001B[0;31mKeyboardInterrupt\u001B[0m: "
     ]
    }
   ],
   "source": [
    "while True:\n",
    "    schedule.run_pending()\n",
    "    time.sleep(1)"
   ],
   "metadata": {
    "collapsed": false
   }
  },
  {
   "cell_type": "code",
   "execution_count": 6,
   "outputs": [
    {
     "name": "stdout",
     "output_type": "stream",
     "text": [
      "1. Repository: nsarrazin/serge\n",
      "Description: A web interface for chatting with Alpaca through llama.cpp. Fully dockerized, with an easy to use API.\n",
      "Language: Python\n",
      "\n",
      "2. Repository: madawei2699/myGPTReader\n",
      "Description: myGPTReader is a slack bot that can read any webpage, ebook or document and summarize it with chatGPT. It can also talk to you via voice using the content in the channel.\n",
      "Language: Python\n",
      "\n",
      "3. Repository: mrsked/mrsk\n",
      "Description: Deploy web apps anywhere.\n",
      "Language: Ruby\n",
      "\n",
      "4. Repository: programthink/zhao\n",
      "Description: 【编程随想】整理的《太子党关系网络》，专门揭露赵国的权贵\n",
      "Language: Python\n",
      "\n",
      "5. Repository: BlinkDL/RWKV-LM\n",
      "Description: RWKV is an RNN with transformer-level LLM performance. It can be directly trained like a GPT (parallelizable). So it's combining the best of RNN and transformer - great performance, fast inference, saves VRAM, fast training, \"infinite\" ctx_len, and free sentence embedding.\n",
      "Language: Python\n",
      "\n",
      "6. Repository: mckaywrigley/chatbot-ui\n",
      "Description: A ChatGPT clone for running locally in your browser.\n",
      "Language: TypeScript\n",
      "\n",
      "7. Repository: LC1332/Chinese-alpaca-lora\n",
      "Description: 骆驼:A Chinese finetuned instruction LLaMA. Developed by 陈启源 @ 华中师范大学 & 李鲁鲁 @ 商汤科技 & 冷子昂 @ 商汤科技\n",
      "Language: Jupyter Notebook\n",
      "\n",
      "8. Repository: dragonflydb/dragonfly\n",
      "Description: A modern replacement for Redis and Memcached\n",
      "Language: C++\n",
      "\n",
      "9. Repository: LianjiaTech/BELLE\n",
      "Description: BELLE: BE Large Language model Engine（开源中文对话大模型）\n",
      "Language: Python\n",
      "\n",
      "10. Repository: codebdy/rxdrag\n",
      "Description: Design anything based on HTML, 可视化编辑， 设计一切基于HMTL的东西，模块化设计\n",
      "Language: TypeScript\n",
      "\n"
     ]
    }
   ],
   "source": [
    "URL = 'https://github.com/trending'\n",
    "\n",
    "response = requests.get(URL)\n",
    "soup = BeautifulSoup(response.content, 'html.parser')\n",
    "\n",
    "# Find the top 10 trending repositories\n",
    "trending_repositories = soup.find_all('article', class_='Box-row', limit=10)\n",
    "\n",
    "for index, repo in enumerate(trending_repositories):\n",
    "    name = repo.h1.text.strip().replace('\\n', '').replace(' ', '')\n",
    "    description = repo.find('p', class_='col-9').text.strip() if repo.find('p', class_='col-9') else 'No description provided'\n",
    "    language = repo.find('span', itemprop='programmingLanguage').text.strip() if repo.find('span', itemprop='programmingLanguage') else 'Not specified'\n",
    "    print(f\"{index + 1}. Repository: {name}\\nDescription: {description}\\nLanguage: {language}\\n\")"
   ],
   "metadata": {
    "collapsed": false
   }
  },
  {
   "cell_type": "code",
   "execution_count": 8,
   "outputs": [],
   "source": [
    "import time\n",
    "from selenium import webdriver\n",
    "from selenium.webdriver.common.by import By\n",
    "from selenium.webdriver.common.keys import Keys\n",
    "\n",
    "# Create a new instance of the Chrome driver\n",
    "driver = webdriver.Chrome()\n",
    "\n",
    "# Go to the Wikipedia home page\n",
    "driver.get('https://www.wikipedia.org')\n",
    "\n",
    "# Find the search box\n",
    "search_box = driver.find_element(By.ID, 'searchInput')\n",
    "\n",
    "# Enter search query\n",
    "search_box.send_keys('France')\n",
    "\n",
    "# Submit the form (like hitting return)\n",
    "search_box.submit()\n",
    "\n",
    "# Wait for the page to load\n",
    "time.sleep(5)\n",
    "\n",
    "# Get the main content of the page\n",
    "main_content = driver.find_element(By.ID, 'content').text\n",
    "\n",
    "# Write the main content to a file\n",
    "with open('wikipedia_page.txt', 'w', encoding='utf-8') as file:\n",
    "    file.write(main_content)\n",
    "\n",
    "# Close the browser\n",
    "driver.quit()"
   ],
   "metadata": {
    "collapsed": false
   }
  },
  {
   "cell_type": "code",
   "execution_count": 12,
   "outputs": [
    {
     "name": "stderr",
     "output_type": "stream",
     "text": [
      "/var/folders/sm/lw2bbffs15g5l3r4ldd25hc00000gn/T/ipykernel_90422/4128531973.py:11: DeprecationWarning: executable_path has been deprecated, please pass in a Service object\n",
      "  driver = webdriver.Chrome(executable_path=chromedriver_path)\n"
     ]
    },
    {
     "ename": "TimeoutException",
     "evalue": "Message: \n",
     "output_type": "error",
     "traceback": [
      "\u001B[0;31m---------------------------------------------------------------------------\u001B[0m",
      "\u001B[0;31mTimeoutException\u001B[0m                          Traceback (most recent call last)",
      "Input \u001B[0;32mIn [12]\u001B[0m, in \u001B[0;36m<cell line: 19>\u001B[0;34m()\u001B[0m\n\u001B[1;32m     17\u001B[0m \u001B[38;5;66;03m# Wait for the repositories to load\u001B[39;00m\n\u001B[1;32m     18\u001B[0m wait \u001B[38;5;241m=\u001B[39m WebDriverWait(driver, \u001B[38;5;241m10\u001B[39m)\n\u001B[0;32m---> 19\u001B[0m repositories \u001B[38;5;241m=\u001B[39m \u001B[43mwait\u001B[49m\u001B[38;5;241;43m.\u001B[39;49m\u001B[43muntil\u001B[49m\u001B[43m(\u001B[49m\u001B[43mEC\u001B[49m\u001B[38;5;241;43m.\u001B[39;49m\u001B[43mpresence_of_all_elements_located\u001B[49m\u001B[43m(\u001B[49m\u001B[43m(\u001B[49m\u001B[43mBy\u001B[49m\u001B[38;5;241;43m.\u001B[39;49m\u001B[43mXPATH\u001B[49m\u001B[43m,\u001B[49m\u001B[43m \u001B[49m\u001B[38;5;124;43m'\u001B[39;49m\u001B[38;5;124;43m//div[@class=\u001B[39;49m\u001B[38;5;124;43m\"\u001B[39;49m\u001B[38;5;124;43mwb-break-all\u001B[39;49m\u001B[38;5;124;43m\"\u001B[39;49m\u001B[38;5;124;43m]//a\u001B[39;49m\u001B[38;5;124;43m'\u001B[39;49m\u001B[43m)\u001B[49m\u001B[43m)\u001B[49m\u001B[43m)\u001B[49m\n\u001B[1;32m     21\u001B[0m \u001B[38;5;66;03m# Scrape the repository names\u001B[39;00m\n\u001B[1;32m     22\u001B[0m repo_names \u001B[38;5;241m=\u001B[39m [repo\u001B[38;5;241m.\u001B[39mtext \u001B[38;5;28;01mfor\u001B[39;00m repo \u001B[38;5;129;01min\u001B[39;00m repositories]\n",
      "File \u001B[0;32m~/.conda/envs/DataAnalysisPSL/lib/python3.10/site-packages/selenium/webdriver/support/wait.py:95\u001B[0m, in \u001B[0;36mWebDriverWait.until\u001B[0;34m(self, method, message)\u001B[0m\n\u001B[1;32m     93\u001B[0m     \u001B[38;5;28;01mif\u001B[39;00m time\u001B[38;5;241m.\u001B[39mmonotonic() \u001B[38;5;241m>\u001B[39m end_time:\n\u001B[1;32m     94\u001B[0m         \u001B[38;5;28;01mbreak\u001B[39;00m\n\u001B[0;32m---> 95\u001B[0m \u001B[38;5;28;01mraise\u001B[39;00m TimeoutException(message, screen, stacktrace)\n",
      "\u001B[0;31mTimeoutException\u001B[0m: Message: \n"
     ]
    }
   ],
   "source": [
    "import time\n",
    "from selenium import webdriver\n",
    "from selenium.webdriver.common.by import By\n",
    "from selenium.webdriver.support.ui import WebDriverWait\n",
    "from selenium.webdriver.support import expected_conditions as EC\n",
    "\n",
    "# Set the path to the ChromeDriver executable\n",
    "chromedriver_path = '/path/to/chromedriver'\n",
    "\n",
    "# Create a WebDriver instance\n",
    "driver = webdriver.Chrome(executable_path=chromedriver_path)\n",
    "\n",
    "# Navigate to the GitHub user's profile page\n",
    "github_user = 'qlinhta'\n",
    "driver.get(f'https://github.com/{github_user}?tab=repositories')\n",
    "\n",
    "# Wait for the repositories to load\n",
    "wait = WebDriverWait(driver, 10)\n",
    "repositories = wait.until(EC.presence_of_all_elements_located((By.XPATH, '//div[@class=\"wb-break-all\"]//a')))\n",
    "\n",
    "# Scrape the repository names\n",
    "repo_names = [repo.text for repo in repositories]\n",
    "\n",
    "# Close the WebDriver instance\n",
    "driver.quit()\n",
    "\n",
    "# Print the repository names\n",
    "print(f\"Repositories of {github_user}:\")\n",
    "for name in repo_names:\n",
    "    print(name)"
   ],
   "metadata": {
    "collapsed": false
   }
  },
  {
   "cell_type": "code",
   "execution_count": null,
   "outputs": [],
   "source": [],
   "metadata": {
    "collapsed": false
   }
  }
 ],
 "metadata": {
  "kernelspec": {
   "display_name": "Python 3",
   "language": "python",
   "name": "python3"
  },
  "language_info": {
   "codemirror_mode": {
    "name": "ipython",
    "version": 2
   },
   "file_extension": ".py",
   "mimetype": "text/x-python",
   "name": "python",
   "nbconvert_exporter": "python",
   "pygments_lexer": "ipython2",
   "version": "2.7.6"
  }
 },
 "nbformat": 4,
 "nbformat_minor": 0
}
