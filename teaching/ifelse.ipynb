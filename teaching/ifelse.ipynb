{
 "cells": [
  {
   "cell_type": "code",
   "execution_count": 1,
   "metadata": {},
   "outputs": [
    {
     "data": {
      "text/plain": [
       "'\\n==  # equal to\\n!=  # not equal to\\n<   # less than\\n>   # greater than\\n<=  # less than or equal to\\n>=  # greater than or equal to\\n\\nand # both conditions are true\\nor  # either condition is true\\nnot # the condition is false\\n'"
      ]
     },
     "execution_count": 1,
     "metadata": {},
     "output_type": "execute_result"
    }
   ],
   "source": [
    "# Example of if/else statements\n",
    "\n",
    "# If/else statements are used to control the flow of a program\n",
    "# They are used to make decisions based on the value of a variable\n",
    "\n",
    "# The syntax is:\n",
    "'''\n",
    "if condition:\n",
    "    do something\n",
    "else:\n",
    "    do something else\n",
    "'''\n",
    "\n",
    "# The condition is a boolean expression\n",
    "# The boolean expression is evaluated to be either True or False\n",
    "'''\n",
    "==  # equal to\n",
    "!=  # not equal to\n",
    "<   # less than\n",
    ">   # greater than\n",
    "<=  # less than or equal to\n",
    ">=  # greater than or equal to\n",
    "\n",
    "and # both conditions are true\n",
    "or  # either condition is true\n",
    "not # the condition is false\n",
    "'''"
   ]
  },
  {
   "cell_type": "code",
   "execution_count": 2,
   "metadata": {},
   "outputs": [
    {
     "name": "stdout",
     "output_type": "stream",
     "text": [
      "x is greater than 5\n"
     ]
    }
   ],
   "source": [
    "# Example 1\n",
    "# If the variable x is greater than 5, print \"x is greater than 5\"\n",
    "# Otherwise, print \"x is less than or equal to 5\"\n",
    "\n",
    "x = 10\n",
    "\n",
    "if x > 5:\n",
    "    print(\"x is greater than 5\")\n",
    "else:\n",
    "    print(\"x is less than or equal to 5\")"
   ]
  },
  {
   "cell_type": "code",
   "execution_count": 3,
   "metadata": {},
   "outputs": [
    {
     "name": "stdout",
     "output_type": "stream",
     "text": [
      "x is between 5 and 10\n"
     ]
    }
   ],
   "source": [
    "# Example 2: More complex conditions\n",
    "# If the variable x is greater than 5 and less than 10, print \"x is between 5 and 10\"\n",
    "# Otherwise, print \"x is not between 5 and 10\"\n",
    "\n",
    "x = 7\n",
    "\n",
    "if x > 5 and x < 10:\n",
    "    print(\"x is between 5 and 10\")\n",
    "else:\n",
    "    print(\"x is not between 5 and 10\")"
   ]
  },
  {
   "cell_type": "code",
   "execution_count": 4,
   "metadata": {},
   "outputs": [
    {
     "name": "stdout",
     "output_type": "stream",
     "text": [
      "x is hello\n"
     ]
    }
   ],
   "source": [
    "# Example 3: More complex conditions with more than 2 elif statements\n",
    "# String comparison\n",
    "# If the variable x is equal to \"hello\", print \"x is hello\"\n",
    "# If the variable x is equal to \"goodbye\", print \"x is goodbye\"\n",
    "# Otherwise, print \"x is something else\"\n",
    "\n",
    "x = \"hello\"\n",
    "\n",
    "if x == \"hello\":\n",
    "    print(\"x is hello\")\n",
    "elif x == \"goodbye\":\n",
    "    print(\"x is goodbye\")\n",
    "else:\n",
    "    print(\"x is something else\")"
   ]
  },
  {
   "cell_type": "code",
   "execution_count": 5,
   "metadata": {},
   "outputs": [
    {
     "name": "stdout",
     "output_type": "stream",
     "text": [
      "x is equal to 5\n"
     ]
    }
   ],
   "source": [
    "# Example 4: Nested if/else statements\n",
    "# If the variable x is greater than 5, print \"x is greater than 5\"\n",
    "# If the variable x is less than 5, print \"x is less than 5\"\n",
    "# If the variable x is equal to 5, print \"x is equal to 5\"\n",
    "\n",
    "x = 5\n",
    "\n",
    "if x > 5:\n",
    "    print(\"x is greater than 5\")\n",
    "else:\n",
    "    if x < 5:\n",
    "        print(\"x is less than 5\")\n",
    "    else:\n",
    "        print(\"x is equal to 5\")"
   ]
  },
  {
   "cell_type": "code",
   "execution_count": 7,
   "metadata": {},
   "outputs": [
    {
     "name": "stdout",
     "output_type": "stream",
     "text": [
      "B\n"
     ]
    }
   ],
   "source": [
    "# Example 5: Nested if/else statements\n",
    "# Evaluate the grade of student based on the score they got on a test\n",
    "# If the score is greater than 90, print \"A\"\n",
    "# If the score is greater than 80, print \"B\"\n",
    "# If the score is greater than 70, print \"C\"\n",
    "# If the score is greater than 60, print \"D\"\n",
    "# Otherwise, print \"F\"\n",
    "\n",
    "score = 85\n",
    "\n",
    "if score > 90:\n",
    "    print(\"A\")\n",
    "else:\n",
    "    if score > 80:\n",
    "        print(\"B\")\n",
    "    else:\n",
    "        if score > 70:\n",
    "            print(\"C\")\n",
    "        else:\n",
    "            if score > 60:\n",
    "                print(\"D\")\n",
    "            else:\n",
    "                print(\"F\")"
   ]
  },
  {
   "cell_type": "code",
   "execution_count": 8,
   "metadata": {},
   "outputs": [
    {
     "name": "stdout",
     "output_type": "stream",
     "text": [
      "B\n"
     ]
    }
   ],
   "source": [
    "# Or without nested if/else statements\n",
    "score = 85\n",
    "\n",
    "if score > 90:\n",
    "    print(\"A\")\n",
    "elif score > 80:\n",
    "    print(\"B\")\n",
    "elif score > 70:\n",
    "    print(\"C\")\n",
    "elif score > 60:\n",
    "    print(\"D\")\n",
    "else:\n",
    "    print(\"F\")"
   ]
  },
  {
   "cell_type": "code",
   "execution_count": 10,
   "metadata": {},
   "outputs": [
    {
     "name": "stdout",
     "output_type": "stream",
     "text": [
      "This is a awesome day\n"
     ]
    }
   ],
   "source": [
    "# Example 6: If in string contains a sensitive word, censor it\n",
    "# If the string contains the word \"bad\", replace it with \"good\"\n",
    "# If the string contains the word \"terrible\", replace it with \"awesome\"\n",
    "# Otherwise, print the original string\n",
    "\n",
    "s = \"This is a terrible day\"\n",
    "\n",
    "if \"bad\" in s:\n",
    "    s = s.replace(\"bad\", \"good\")\n",
    "    print(s)\n",
    "elif \"terrible\" in s:\n",
    "    s = s.replace(\"terrible\", \"awesome\")\n",
    "    print(s)\n",
    "else:\n",
    "    print(s)"
   ]
  },
  {
   "cell_type": "code",
   "execution_count": 11,
   "metadata": {},
   "outputs": [
    {
     "name": "stdout",
     "output_type": "stream",
     "text": [
      "[1, -1, 1, -1, 1, -1, 1, -1, 1, -1]\n"
     ]
    }
   ],
   "source": [
    "# Example 7: If in a list of numbers, if the number is even, replace it with -1\n",
    "# If the number is odd, replace it with 1\n",
    "# Otherwise, print the original list\n",
    "\n",
    "l = [1, 2, 3, 4, 5, 6, 7, 8, 9, 10]\n",
    "\n",
    "for i in range(len(l)):\n",
    "    if l[i] % 2 == 0:\n",
    "        l[i] = -1\n",
    "    else:\n",
    "        l[i] = 1\n",
    "\n",
    "print(l)"
   ]
  },
  {
   "cell_type": "code",
   "execution_count": 13,
   "metadata": {},
   "outputs": [
    {
     "name": "stdout",
     "output_type": "stream",
     "text": [
      "0.1\n"
     ]
    }
   ],
   "source": [
    "# Example 8: if performance is good, give a bonus of 10%\n",
    "# If performance is average, give a bonus of 5%\n",
    "# Otherwise, give a bonus of 0%\n",
    "\n",
    "performance = \"good\"\n",
    "\n",
    "if performance == \"good\":\n",
    "    bonus = 0.1\n",
    "elif performance == \"average\":\n",
    "    bonus = 0.05\n",
    "else:\n",
    "    bonus = 0\n",
    "\n",
    "print(bonus)"
   ]
  },
  {
   "cell_type": "code",
   "execution_count": null,
   "metadata": {},
   "outputs": [],
   "source": []
  }
 ],
 "metadata": {
  "kernelspec": {
   "display_name": "Python 3",
   "language": "python",
   "name": "python3"
  },
  "language_info": {
   "codemirror_mode": {
    "name": "ipython",
    "version": 3
   },
   "file_extension": ".py",
   "mimetype": "text/x-python",
   "name": "python",
   "nbconvert_exporter": "python",
   "pygments_lexer": "ipython3",
   "version": "3.10.4 (v3.10.4:9d38120e33, Mar 23 2022, 17:29:05) [Clang 13.0.0 (clang-1300.0.29.30)]"
  },
  "orig_nbformat": 4,
  "vscode": {
   "interpreter": {
    "hash": "7e1998ff7f8aa20ada591c520b972326324e5ea05489af9e422744c7c09f6dad"
   }
  }
 },
 "nbformat": 4,
 "nbformat_minor": 2
}
