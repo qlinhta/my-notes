{
 "cells": [
  {
   "cell_type": "markdown",
   "source": [
    "### PANDAS\n",
    "#### Assignment 01\n",
    "URL: [PANDAS LIBRARY](https://pandas.pydata.org/)\n",
    "Documentation: [PANDAS DOCUMENTATION](https://pandas.pydata.org/pandas-docs/stable/)"
   ],
   "metadata": {
    "collapsed": false
   }
  },
  {
   "cell_type": "code",
   "execution_count": 107,
   "metadata": {
    "collapsed": true
   },
   "outputs": [],
   "source": [
    "# Read dataset from csv file\n",
    "import pandas as pd\n",
    "\n",
    "df = pd.read_csv('https://raw.githubusercontent.com/justmarkham/DAT8/master/data/chipotle.tsv', sep='\\t')"
   ]
  },
  {
   "cell_type": "code",
   "execution_count": 108,
   "outputs": [
    {
     "data": {
      "text/plain": "   order_id  quantity                              item_name  \\\n0         1         1           Chips and Fresh Tomato Salsa   \n1         1         1                                   Izze   \n2         1         1                       Nantucket Nectar   \n3         1         1  Chips and Tomatillo-Green Chili Salsa   \n4         2         2                           Chicken Bowl   \n5         3         1                           Chicken Bowl   \n6         3         1                          Side of Chips   \n7         4         1                          Steak Burrito   \n8         4         1                       Steak Soft Tacos   \n9         5         1                          Steak Burrito   \n\n                                  choice_description item_price  \n0                                                NaN     $2.39   \n1                                       [Clementine]     $3.39   \n2                                            [Apple]     $3.39   \n3                                                NaN     $2.39   \n4  [Tomatillo-Red Chili Salsa (Hot), [Black Beans...    $16.98   \n5  [Fresh Tomato Salsa (Mild), [Rice, Cheese, Sou...    $10.98   \n6                                                NaN     $1.69   \n7  [Tomatillo Red Chili Salsa, [Fajita Vegetables...    $11.75   \n8  [Tomatillo Green Chili Salsa, [Pinto Beans, Ch...     $9.25   \n9  [Fresh Tomato Salsa, [Rice, Black Beans, Pinto...     $9.25   ",
      "text/html": "<div>\n<style scoped>\n    .dataframe tbody tr th:only-of-type {\n        vertical-align: middle;\n    }\n\n    .dataframe tbody tr th {\n        vertical-align: top;\n    }\n\n    .dataframe thead th {\n        text-align: right;\n    }\n</style>\n<table border=\"1\" class=\"dataframe\">\n  <thead>\n    <tr style=\"text-align: right;\">\n      <th></th>\n      <th>order_id</th>\n      <th>quantity</th>\n      <th>item_name</th>\n      <th>choice_description</th>\n      <th>item_price</th>\n    </tr>\n  </thead>\n  <tbody>\n    <tr>\n      <th>0</th>\n      <td>1</td>\n      <td>1</td>\n      <td>Chips and Fresh Tomato Salsa</td>\n      <td>NaN</td>\n      <td>$2.39</td>\n    </tr>\n    <tr>\n      <th>1</th>\n      <td>1</td>\n      <td>1</td>\n      <td>Izze</td>\n      <td>[Clementine]</td>\n      <td>$3.39</td>\n    </tr>\n    <tr>\n      <th>2</th>\n      <td>1</td>\n      <td>1</td>\n      <td>Nantucket Nectar</td>\n      <td>[Apple]</td>\n      <td>$3.39</td>\n    </tr>\n    <tr>\n      <th>3</th>\n      <td>1</td>\n      <td>1</td>\n      <td>Chips and Tomatillo-Green Chili Salsa</td>\n      <td>NaN</td>\n      <td>$2.39</td>\n    </tr>\n    <tr>\n      <th>4</th>\n      <td>2</td>\n      <td>2</td>\n      <td>Chicken Bowl</td>\n      <td>[Tomatillo-Red Chili Salsa (Hot), [Black Beans...</td>\n      <td>$16.98</td>\n    </tr>\n    <tr>\n      <th>5</th>\n      <td>3</td>\n      <td>1</td>\n      <td>Chicken Bowl</td>\n      <td>[Fresh Tomato Salsa (Mild), [Rice, Cheese, Sou...</td>\n      <td>$10.98</td>\n    </tr>\n    <tr>\n      <th>6</th>\n      <td>3</td>\n      <td>1</td>\n      <td>Side of Chips</td>\n      <td>NaN</td>\n      <td>$1.69</td>\n    </tr>\n    <tr>\n      <th>7</th>\n      <td>4</td>\n      <td>1</td>\n      <td>Steak Burrito</td>\n      <td>[Tomatillo Red Chili Salsa, [Fajita Vegetables...</td>\n      <td>$11.75</td>\n    </tr>\n    <tr>\n      <th>8</th>\n      <td>4</td>\n      <td>1</td>\n      <td>Steak Soft Tacos</td>\n      <td>[Tomatillo Green Chili Salsa, [Pinto Beans, Ch...</td>\n      <td>$9.25</td>\n    </tr>\n    <tr>\n      <th>9</th>\n      <td>5</td>\n      <td>1</td>\n      <td>Steak Burrito</td>\n      <td>[Fresh Tomato Salsa, [Rice, Black Beans, Pinto...</td>\n      <td>$9.25</td>\n    </tr>\n  </tbody>\n</table>\n</div>"
     },
     "execution_count": 108,
     "metadata": {},
     "output_type": "execute_result"
    }
   ],
   "source": [
    "# Print the first 5 rows of the dataframe\n",
    "df.head(10)"
   ],
   "metadata": {
    "collapsed": false
   }
  },
  {
   "cell_type": "code",
   "execution_count": 109,
   "outputs": [
    {
     "data": {
      "text/plain": "'\\nNaN = Not a Number\\nNA = Not Available\\nNone\\n'"
     },
     "execution_count": 109,
     "metadata": {},
     "output_type": "execute_result"
    }
   ],
   "source": [
    "\"\"\"\n",
    "NaN = Not a Number\n",
    "NA = Not Available\n",
    "None\n",
    "\"\"\""
   ],
   "metadata": {
    "collapsed": false
   }
  },
  {
   "cell_type": "code",
   "execution_count": 110,
   "outputs": [
    {
     "data": {
      "text/plain": "(4622, 5)"
     },
     "execution_count": 110,
     "metadata": {},
     "output_type": "execute_result"
    }
   ],
   "source": [
    "df.shape"
   ],
   "metadata": {
    "collapsed": false
   }
  },
  {
   "cell_type": "code",
   "execution_count": 111,
   "outputs": [
    {
     "name": "stdout",
     "output_type": "stream",
     "text": [
      "Number of observations:  4622\n",
      "Number of columns:  5\n"
     ]
    }
   ],
   "source": [
    "# Print the number of observations in the dataset and the number of columns\n",
    "print(\"Number of observations: \", df.shape[0])\n",
    "print(\"Number of columns: \", df.shape[1])"
   ],
   "metadata": {
    "collapsed": false
   }
  },
  {
   "cell_type": "code",
   "execution_count": 112,
   "outputs": [
    {
     "name": "stdout",
     "output_type": "stream",
     "text": [
      "Index(['order_id', 'quantity', 'item_name', 'choice_description',\n",
      "       'item_price'],\n",
      "      dtype='object')\n"
     ]
    }
   ],
   "source": [
    "# Print the name of all the columns\n",
    "print(df.columns)"
   ],
   "metadata": {
    "collapsed": false
   }
  },
  {
   "cell_type": "code",
   "execution_count": 113,
   "outputs": [
    {
     "name": "stdout",
     "output_type": "stream",
     "text": [
      "['order_id', 'quantity', 'item_name', 'choice_description', 'item_price']\n"
     ]
    }
   ],
   "source": [
    "# Create a list of all the columns\n",
    "columns = df.columns.tolist()\n",
    "print(columns)"
   ],
   "metadata": {
    "collapsed": false
   }
  },
  {
   "cell_type": "code",
   "execution_count": 114,
   "outputs": [
    {
     "name": "stdout",
     "output_type": "stream",
     "text": [
      "RangeIndex(start=0, stop=4622, step=1)\n"
     ]
    }
   ],
   "source": [
    "# How is the dataset indexed?\n",
    "print(df.index)"
   ],
   "metadata": {
    "collapsed": false
   }
  },
  {
   "cell_type": "code",
   "execution_count": 115,
   "outputs": [
    {
     "name": "stdout",
     "output_type": "stream",
     "text": [
      "['Chips and Fresh Tomato Salsa' 'Izze' 'Nantucket Nectar'\n",
      " 'Chips and Tomatillo-Green Chili Salsa' 'Chicken Bowl' 'Side of Chips'\n",
      " 'Steak Burrito' 'Steak Soft Tacos' 'Chips and Guacamole'\n",
      " 'Chicken Crispy Tacos' 'Chicken Soft Tacos' 'Chicken Burrito'\n",
      " 'Canned Soda' 'Barbacoa Burrito' 'Carnitas Burrito' 'Carnitas Bowl'\n",
      " 'Bottled Water' 'Chips and Tomatillo Green Chili Salsa' 'Barbacoa Bowl'\n",
      " 'Chips' 'Chicken Salad Bowl' 'Steak Bowl' 'Barbacoa Soft Tacos'\n",
      " 'Veggie Burrito' 'Veggie Bowl' 'Steak Crispy Tacos'\n",
      " 'Chips and Tomatillo Red Chili Salsa' 'Barbacoa Crispy Tacos'\n",
      " 'Veggie Salad Bowl' 'Chips and Roasted Chili-Corn Salsa'\n",
      " 'Chips and Roasted Chili Corn Salsa' 'Carnitas Soft Tacos'\n",
      " 'Chicken Salad' 'Canned Soft Drink' 'Steak Salad Bowl'\n",
      " '6 Pack Soft Drink' 'Chips and Tomatillo-Red Chili Salsa' 'Bowl'\n",
      " 'Burrito' 'Crispy Tacos' 'Carnitas Crispy Tacos' 'Steak Salad'\n",
      " 'Chips and Mild Fresh Tomato Salsa' 'Veggie Soft Tacos'\n",
      " 'Carnitas Salad Bowl' 'Barbacoa Salad Bowl' 'Salad' 'Veggie Crispy Tacos'\n",
      " 'Veggie Salad' 'Carnitas Salad']\n"
     ]
    }
   ],
   "source": [
    "# How about print only the unique values in a column?\n",
    "print(df['item_name'].unique()) # unique values in item_name column"
   ],
   "metadata": {
    "collapsed": false
   }
  },
  {
   "cell_type": "code",
   "execution_count": 116,
   "outputs": [
    {
     "name": "stdout",
     "output_type": "stream",
     "text": [
      "50\n"
     ]
    }
   ],
   "source": [
    "# How to get the number of unique values in a column?\n",
    "print(df['item_name'].nunique()) # number of unique values in item_name column"
   ],
   "metadata": {
    "collapsed": false
   }
  },
  {
   "cell_type": "code",
   "execution_count": 117,
   "outputs": [
    {
     "name": "stdout",
     "output_type": "stream",
     "text": [
      "Chicken Bowl                             726\n",
      "Chicken Burrito                          553\n",
      "Chips and Guacamole                      479\n",
      "Steak Burrito                            368\n",
      "Canned Soft Drink                        301\n",
      "Steak Bowl                               211\n",
      "Chips                                    211\n",
      "Bottled Water                            162\n",
      "Chicken Soft Tacos                       115\n",
      "Chips and Fresh Tomato Salsa             110\n",
      "Chicken Salad Bowl                       110\n",
      "Canned Soda                              104\n",
      "Side of Chips                            101\n",
      "Veggie Burrito                            95\n",
      "Barbacoa Burrito                          91\n",
      "Veggie Bowl                               85\n",
      "Carnitas Bowl                             68\n",
      "Barbacoa Bowl                             66\n",
      "Carnitas Burrito                          59\n",
      "Steak Soft Tacos                          55\n",
      "6 Pack Soft Drink                         54\n",
      "Chips and Tomatillo Red Chili Salsa       48\n",
      "Chicken Crispy Tacos                      47\n",
      "Chips and Tomatillo Green Chili Salsa     43\n",
      "Carnitas Soft Tacos                       40\n",
      "Steak Crispy Tacos                        35\n",
      "Chips and Tomatillo-Green Chili Salsa     31\n",
      "Steak Salad Bowl                          29\n",
      "Nantucket Nectar                          27\n",
      "Barbacoa Soft Tacos                       25\n",
      "Chips and Roasted Chili Corn Salsa        22\n",
      "Izze                                      20\n",
      "Chips and Tomatillo-Red Chili Salsa       20\n",
      "Veggie Salad Bowl                         18\n",
      "Chips and Roasted Chili-Corn Salsa        18\n",
      "Barbacoa Crispy Tacos                     11\n",
      "Barbacoa Salad Bowl                       10\n",
      "Chicken Salad                              9\n",
      "Veggie Soft Tacos                          7\n",
      "Carnitas Crispy Tacos                      7\n",
      "Veggie Salad                               6\n",
      "Carnitas Salad Bowl                        6\n",
      "Burrito                                    6\n",
      "Steak Salad                                4\n",
      "Crispy Tacos                               2\n",
      "Salad                                      2\n",
      "Bowl                                       2\n",
      "Chips and Mild Fresh Tomato Salsa          1\n",
      "Veggie Crispy Tacos                        1\n",
      "Carnitas Salad                             1\n",
      "Name: item_name, dtype: int64\n"
     ]
    }
   ],
   "source": [
    "# How to count a number of times each unique value appears in a column?\n",
    "print(df['item_name'].value_counts())# number of times each unique value appears in item_name column"
   ],
   "metadata": {
    "collapsed": false
   }
  },
  {
   "cell_type": "code",
   "execution_count": 118,
   "outputs": [
    {
     "name": "stdout",
     "output_type": "stream",
     "text": [
      "0                Chips and Fresh Tomato Salsa\n",
      "1                                        Izze\n",
      "2                            Nantucket Nectar\n",
      "3       Chips and Tomatillo-Green Chili Salsa\n",
      "4                                Chicken Bowl\n",
      "                        ...                  \n",
      "4617                            Steak Burrito\n",
      "4618                            Steak Burrito\n",
      "4619                       Chicken Salad Bowl\n",
      "4620                       Chicken Salad Bowl\n",
      "4621                       Chicken Salad Bowl\n",
      "Name: item_name, Length: 4622, dtype: object\n",
      "                                  item_name  quantity\n",
      "0              Chips and Fresh Tomato Salsa         1\n",
      "1                                      Izze         1\n",
      "2                          Nantucket Nectar         1\n",
      "3     Chips and Tomatillo-Green Chili Salsa         1\n",
      "4                              Chicken Bowl         2\n",
      "...                                     ...       ...\n",
      "4617                          Steak Burrito         1\n",
      "4618                          Steak Burrito         1\n",
      "4619                     Chicken Salad Bowl         1\n",
      "4620                     Chicken Salad Bowl         1\n",
      "4621                     Chicken Salad Bowl         1\n",
      "\n",
      "[4622 rows x 2 columns]\n"
     ]
    }
   ],
   "source": [
    "# How to select a column? How to select multiple columns?\n",
    "print(df['item_name']) # select a column\n",
    "print(df[['item_name', 'quantity']]) # select multiple columns"
   ],
   "metadata": {
    "collapsed": false
   }
  },
  {
   "cell_type": "code",
   "execution_count": 119,
   "outputs": [],
   "source": [
    "# Create 2 new dataframes, first with 3 columns and second with 2 columns from df\n",
    "list_of_columns = ['item_name', 'quantity', 'item_price']\n",
    "df1 = df[list_of_columns]\n",
    "df2 = df[['item_name', 'quantity']]"
   ],
   "metadata": {
    "collapsed": false
   }
  },
  {
   "cell_type": "code",
   "execution_count": 120,
   "outputs": [
    {
     "name": "stdout",
     "output_type": "stream",
     "text": [
      "order_id                         1\n",
      "quantity                         1\n",
      "item_name                     Izze\n",
      "choice_description    [Clementine]\n",
      "item_price                  $3.39 \n",
      "Name: 1, dtype: object\n",
      "   order_id  quantity                     item_name choice_description  \\\n",
      "0         1         1  Chips and Fresh Tomato Salsa                NaN   \n",
      "1         1         1                          Izze       [Clementine]   \n",
      "2         1         1              Nantucket Nectar            [Apple]   \n",
      "\n",
      "  item_price  \n",
      "0     $2.39   \n",
      "1     $3.39   \n",
      "2     $3.39   \n"
     ]
    }
   ],
   "source": [
    "# How to select a row by its index? How to select multiple rows by their index?\n",
    "print(df.iloc[1])# select a row by its index\n",
    "print(df.iloc[[0, 1, 2]]) # select multiple rows by their index (list of index)"
   ],
   "metadata": {
    "collapsed": false
   }
  },
  {
   "cell_type": "code",
   "execution_count": 121,
   "outputs": [
    {
     "name": "stdout",
     "output_type": "stream",
     "text": [
      "      order_id  quantity     item_name  \\\n",
      "4            2         2  Chicken Bowl   \n",
      "5            3         1  Chicken Bowl   \n",
      "13           7         1  Chicken Bowl   \n",
      "19          10         1  Chicken Bowl   \n",
      "26          13         1  Chicken Bowl   \n",
      "...        ...       ...           ...   \n",
      "4590      1825         1  Chicken Bowl   \n",
      "4591      1825         1  Chicken Bowl   \n",
      "4595      1826         1  Chicken Bowl   \n",
      "4599      1827         1  Chicken Bowl   \n",
      "4604      1828         1  Chicken Bowl   \n",
      "\n",
      "                                     choice_description item_price  \n",
      "4     [Tomatillo-Red Chili Salsa (Hot), [Black Beans...    $16.98   \n",
      "5     [Fresh Tomato Salsa (Mild), [Rice, Cheese, Sou...    $10.98   \n",
      "13    [Fresh Tomato Salsa, [Fajita Vegetables, Rice,...    $11.25   \n",
      "19    [Tomatillo Red Chili Salsa, [Fajita Vegetables...     $8.75   \n",
      "26    [Roasted Chili Corn Salsa (Medium), [Pinto Bea...     $8.49   \n",
      "...                                                 ...        ...  \n",
      "4590  [Roasted Chili Corn Salsa, [Rice, Black Beans,...    $11.25   \n",
      "4591  [Tomatillo Red Chili Salsa, [Rice, Black Beans...     $8.75   \n",
      "4595  [Tomatillo Green Chili Salsa, [Rice, Black Bea...     $8.75   \n",
      "4599      [Roasted Chili Corn Salsa, [Cheese, Lettuce]]     $8.75   \n",
      "4604  [Fresh Tomato Salsa, [Rice, Black Beans, Chees...     $8.75   \n",
      "\n",
      "[726 rows x 5 columns]\n",
      "      order_id  quantity     item_name  \\\n",
      "4            2         2  Chicken Bowl   \n",
      "154         70         2  Chicken Bowl   \n",
      "282        124         2  Chicken Bowl   \n",
      "409        178         3  Chicken Bowl   \n",
      "415        181         2  Chicken Bowl   \n",
      "654        271         2  Chicken Bowl   \n",
      "976        401         2  Chicken Bowl   \n",
      "1017       418         2  Chicken Bowl   \n",
      "1106       457         2  Chicken Bowl   \n",
      "1429       578         2  Chicken Bowl   \n",
      "1514       616         3  Chicken Bowl   \n",
      "1588       643         2  Chicken Bowl   \n",
      "1832       741         2  Chicken Bowl   \n",
      "2075       837         2  Chicken Bowl   \n",
      "2106       848         2  Chicken Bowl   \n",
      "2339       932         2  Chicken Bowl   \n",
      "2510       997         2  Chicken Bowl   \n",
      "2525      1004         2  Chicken Bowl   \n",
      "2580      1023         2  Chicken Bowl   \n",
      "2771      1100         2  Chicken Bowl   \n",
      "2942      1170         2  Chicken Bowl   \n",
      "3080      1227         2  Chicken Bowl   \n",
      "3133      1249         2  Chicken Bowl   \n",
      "3151      1257         2  Chicken Bowl   \n",
      "3423      1374         2  Chicken Bowl   \n",
      "3508      1410         2  Chicken Bowl   \n",
      "3612      1447         2  Chicken Bowl   \n",
      "3618      1449         2  Chicken Bowl   \n",
      "3663      1465         2  Chicken Bowl   \n",
      "3843      1540         2  Chicken Bowl   \n",
      "3976      1593         2  Chicken Bowl   \n",
      "4423      1764         2  Chicken Bowl   \n",
      "4435      1767         2  Chicken Bowl   \n",
      "\n",
      "                                     choice_description item_price  \n",
      "4     [Tomatillo-Red Chili Salsa (Hot), [Black Beans...    $16.98   \n",
      "154   [Fresh Tomato Salsa, [Fajita Vegetables, Rice,...    $17.50   \n",
      "282   [Fresh Tomato Salsa, [Rice, Black Beans, Chees...    $17.50   \n",
      "409   [[Fresh Tomato Salsa (Mild), Tomatillo-Green C...    $32.94   \n",
      "415                         [Tomatillo Red Chili Salsa]    $17.50   \n",
      "654   [Fresh Tomato Salsa, [Fajita Vegetables, Rice,...    $17.50   \n",
      "976   [Fresh Tomato Salsa, [Fajita Vegetables, Rice,...    $17.50   \n",
      "1017  [Fresh Tomato Salsa, [Rice, Cheese, Black Beans]]    $17.50   \n",
      "1106  [Fresh Tomato Salsa, [Fajita Vegetables, Rice,...    $17.50   \n",
      "1429  [Fresh Tomato Salsa, [Rice, Sour Cream, Guacam...    $22.50   \n",
      "1514  [Fresh Tomato Salsa, [Rice, Black Beans, Chees...    $26.25   \n",
      "1588  [Fresh Tomato Salsa, [Fajita Vegetables, Rice,...    $17.50   \n",
      "1832  [Tomatillo-Red Chili Salsa (Hot), [Sour Cream,...    $21.96   \n",
      "2075  [Tomatillo-Red Chili Salsa (Hot), [Pinto Beans...    $21.96   \n",
      "2106  [Fresh Tomato Salsa, [Black Beans, Cheese, Sou...    $17.50   \n",
      "2339  [[Fresh Tomato Salsa (Mild), Roasted Chili Cor...    $16.98   \n",
      "2510  [Roasted Chili Corn Salsa, [Rice, Black Beans,...    $22.50   \n",
      "2525  [Tomatillo-Red Chili Salsa (Hot), [Rice, Fajit...    $21.96   \n",
      "2580  [[Roasted Chili Corn Salsa (Medium), Fresh Tom...    $16.98   \n",
      "2771  [[Roasted Chili Corn Salsa (Medium), Fresh Tom...    $16.98   \n",
      "2942  [Tomatillo-Green Chili Salsa (Medium), [Black ...    $21.96   \n",
      "3080  [[Roasted Chili Corn Salsa (Medium), Fresh Tom...    $16.98   \n",
      "3133  [[Fresh Tomato Salsa (Mild), Roasted Chili Cor...    $16.98   \n",
      "3151  [Tomatillo-Red Chili Salsa (Hot), [Pinto Beans...    $21.96   \n",
      "3423  [Fresh Tomato Salsa, [Rice, Cheese, Sour Cream...    $17.50   \n",
      "3508  [Tomatillo-Red Chili Salsa (Hot), [Pinto Beans...    $21.96   \n",
      "3612  [Tomatillo-Red Chili Salsa (Hot), [Cheese, Sou...    $16.98   \n",
      "3618  [Fresh Tomato Salsa (Mild), [Black Beans, Rice...    $16.98   \n",
      "3663  [[Roasted Chili Corn Salsa (Medium), Fresh Tom...    $16.98   \n",
      "3843  [Tomatillo-Red Chili Salsa (Hot), [Rice, Pinto...    $21.96   \n",
      "3976  [[Roasted Chili Corn Salsa (Medium), Fresh Tom...    $16.98   \n",
      "4423  [Fresh Tomato Salsa, [Rice, Fajita Vegetables,...    $22.50   \n",
      "4435  [Fresh Tomato Salsa, [Rice, Pinto Beans, Chees...    $17.50   \n"
     ]
    }
   ],
   "source": [
    "# How to select a row by its condition? How to select multiple rows by their condition?\n",
    "print(df[df['item_name'] == 'Chicken Bowl']) # select a row by its condition (item_name == 'Chicken Bowl')\n",
    "print(df[(df['item_name'] == 'Chicken Bowl') & (df['quantity'] > 1)]) # select multiple rows by their condition (item_name == 'Chicken Bowl' and quantity > 1)"
   ],
   "metadata": {
    "collapsed": false
   }
  },
  {
   "cell_type": "code",
   "execution_count": 122,
   "outputs": [
    {
     "name": "stdout",
     "output_type": "stream",
     "text": [
      "Izze\n"
     ]
    }
   ],
   "source": [
    "# How to select a cell by row and column index?\n",
    "print(df.iloc[1, 2]) # select a cell by row and column index"
   ],
   "metadata": {
    "collapsed": false
   }
  },
  {
   "cell_type": "code",
   "execution_count": 123,
   "outputs": [
    {
     "name": "stdout",
     "output_type": "stream",
     "text": [
      "Izze\n"
     ]
    }
   ],
   "source": [
    "# How to select a cell by row and column name?\n",
    "print(df.loc[1, 'item_name']) # select a cell by row and column name"
   ],
   "metadata": {
    "collapsed": false
   }
  },
  {
   "cell_type": "code",
   "execution_count": 124,
   "outputs": [
    {
     "data": {
      "text/plain": "      order_id  quantity          item_name  \\\n3389      1360         2  6 Pack Soft Drink   \n341        148         1  6 Pack Soft Drink   \n1849       749         1  6 Pack Soft Drink   \n1860       754         1  6 Pack Soft Drink   \n2713      1076         1  6 Pack Soft Drink   \n...        ...       ...                ...   \n2384       948         1  Veggie Soft Tacos   \n781        322         1  Veggie Soft Tacos   \n2851      1132         1  Veggie Soft Tacos   \n1699       688         1  Veggie Soft Tacos   \n1395       567         1  Veggie Soft Tacos   \n\n                                     choice_description item_price  \n3389                                        [Diet Coke]    $12.98   \n341                                         [Diet Coke]     $6.49   \n1849                                             [Coke]     $6.49   \n1860                                        [Diet Coke]     $6.49   \n2713                                             [Coke]     $6.49   \n...                                                 ...        ...  \n2384  [Roasted Chili Corn Salsa, [Fajita Vegetables,...     $8.75   \n781   [Fresh Tomato Salsa, [Black Beans, Cheese, Sou...     $8.75   \n2851  [Roasted Chili Corn Salsa (Medium), [Black Bea...     $8.49   \n1699  [Fresh Tomato Salsa, [Fajita Vegetables, Rice,...    $11.25   \n1395  [Fresh Tomato Salsa (Mild), [Pinto Beans, Rice...     $8.49   \n\n[4622 rows x 5 columns]",
      "text/html": "<div>\n<style scoped>\n    .dataframe tbody tr th:only-of-type {\n        vertical-align: middle;\n    }\n\n    .dataframe tbody tr th {\n        vertical-align: top;\n    }\n\n    .dataframe thead th {\n        text-align: right;\n    }\n</style>\n<table border=\"1\" class=\"dataframe\">\n  <thead>\n    <tr style=\"text-align: right;\">\n      <th></th>\n      <th>order_id</th>\n      <th>quantity</th>\n      <th>item_name</th>\n      <th>choice_description</th>\n      <th>item_price</th>\n    </tr>\n  </thead>\n  <tbody>\n    <tr>\n      <th>3389</th>\n      <td>1360</td>\n      <td>2</td>\n      <td>6 Pack Soft Drink</td>\n      <td>[Diet Coke]</td>\n      <td>$12.98</td>\n    </tr>\n    <tr>\n      <th>341</th>\n      <td>148</td>\n      <td>1</td>\n      <td>6 Pack Soft Drink</td>\n      <td>[Diet Coke]</td>\n      <td>$6.49</td>\n    </tr>\n    <tr>\n      <th>1849</th>\n      <td>749</td>\n      <td>1</td>\n      <td>6 Pack Soft Drink</td>\n      <td>[Coke]</td>\n      <td>$6.49</td>\n    </tr>\n    <tr>\n      <th>1860</th>\n      <td>754</td>\n      <td>1</td>\n      <td>6 Pack Soft Drink</td>\n      <td>[Diet Coke]</td>\n      <td>$6.49</td>\n    </tr>\n    <tr>\n      <th>2713</th>\n      <td>1076</td>\n      <td>1</td>\n      <td>6 Pack Soft Drink</td>\n      <td>[Coke]</td>\n      <td>$6.49</td>\n    </tr>\n    <tr>\n      <th>...</th>\n      <td>...</td>\n      <td>...</td>\n      <td>...</td>\n      <td>...</td>\n      <td>...</td>\n    </tr>\n    <tr>\n      <th>2384</th>\n      <td>948</td>\n      <td>1</td>\n      <td>Veggie Soft Tacos</td>\n      <td>[Roasted Chili Corn Salsa, [Fajita Vegetables,...</td>\n      <td>$8.75</td>\n    </tr>\n    <tr>\n      <th>781</th>\n      <td>322</td>\n      <td>1</td>\n      <td>Veggie Soft Tacos</td>\n      <td>[Fresh Tomato Salsa, [Black Beans, Cheese, Sou...</td>\n      <td>$8.75</td>\n    </tr>\n    <tr>\n      <th>2851</th>\n      <td>1132</td>\n      <td>1</td>\n      <td>Veggie Soft Tacos</td>\n      <td>[Roasted Chili Corn Salsa (Medium), [Black Bea...</td>\n      <td>$8.49</td>\n    </tr>\n    <tr>\n      <th>1699</th>\n      <td>688</td>\n      <td>1</td>\n      <td>Veggie Soft Tacos</td>\n      <td>[Fresh Tomato Salsa, [Fajita Vegetables, Rice,...</td>\n      <td>$11.25</td>\n    </tr>\n    <tr>\n      <th>1395</th>\n      <td>567</td>\n      <td>1</td>\n      <td>Veggie Soft Tacos</td>\n      <td>[Fresh Tomato Salsa (Mild), [Pinto Beans, Rice...</td>\n      <td>$8.49</td>\n    </tr>\n  </tbody>\n</table>\n<p>4622 rows × 5 columns</p>\n</div>"
     },
     "execution_count": 124,
     "metadata": {},
     "output_type": "execute_result"
    }
   ],
   "source": [
    "# How to sort a dataframe by a column?\n",
    "df_sorted =  df.sort_values(by='item_name', ascending=True) # sort a dataframe by a column (item_name)\n",
    "df_sorted"
   ],
   "metadata": {
    "collapsed": false
   }
  },
  {
   "cell_type": "code",
   "execution_count": 125,
   "outputs": [
    {
     "data": {
      "text/plain": "      order_id  quantity          item_name  \\\n298        129         1  6 Pack Soft Drink   \n341        148         1  6 Pack Soft Drink   \n357        154         1  6 Pack Soft Drink   \n388        168         1  6 Pack Soft Drink   \n417        182         1  6 Pack Soft Drink   \n...        ...       ...                ...   \n1395       567         1  Veggie Soft Tacos   \n1699       688         1  Veggie Soft Tacos   \n2384       948         1  Veggie Soft Tacos   \n2851      1132         1  Veggie Soft Tacos   \n3889      1559         2  Veggie Soft Tacos   \n\n                                     choice_description item_price  \n298                                            [Sprite]     $6.49   \n341                                         [Diet Coke]     $6.49   \n357                                              [Coke]     $6.49   \n388                                         [Diet Coke]     $6.49   \n417                                         [Diet Coke]     $6.49   \n...                                                 ...        ...  \n1395  [Fresh Tomato Salsa (Mild), [Pinto Beans, Rice...     $8.49   \n1699  [Fresh Tomato Salsa, [Fajita Vegetables, Rice,...    $11.25   \n2384  [Roasted Chili Corn Salsa, [Fajita Vegetables,...     $8.75   \n2851  [Roasted Chili Corn Salsa (Medium), [Black Bea...     $8.49   \n3889  [Fresh Tomato Salsa (Mild), [Black Beans, Rice...    $16.98   \n\n[4622 rows x 5 columns]",
      "text/html": "<div>\n<style scoped>\n    .dataframe tbody tr th:only-of-type {\n        vertical-align: middle;\n    }\n\n    .dataframe tbody tr th {\n        vertical-align: top;\n    }\n\n    .dataframe thead th {\n        text-align: right;\n    }\n</style>\n<table border=\"1\" class=\"dataframe\">\n  <thead>\n    <tr style=\"text-align: right;\">\n      <th></th>\n      <th>order_id</th>\n      <th>quantity</th>\n      <th>item_name</th>\n      <th>choice_description</th>\n      <th>item_price</th>\n    </tr>\n  </thead>\n  <tbody>\n    <tr>\n      <th>298</th>\n      <td>129</td>\n      <td>1</td>\n      <td>6 Pack Soft Drink</td>\n      <td>[Sprite]</td>\n      <td>$6.49</td>\n    </tr>\n    <tr>\n      <th>341</th>\n      <td>148</td>\n      <td>1</td>\n      <td>6 Pack Soft Drink</td>\n      <td>[Diet Coke]</td>\n      <td>$6.49</td>\n    </tr>\n    <tr>\n      <th>357</th>\n      <td>154</td>\n      <td>1</td>\n      <td>6 Pack Soft Drink</td>\n      <td>[Coke]</td>\n      <td>$6.49</td>\n    </tr>\n    <tr>\n      <th>388</th>\n      <td>168</td>\n      <td>1</td>\n      <td>6 Pack Soft Drink</td>\n      <td>[Diet Coke]</td>\n      <td>$6.49</td>\n    </tr>\n    <tr>\n      <th>417</th>\n      <td>182</td>\n      <td>1</td>\n      <td>6 Pack Soft Drink</td>\n      <td>[Diet Coke]</td>\n      <td>$6.49</td>\n    </tr>\n    <tr>\n      <th>...</th>\n      <td>...</td>\n      <td>...</td>\n      <td>...</td>\n      <td>...</td>\n      <td>...</td>\n    </tr>\n    <tr>\n      <th>1395</th>\n      <td>567</td>\n      <td>1</td>\n      <td>Veggie Soft Tacos</td>\n      <td>[Fresh Tomato Salsa (Mild), [Pinto Beans, Rice...</td>\n      <td>$8.49</td>\n    </tr>\n    <tr>\n      <th>1699</th>\n      <td>688</td>\n      <td>1</td>\n      <td>Veggie Soft Tacos</td>\n      <td>[Fresh Tomato Salsa, [Fajita Vegetables, Rice,...</td>\n      <td>$11.25</td>\n    </tr>\n    <tr>\n      <th>2384</th>\n      <td>948</td>\n      <td>1</td>\n      <td>Veggie Soft Tacos</td>\n      <td>[Roasted Chili Corn Salsa, [Fajita Vegetables,...</td>\n      <td>$8.75</td>\n    </tr>\n    <tr>\n      <th>2851</th>\n      <td>1132</td>\n      <td>1</td>\n      <td>Veggie Soft Tacos</td>\n      <td>[Roasted Chili Corn Salsa (Medium), [Black Bea...</td>\n      <td>$8.49</td>\n    </tr>\n    <tr>\n      <th>3889</th>\n      <td>1559</td>\n      <td>2</td>\n      <td>Veggie Soft Tacos</td>\n      <td>[Fresh Tomato Salsa (Mild), [Black Beans, Rice...</td>\n      <td>$16.98</td>\n    </tr>\n  </tbody>\n</table>\n<p>4622 rows × 5 columns</p>\n</div>"
     },
     "execution_count": 125,
     "metadata": {},
     "output_type": "execute_result"
    }
   ],
   "source": [
    "# How to sort a dataframe by multiple columns?\n",
    "df_sorted = df.sort_values(by=['item_name', 'quantity'], ascending=[True, True]) # sort a dataframe by multiple columns (item_name and quantity)\n",
    "df_sorted"
   ],
   "metadata": {
    "collapsed": false
   }
  },
  {
   "cell_type": "code",
   "execution_count": 126,
   "outputs": [
    {
     "data": {
      "text/plain": "      order_id  quantity                              item_name  \\\n0            1         1           Chips and Fresh Tomato Salsa   \n1            1         1                                   Izze   \n2            1         1                       Nantucket Nectar   \n3            1         1  Chips and Tomatillo-Green Chili Salsa   \n4            2         2                           Chicken Bowl   \n...        ...       ...                                    ...   \n4617      1833         1                          Steak Burrito   \n4618      1833         1                          Steak Burrito   \n4619      1834         1                     Chicken Salad Bowl   \n4620      1834         1                     Chicken Salad Bowl   \n4621      1834         1                     Chicken Salad Bowl   \n\n                                     choice_description item_price  new_column  \n0                                                   NaN     $2.39            0  \n1                                          [Clementine]     $3.39            0  \n2                                               [Apple]     $3.39            0  \n3                                                   NaN     $2.39            0  \n4     [Tomatillo-Red Chili Salsa (Hot), [Black Beans...    $16.98            0  \n...                                                 ...        ...         ...  \n4617  [Fresh Tomato Salsa, [Rice, Black Beans, Sour ...    $11.75            0  \n4618  [Fresh Tomato Salsa, [Rice, Sour Cream, Cheese...    $11.75            0  \n4619  [Fresh Tomato Salsa, [Fajita Vegetables, Pinto...    $11.25            0  \n4620  [Fresh Tomato Salsa, [Fajita Vegetables, Lettu...     $8.75            0  \n4621  [Fresh Tomato Salsa, [Fajita Vegetables, Pinto...     $8.75            0  \n\n[4622 rows x 6 columns]",
      "text/html": "<div>\n<style scoped>\n    .dataframe tbody tr th:only-of-type {\n        vertical-align: middle;\n    }\n\n    .dataframe tbody tr th {\n        vertical-align: top;\n    }\n\n    .dataframe thead th {\n        text-align: right;\n    }\n</style>\n<table border=\"1\" class=\"dataframe\">\n  <thead>\n    <tr style=\"text-align: right;\">\n      <th></th>\n      <th>order_id</th>\n      <th>quantity</th>\n      <th>item_name</th>\n      <th>choice_description</th>\n      <th>item_price</th>\n      <th>new_column</th>\n    </tr>\n  </thead>\n  <tbody>\n    <tr>\n      <th>0</th>\n      <td>1</td>\n      <td>1</td>\n      <td>Chips and Fresh Tomato Salsa</td>\n      <td>NaN</td>\n      <td>$2.39</td>\n      <td>0</td>\n    </tr>\n    <tr>\n      <th>1</th>\n      <td>1</td>\n      <td>1</td>\n      <td>Izze</td>\n      <td>[Clementine]</td>\n      <td>$3.39</td>\n      <td>0</td>\n    </tr>\n    <tr>\n      <th>2</th>\n      <td>1</td>\n      <td>1</td>\n      <td>Nantucket Nectar</td>\n      <td>[Apple]</td>\n      <td>$3.39</td>\n      <td>0</td>\n    </tr>\n    <tr>\n      <th>3</th>\n      <td>1</td>\n      <td>1</td>\n      <td>Chips and Tomatillo-Green Chili Salsa</td>\n      <td>NaN</td>\n      <td>$2.39</td>\n      <td>0</td>\n    </tr>\n    <tr>\n      <th>4</th>\n      <td>2</td>\n      <td>2</td>\n      <td>Chicken Bowl</td>\n      <td>[Tomatillo-Red Chili Salsa (Hot), [Black Beans...</td>\n      <td>$16.98</td>\n      <td>0</td>\n    </tr>\n    <tr>\n      <th>...</th>\n      <td>...</td>\n      <td>...</td>\n      <td>...</td>\n      <td>...</td>\n      <td>...</td>\n      <td>...</td>\n    </tr>\n    <tr>\n      <th>4617</th>\n      <td>1833</td>\n      <td>1</td>\n      <td>Steak Burrito</td>\n      <td>[Fresh Tomato Salsa, [Rice, Black Beans, Sour ...</td>\n      <td>$11.75</td>\n      <td>0</td>\n    </tr>\n    <tr>\n      <th>4618</th>\n      <td>1833</td>\n      <td>1</td>\n      <td>Steak Burrito</td>\n      <td>[Fresh Tomato Salsa, [Rice, Sour Cream, Cheese...</td>\n      <td>$11.75</td>\n      <td>0</td>\n    </tr>\n    <tr>\n      <th>4619</th>\n      <td>1834</td>\n      <td>1</td>\n      <td>Chicken Salad Bowl</td>\n      <td>[Fresh Tomato Salsa, [Fajita Vegetables, Pinto...</td>\n      <td>$11.25</td>\n      <td>0</td>\n    </tr>\n    <tr>\n      <th>4620</th>\n      <td>1834</td>\n      <td>1</td>\n      <td>Chicken Salad Bowl</td>\n      <td>[Fresh Tomato Salsa, [Fajita Vegetables, Lettu...</td>\n      <td>$8.75</td>\n      <td>0</td>\n    </tr>\n    <tr>\n      <th>4621</th>\n      <td>1834</td>\n      <td>1</td>\n      <td>Chicken Salad Bowl</td>\n      <td>[Fresh Tomato Salsa, [Fajita Vegetables, Pinto...</td>\n      <td>$8.75</td>\n      <td>0</td>\n    </tr>\n  </tbody>\n</table>\n<p>4622 rows × 6 columns</p>\n</div>"
     },
     "execution_count": 126,
     "metadata": {},
     "output_type": "execute_result"
    }
   ],
   "source": [
    "# How to add a new column to a dataframe? How to assign a value to a column?\n",
    "df['new_column'] = 0 # add a new column to a dataframe\n",
    "df"
   ],
   "metadata": {
    "collapsed": false
   }
  },
  {
   "cell_type": "code",
   "execution_count": 127,
   "outputs": [
    {
     "data": {
      "text/plain": "      order_id  quantity                              item_name  \\\n0            1         1           Chips and Fresh Tomato Salsa   \n1            1         1                                   Izze   \n2            1         1                       Nantucket Nectar   \n3            1         1  Chips and Tomatillo-Green Chili Salsa   \n4            2         2                           Chicken Bowl   \n...        ...       ...                                    ...   \n4617      1833         1                          Steak Burrito   \n4618      1833         1                          Steak Burrito   \n4619      1834         1                     Chicken Salad Bowl   \n4620      1834         1                     Chicken Salad Bowl   \n4621      1834         1                     Chicken Salad Bowl   \n\n                                     choice_description item_price  \\\n0                                                   NaN     $2.39    \n1                                          [Clementine]     $3.39    \n2                                               [Apple]     $3.39    \n3                                                   NaN     $2.39    \n4     [Tomatillo-Red Chili Salsa (Hot), [Black Beans...    $16.98    \n...                                                 ...        ...   \n4617  [Fresh Tomato Salsa, [Rice, Black Beans, Sour ...    $11.75    \n4618  [Fresh Tomato Salsa, [Rice, Sour Cream, Cheese...    $11.75    \n4619  [Fresh Tomato Salsa, [Fajita Vegetables, Pinto...    $11.25    \n4620  [Fresh Tomato Salsa, [Fajita Vegetables, Lettu...     $8.75    \n4621  [Fresh Tomato Salsa, [Fajita Vegetables, Pinto...     $8.75    \n\n                                 new_column  \n0              Chips and Fresh Tomato Salsa  \n1                                      Izze  \n2                          Nantucket Nectar  \n3     Chips and Tomatillo-Green Chili Salsa  \n4                              Chicken Bowl  \n...                                     ...  \n4617                          Steak Burrito  \n4618                          Steak Burrito  \n4619                     Chicken Salad Bowl  \n4620                     Chicken Salad Bowl  \n4621                     Chicken Salad Bowl  \n\n[4622 rows x 6 columns]",
      "text/html": "<div>\n<style scoped>\n    .dataframe tbody tr th:only-of-type {\n        vertical-align: middle;\n    }\n\n    .dataframe tbody tr th {\n        vertical-align: top;\n    }\n\n    .dataframe thead th {\n        text-align: right;\n    }\n</style>\n<table border=\"1\" class=\"dataframe\">\n  <thead>\n    <tr style=\"text-align: right;\">\n      <th></th>\n      <th>order_id</th>\n      <th>quantity</th>\n      <th>item_name</th>\n      <th>choice_description</th>\n      <th>item_price</th>\n      <th>new_column</th>\n    </tr>\n  </thead>\n  <tbody>\n    <tr>\n      <th>0</th>\n      <td>1</td>\n      <td>1</td>\n      <td>Chips and Fresh Tomato Salsa</td>\n      <td>NaN</td>\n      <td>$2.39</td>\n      <td>Chips and Fresh Tomato Salsa</td>\n    </tr>\n    <tr>\n      <th>1</th>\n      <td>1</td>\n      <td>1</td>\n      <td>Izze</td>\n      <td>[Clementine]</td>\n      <td>$3.39</td>\n      <td>Izze</td>\n    </tr>\n    <tr>\n      <th>2</th>\n      <td>1</td>\n      <td>1</td>\n      <td>Nantucket Nectar</td>\n      <td>[Apple]</td>\n      <td>$3.39</td>\n      <td>Nantucket Nectar</td>\n    </tr>\n    <tr>\n      <th>3</th>\n      <td>1</td>\n      <td>1</td>\n      <td>Chips and Tomatillo-Green Chili Salsa</td>\n      <td>NaN</td>\n      <td>$2.39</td>\n      <td>Chips and Tomatillo-Green Chili Salsa</td>\n    </tr>\n    <tr>\n      <th>4</th>\n      <td>2</td>\n      <td>2</td>\n      <td>Chicken Bowl</td>\n      <td>[Tomatillo-Red Chili Salsa (Hot), [Black Beans...</td>\n      <td>$16.98</td>\n      <td>Chicken Bowl</td>\n    </tr>\n    <tr>\n      <th>...</th>\n      <td>...</td>\n      <td>...</td>\n      <td>...</td>\n      <td>...</td>\n      <td>...</td>\n      <td>...</td>\n    </tr>\n    <tr>\n      <th>4617</th>\n      <td>1833</td>\n      <td>1</td>\n      <td>Steak Burrito</td>\n      <td>[Fresh Tomato Salsa, [Rice, Black Beans, Sour ...</td>\n      <td>$11.75</td>\n      <td>Steak Burrito</td>\n    </tr>\n    <tr>\n      <th>4618</th>\n      <td>1833</td>\n      <td>1</td>\n      <td>Steak Burrito</td>\n      <td>[Fresh Tomato Salsa, [Rice, Sour Cream, Cheese...</td>\n      <td>$11.75</td>\n      <td>Steak Burrito</td>\n    </tr>\n    <tr>\n      <th>4619</th>\n      <td>1834</td>\n      <td>1</td>\n      <td>Chicken Salad Bowl</td>\n      <td>[Fresh Tomato Salsa, [Fajita Vegetables, Pinto...</td>\n      <td>$11.25</td>\n      <td>Chicken Salad Bowl</td>\n    </tr>\n    <tr>\n      <th>4620</th>\n      <td>1834</td>\n      <td>1</td>\n      <td>Chicken Salad Bowl</td>\n      <td>[Fresh Tomato Salsa, [Fajita Vegetables, Lettu...</td>\n      <td>$8.75</td>\n      <td>Chicken Salad Bowl</td>\n    </tr>\n    <tr>\n      <th>4621</th>\n      <td>1834</td>\n      <td>1</td>\n      <td>Chicken Salad Bowl</td>\n      <td>[Fresh Tomato Salsa, [Fajita Vegetables, Pinto...</td>\n      <td>$8.75</td>\n      <td>Chicken Salad Bowl</td>\n    </tr>\n  </tbody>\n</table>\n<p>4622 rows × 6 columns</p>\n</div>"
     },
     "execution_count": 127,
     "metadata": {},
     "output_type": "execute_result"
    }
   ],
   "source": [
    "df['new_column'] = df['item_name'] # assign a value to a column\n",
    "df"
   ],
   "metadata": {
    "collapsed": false
   }
  },
  {
   "cell_type": "code",
   "execution_count": 128,
   "outputs": [
    {
     "data": {
      "text/plain": "      order_id  quantity                              item_name  \\\n0            1         1           Chips and Fresh Tomato Salsa   \n1            1         1                                   Izze   \n2            1         1                       Nantucket Nectar   \n3            1         1  Chips and Tomatillo-Green Chili Salsa   \n4            2         2                           Chicken Bowl   \n...        ...       ...                                    ...   \n4617      1833         1                          Steak Burrito   \n4618      1833         1                          Steak Burrito   \n4619      1834         1                     Chicken Salad Bowl   \n4620      1834         1                     Chicken Salad Bowl   \n4621      1834         1                     Chicken Salad Bowl   \n\n                                     choice_description item_price  \n0                                                   NaN     $2.39   \n1                                          [Clementine]     $3.39   \n2                                               [Apple]     $3.39   \n3                                                   NaN     $2.39   \n4     [Tomatillo-Red Chili Salsa (Hot), [Black Beans...    $16.98   \n...                                                 ...        ...  \n4617  [Fresh Tomato Salsa, [Rice, Black Beans, Sour ...    $11.75   \n4618  [Fresh Tomato Salsa, [Rice, Sour Cream, Cheese...    $11.75   \n4619  [Fresh Tomato Salsa, [Fajita Vegetables, Pinto...    $11.25   \n4620  [Fresh Tomato Salsa, [Fajita Vegetables, Lettu...     $8.75   \n4621  [Fresh Tomato Salsa, [Fajita Vegetables, Pinto...     $8.75   \n\n[4622 rows x 5 columns]",
      "text/html": "<div>\n<style scoped>\n    .dataframe tbody tr th:only-of-type {\n        vertical-align: middle;\n    }\n\n    .dataframe tbody tr th {\n        vertical-align: top;\n    }\n\n    .dataframe thead th {\n        text-align: right;\n    }\n</style>\n<table border=\"1\" class=\"dataframe\">\n  <thead>\n    <tr style=\"text-align: right;\">\n      <th></th>\n      <th>order_id</th>\n      <th>quantity</th>\n      <th>item_name</th>\n      <th>choice_description</th>\n      <th>item_price</th>\n    </tr>\n  </thead>\n  <tbody>\n    <tr>\n      <th>0</th>\n      <td>1</td>\n      <td>1</td>\n      <td>Chips and Fresh Tomato Salsa</td>\n      <td>NaN</td>\n      <td>$2.39</td>\n    </tr>\n    <tr>\n      <th>1</th>\n      <td>1</td>\n      <td>1</td>\n      <td>Izze</td>\n      <td>[Clementine]</td>\n      <td>$3.39</td>\n    </tr>\n    <tr>\n      <th>2</th>\n      <td>1</td>\n      <td>1</td>\n      <td>Nantucket Nectar</td>\n      <td>[Apple]</td>\n      <td>$3.39</td>\n    </tr>\n    <tr>\n      <th>3</th>\n      <td>1</td>\n      <td>1</td>\n      <td>Chips and Tomatillo-Green Chili Salsa</td>\n      <td>NaN</td>\n      <td>$2.39</td>\n    </tr>\n    <tr>\n      <th>4</th>\n      <td>2</td>\n      <td>2</td>\n      <td>Chicken Bowl</td>\n      <td>[Tomatillo-Red Chili Salsa (Hot), [Black Beans...</td>\n      <td>$16.98</td>\n    </tr>\n    <tr>\n      <th>...</th>\n      <td>...</td>\n      <td>...</td>\n      <td>...</td>\n      <td>...</td>\n      <td>...</td>\n    </tr>\n    <tr>\n      <th>4617</th>\n      <td>1833</td>\n      <td>1</td>\n      <td>Steak Burrito</td>\n      <td>[Fresh Tomato Salsa, [Rice, Black Beans, Sour ...</td>\n      <td>$11.75</td>\n    </tr>\n    <tr>\n      <th>4618</th>\n      <td>1833</td>\n      <td>1</td>\n      <td>Steak Burrito</td>\n      <td>[Fresh Tomato Salsa, [Rice, Sour Cream, Cheese...</td>\n      <td>$11.75</td>\n    </tr>\n    <tr>\n      <th>4619</th>\n      <td>1834</td>\n      <td>1</td>\n      <td>Chicken Salad Bowl</td>\n      <td>[Fresh Tomato Salsa, [Fajita Vegetables, Pinto...</td>\n      <td>$11.25</td>\n    </tr>\n    <tr>\n      <th>4620</th>\n      <td>1834</td>\n      <td>1</td>\n      <td>Chicken Salad Bowl</td>\n      <td>[Fresh Tomato Salsa, [Fajita Vegetables, Lettu...</td>\n      <td>$8.75</td>\n    </tr>\n    <tr>\n      <th>4621</th>\n      <td>1834</td>\n      <td>1</td>\n      <td>Chicken Salad Bowl</td>\n      <td>[Fresh Tomato Salsa, [Fajita Vegetables, Pinto...</td>\n      <td>$8.75</td>\n    </tr>\n  </tbody>\n</table>\n<p>4622 rows × 5 columns</p>\n</div>"
     },
     "execution_count": 128,
     "metadata": {},
     "output_type": "execute_result"
    }
   ],
   "source": [
    "# How to delete a column from a dataframe?\n",
    "df.drop('new_column', axis=1, inplace=True) # delete a column from a dataframe\n",
    "df"
   ],
   "metadata": {
    "collapsed": false
   }
  },
  {
   "cell_type": "code",
   "execution_count": 129,
   "outputs": [
    {
     "data": {
      "text/plain": "      order_id  quantity                              item_name  \\\n0            0         0                                      0   \n1            1         1                                   Izze   \n2            1         1                       Nantucket Nectar   \n3            1         1  Chips and Tomatillo-Green Chili Salsa   \n4            2         2                           Chicken Bowl   \n...        ...       ...                                    ...   \n4617      1833         1                          Steak Burrito   \n4618      1833         1                          Steak Burrito   \n4619      1834         1                     Chicken Salad Bowl   \n4620      1834         1                     Chicken Salad Bowl   \n4621      1834         1                     Chicken Salad Bowl   \n\n                                     choice_description item_price  \n0                                                     0          0  \n1                                          [Clementine]     $3.39   \n2                                               [Apple]     $3.39   \n3                                                   NaN     $2.39   \n4     [Tomatillo-Red Chili Salsa (Hot), [Black Beans...    $16.98   \n...                                                 ...        ...  \n4617  [Fresh Tomato Salsa, [Rice, Black Beans, Sour ...    $11.75   \n4618  [Fresh Tomato Salsa, [Rice, Sour Cream, Cheese...    $11.75   \n4619  [Fresh Tomato Salsa, [Fajita Vegetables, Pinto...    $11.25   \n4620  [Fresh Tomato Salsa, [Fajita Vegetables, Lettu...     $8.75   \n4621  [Fresh Tomato Salsa, [Fajita Vegetables, Pinto...     $8.75   \n\n[4622 rows x 5 columns]",
      "text/html": "<div>\n<style scoped>\n    .dataframe tbody tr th:only-of-type {\n        vertical-align: middle;\n    }\n\n    .dataframe tbody tr th {\n        vertical-align: top;\n    }\n\n    .dataframe thead th {\n        text-align: right;\n    }\n</style>\n<table border=\"1\" class=\"dataframe\">\n  <thead>\n    <tr style=\"text-align: right;\">\n      <th></th>\n      <th>order_id</th>\n      <th>quantity</th>\n      <th>item_name</th>\n      <th>choice_description</th>\n      <th>item_price</th>\n    </tr>\n  </thead>\n  <tbody>\n    <tr>\n      <th>0</th>\n      <td>0</td>\n      <td>0</td>\n      <td>0</td>\n      <td>0</td>\n      <td>0</td>\n    </tr>\n    <tr>\n      <th>1</th>\n      <td>1</td>\n      <td>1</td>\n      <td>Izze</td>\n      <td>[Clementine]</td>\n      <td>$3.39</td>\n    </tr>\n    <tr>\n      <th>2</th>\n      <td>1</td>\n      <td>1</td>\n      <td>Nantucket Nectar</td>\n      <td>[Apple]</td>\n      <td>$3.39</td>\n    </tr>\n    <tr>\n      <th>3</th>\n      <td>1</td>\n      <td>1</td>\n      <td>Chips and Tomatillo-Green Chili Salsa</td>\n      <td>NaN</td>\n      <td>$2.39</td>\n    </tr>\n    <tr>\n      <th>4</th>\n      <td>2</td>\n      <td>2</td>\n      <td>Chicken Bowl</td>\n      <td>[Tomatillo-Red Chili Salsa (Hot), [Black Beans...</td>\n      <td>$16.98</td>\n    </tr>\n    <tr>\n      <th>...</th>\n      <td>...</td>\n      <td>...</td>\n      <td>...</td>\n      <td>...</td>\n      <td>...</td>\n    </tr>\n    <tr>\n      <th>4617</th>\n      <td>1833</td>\n      <td>1</td>\n      <td>Steak Burrito</td>\n      <td>[Fresh Tomato Salsa, [Rice, Black Beans, Sour ...</td>\n      <td>$11.75</td>\n    </tr>\n    <tr>\n      <th>4618</th>\n      <td>1833</td>\n      <td>1</td>\n      <td>Steak Burrito</td>\n      <td>[Fresh Tomato Salsa, [Rice, Sour Cream, Cheese...</td>\n      <td>$11.75</td>\n    </tr>\n    <tr>\n      <th>4619</th>\n      <td>1834</td>\n      <td>1</td>\n      <td>Chicken Salad Bowl</td>\n      <td>[Fresh Tomato Salsa, [Fajita Vegetables, Pinto...</td>\n      <td>$11.25</td>\n    </tr>\n    <tr>\n      <th>4620</th>\n      <td>1834</td>\n      <td>1</td>\n      <td>Chicken Salad Bowl</td>\n      <td>[Fresh Tomato Salsa, [Fajita Vegetables, Lettu...</td>\n      <td>$8.75</td>\n    </tr>\n    <tr>\n      <th>4621</th>\n      <td>1834</td>\n      <td>1</td>\n      <td>Chicken Salad Bowl</td>\n      <td>[Fresh Tomato Salsa, [Fajita Vegetables, Pinto...</td>\n      <td>$8.75</td>\n    </tr>\n  </tbody>\n</table>\n<p>4622 rows × 5 columns</p>\n</div>"
     },
     "execution_count": 129,
     "metadata": {},
     "output_type": "execute_result"
    }
   ],
   "source": [
    "# How to add a new row to a dataframe? How to assign a value to a row?\n",
    "df.loc[0] = 0 # add a new row to a dataframe\n",
    "df"
   ],
   "metadata": {
    "collapsed": false
   }
  },
  {
   "cell_type": "code",
   "execution_count": 130,
   "outputs": [
    {
     "data": {
      "text/plain": "      order_id  quantity                              item_name  \\\n0            1         1                                      1   \n1            1         1                                   Izze   \n2            1         1                       Nantucket Nectar   \n3            1         1  Chips and Tomatillo-Green Chili Salsa   \n4            2         2                           Chicken Bowl   \n...        ...       ...                                    ...   \n4617      1833         1                          Steak Burrito   \n4618      1833         1                          Steak Burrito   \n4619      1834         1                     Chicken Salad Bowl   \n4620      1834         1                     Chicken Salad Bowl   \n4621      1834         1                     Chicken Salad Bowl   \n\n                                     choice_description item_price  \n0                                                     1          1  \n1                                          [Clementine]     $3.39   \n2                                               [Apple]     $3.39   \n3                                                   NaN     $2.39   \n4     [Tomatillo-Red Chili Salsa (Hot), [Black Beans...    $16.98   \n...                                                 ...        ...  \n4617  [Fresh Tomato Salsa, [Rice, Black Beans, Sour ...    $11.75   \n4618  [Fresh Tomato Salsa, [Rice, Sour Cream, Cheese...    $11.75   \n4619  [Fresh Tomato Salsa, [Fajita Vegetables, Pinto...    $11.25   \n4620  [Fresh Tomato Salsa, [Fajita Vegetables, Lettu...     $8.75   \n4621  [Fresh Tomato Salsa, [Fajita Vegetables, Pinto...     $8.75   \n\n[4622 rows x 5 columns]",
      "text/html": "<div>\n<style scoped>\n    .dataframe tbody tr th:only-of-type {\n        vertical-align: middle;\n    }\n\n    .dataframe tbody tr th {\n        vertical-align: top;\n    }\n\n    .dataframe thead th {\n        text-align: right;\n    }\n</style>\n<table border=\"1\" class=\"dataframe\">\n  <thead>\n    <tr style=\"text-align: right;\">\n      <th></th>\n      <th>order_id</th>\n      <th>quantity</th>\n      <th>item_name</th>\n      <th>choice_description</th>\n      <th>item_price</th>\n    </tr>\n  </thead>\n  <tbody>\n    <tr>\n      <th>0</th>\n      <td>1</td>\n      <td>1</td>\n      <td>1</td>\n      <td>1</td>\n      <td>1</td>\n    </tr>\n    <tr>\n      <th>1</th>\n      <td>1</td>\n      <td>1</td>\n      <td>Izze</td>\n      <td>[Clementine]</td>\n      <td>$3.39</td>\n    </tr>\n    <tr>\n      <th>2</th>\n      <td>1</td>\n      <td>1</td>\n      <td>Nantucket Nectar</td>\n      <td>[Apple]</td>\n      <td>$3.39</td>\n    </tr>\n    <tr>\n      <th>3</th>\n      <td>1</td>\n      <td>1</td>\n      <td>Chips and Tomatillo-Green Chili Salsa</td>\n      <td>NaN</td>\n      <td>$2.39</td>\n    </tr>\n    <tr>\n      <th>4</th>\n      <td>2</td>\n      <td>2</td>\n      <td>Chicken Bowl</td>\n      <td>[Tomatillo-Red Chili Salsa (Hot), [Black Beans...</td>\n      <td>$16.98</td>\n    </tr>\n    <tr>\n      <th>...</th>\n      <td>...</td>\n      <td>...</td>\n      <td>...</td>\n      <td>...</td>\n      <td>...</td>\n    </tr>\n    <tr>\n      <th>4617</th>\n      <td>1833</td>\n      <td>1</td>\n      <td>Steak Burrito</td>\n      <td>[Fresh Tomato Salsa, [Rice, Black Beans, Sour ...</td>\n      <td>$11.75</td>\n    </tr>\n    <tr>\n      <th>4618</th>\n      <td>1833</td>\n      <td>1</td>\n      <td>Steak Burrito</td>\n      <td>[Fresh Tomato Salsa, [Rice, Sour Cream, Cheese...</td>\n      <td>$11.75</td>\n    </tr>\n    <tr>\n      <th>4619</th>\n      <td>1834</td>\n      <td>1</td>\n      <td>Chicken Salad Bowl</td>\n      <td>[Fresh Tomato Salsa, [Fajita Vegetables, Pinto...</td>\n      <td>$11.25</td>\n    </tr>\n    <tr>\n      <th>4620</th>\n      <td>1834</td>\n      <td>1</td>\n      <td>Chicken Salad Bowl</td>\n      <td>[Fresh Tomato Salsa, [Fajita Vegetables, Lettu...</td>\n      <td>$8.75</td>\n    </tr>\n    <tr>\n      <th>4621</th>\n      <td>1834</td>\n      <td>1</td>\n      <td>Chicken Salad Bowl</td>\n      <td>[Fresh Tomato Salsa, [Fajita Vegetables, Pinto...</td>\n      <td>$8.75</td>\n    </tr>\n  </tbody>\n</table>\n<p>4622 rows × 5 columns</p>\n</div>"
     },
     "execution_count": 130,
     "metadata": {},
     "output_type": "execute_result"
    }
   ],
   "source": [
    "df.loc[0] = df.loc[0] + 1 # assign a value to a row\n",
    "df"
   ],
   "metadata": {
    "collapsed": false
   }
  },
  {
   "cell_type": "code",
   "execution_count": 131,
   "outputs": [
    {
     "data": {
      "text/plain": "      order_id  quantity                              item_name  \\\n1            1         1                                   Izze   \n2            1         1                       Nantucket Nectar   \n3            1         1  Chips and Tomatillo-Green Chili Salsa   \n4            2         2                           Chicken Bowl   \n5            3         1                           Chicken Bowl   \n...        ...       ...                                    ...   \n4617      1833         1                          Steak Burrito   \n4618      1833         1                          Steak Burrito   \n4619      1834         1                     Chicken Salad Bowl   \n4620      1834         1                     Chicken Salad Bowl   \n4621      1834         1                     Chicken Salad Bowl   \n\n                                     choice_description item_price  \n1                                          [Clementine]     $3.39   \n2                                               [Apple]     $3.39   \n3                                                   NaN     $2.39   \n4     [Tomatillo-Red Chili Salsa (Hot), [Black Beans...    $16.98   \n5     [Fresh Tomato Salsa (Mild), [Rice, Cheese, Sou...    $10.98   \n...                                                 ...        ...  \n4617  [Fresh Tomato Salsa, [Rice, Black Beans, Sour ...    $11.75   \n4618  [Fresh Tomato Salsa, [Rice, Sour Cream, Cheese...    $11.75   \n4619  [Fresh Tomato Salsa, [Fajita Vegetables, Pinto...    $11.25   \n4620  [Fresh Tomato Salsa, [Fajita Vegetables, Lettu...     $8.75   \n4621  [Fresh Tomato Salsa, [Fajita Vegetables, Pinto...     $8.75   \n\n[4621 rows x 5 columns]",
      "text/html": "<div>\n<style scoped>\n    .dataframe tbody tr th:only-of-type {\n        vertical-align: middle;\n    }\n\n    .dataframe tbody tr th {\n        vertical-align: top;\n    }\n\n    .dataframe thead th {\n        text-align: right;\n    }\n</style>\n<table border=\"1\" class=\"dataframe\">\n  <thead>\n    <tr style=\"text-align: right;\">\n      <th></th>\n      <th>order_id</th>\n      <th>quantity</th>\n      <th>item_name</th>\n      <th>choice_description</th>\n      <th>item_price</th>\n    </tr>\n  </thead>\n  <tbody>\n    <tr>\n      <th>1</th>\n      <td>1</td>\n      <td>1</td>\n      <td>Izze</td>\n      <td>[Clementine]</td>\n      <td>$3.39</td>\n    </tr>\n    <tr>\n      <th>2</th>\n      <td>1</td>\n      <td>1</td>\n      <td>Nantucket Nectar</td>\n      <td>[Apple]</td>\n      <td>$3.39</td>\n    </tr>\n    <tr>\n      <th>3</th>\n      <td>1</td>\n      <td>1</td>\n      <td>Chips and Tomatillo-Green Chili Salsa</td>\n      <td>NaN</td>\n      <td>$2.39</td>\n    </tr>\n    <tr>\n      <th>4</th>\n      <td>2</td>\n      <td>2</td>\n      <td>Chicken Bowl</td>\n      <td>[Tomatillo-Red Chili Salsa (Hot), [Black Beans...</td>\n      <td>$16.98</td>\n    </tr>\n    <tr>\n      <th>5</th>\n      <td>3</td>\n      <td>1</td>\n      <td>Chicken Bowl</td>\n      <td>[Fresh Tomato Salsa (Mild), [Rice, Cheese, Sou...</td>\n      <td>$10.98</td>\n    </tr>\n    <tr>\n      <th>...</th>\n      <td>...</td>\n      <td>...</td>\n      <td>...</td>\n      <td>...</td>\n      <td>...</td>\n    </tr>\n    <tr>\n      <th>4617</th>\n      <td>1833</td>\n      <td>1</td>\n      <td>Steak Burrito</td>\n      <td>[Fresh Tomato Salsa, [Rice, Black Beans, Sour ...</td>\n      <td>$11.75</td>\n    </tr>\n    <tr>\n      <th>4618</th>\n      <td>1833</td>\n      <td>1</td>\n      <td>Steak Burrito</td>\n      <td>[Fresh Tomato Salsa, [Rice, Sour Cream, Cheese...</td>\n      <td>$11.75</td>\n    </tr>\n    <tr>\n      <th>4619</th>\n      <td>1834</td>\n      <td>1</td>\n      <td>Chicken Salad Bowl</td>\n      <td>[Fresh Tomato Salsa, [Fajita Vegetables, Pinto...</td>\n      <td>$11.25</td>\n    </tr>\n    <tr>\n      <th>4620</th>\n      <td>1834</td>\n      <td>1</td>\n      <td>Chicken Salad Bowl</td>\n      <td>[Fresh Tomato Salsa, [Fajita Vegetables, Lettu...</td>\n      <td>$8.75</td>\n    </tr>\n    <tr>\n      <th>4621</th>\n      <td>1834</td>\n      <td>1</td>\n      <td>Chicken Salad Bowl</td>\n      <td>[Fresh Tomato Salsa, [Fajita Vegetables, Pinto...</td>\n      <td>$8.75</td>\n    </tr>\n  </tbody>\n</table>\n<p>4621 rows × 5 columns</p>\n</div>"
     },
     "execution_count": 131,
     "metadata": {},
     "output_type": "execute_result"
    }
   ],
   "source": [
    "# How to delete a row from a dataframe?\n",
    "df.drop(0, axis=0, inplace=True) # delete a row from a dataframe\n",
    "df"
   ],
   "metadata": {
    "collapsed": false
   }
  },
  {
   "cell_type": "code",
   "execution_count": 132,
   "outputs": [
    {
     "data": {
      "text/plain": "<pandas.core.groupby.generic.DataFrameGroupBy object at 0x7fa1abea2650>"
     },
     "execution_count": 132,
     "metadata": {},
     "output_type": "execute_result"
    }
   ],
   "source": [
    "# How to group rows of a dataframe by a column?\n",
    "df_grouped = df.groupby('item_name') # group rows of a dataframe by a column (item_name)\n",
    "df_grouped # returns a GroupBy object (not a dataframe) and does not perform any computation until the aggregation is applied"
   ],
   "metadata": {
    "collapsed": false
   }
  },
  {
   "cell_type": "code",
   "execution_count": 133,
   "outputs": [
    {
     "data": {
      "text/plain": "                                       order_id  quantity\nitem_name                                                \n6 Pack Soft Drink                         52322        55\nBarbacoa Bowl                             53972        66\nBarbacoa Burrito                          74718        91\nBarbacoa Crispy Tacos                      5613        12\nBarbacoa Salad Bowl                        9708        10\nBarbacoa Soft Tacos                       18725        25\nBottled Water                            175944       211\nBowl                                        472         4\nBurrito                                    1550         6\nCanned Soda                               76396       126\nCanned Soft Drink                        304753       351\nCarnitas Bowl                             62742        71\nCarnitas Burrito                          51652        60\nCarnitas Crispy Tacos                      5868         8\nCarnitas Salad                             1500         1\nCarnitas Salad Bowl                        6693         6\nCarnitas Soft Tacos                       37673        40\nChicken Bowl                             713926       761\nChicken Burrito                          497303       591\nChicken Crispy Tacos                      47382        50\nChicken Salad                             10465         9\nChicken Salad Bowl                       117104       123\nChicken Soft Tacos                        98395       120\nChips                                    208004       230\nChips and Fresh Tomato Salsa             100418       129\nChips and Guacamole                      449959       506\nChips and Mild Fresh Tomato Salsa           279         1\nChips and Roasted Chili Corn Salsa        14999        23\nChips and Roasted Chili-Corn Salsa        17462        18\nChips and Tomatillo Green Chili Salsa     41170        45\nChips and Tomatillo Red Chili Salsa       45556        50\nChips and Tomatillo-Green Chili Salsa     21826        33\nChips and Tomatillo-Red Chili Salsa       18344        25\nCrispy Tacos                                434         2\nIzze                                      10587        20\nNantucket Nectar                          21814        29\nSalad                                      1150         2\nSide of Chips                             84769       110\nSteak Bowl                               193752       221\nSteak Burrito                            328437       386\nSteak Crispy Tacos                        35818        36\nSteak Salad                                2362         4\nSteak Salad Bowl                          29590        31\nSteak Soft Tacos                          50177        56\nVeggie Bowl                               72270        87\nVeggie Burrito                            80962        97\nVeggie Crispy Tacos                         668         1\nVeggie Salad                               7265         6\nVeggie Salad Bowl                         17303        18\nVeggie Soft Tacos                          5520         8",
      "text/html": "<div>\n<style scoped>\n    .dataframe tbody tr th:only-of-type {\n        vertical-align: middle;\n    }\n\n    .dataframe tbody tr th {\n        vertical-align: top;\n    }\n\n    .dataframe thead th {\n        text-align: right;\n    }\n</style>\n<table border=\"1\" class=\"dataframe\">\n  <thead>\n    <tr style=\"text-align: right;\">\n      <th></th>\n      <th>order_id</th>\n      <th>quantity</th>\n    </tr>\n    <tr>\n      <th>item_name</th>\n      <th></th>\n      <th></th>\n    </tr>\n  </thead>\n  <tbody>\n    <tr>\n      <th>6 Pack Soft Drink</th>\n      <td>52322</td>\n      <td>55</td>\n    </tr>\n    <tr>\n      <th>Barbacoa Bowl</th>\n      <td>53972</td>\n      <td>66</td>\n    </tr>\n    <tr>\n      <th>Barbacoa Burrito</th>\n      <td>74718</td>\n      <td>91</td>\n    </tr>\n    <tr>\n      <th>Barbacoa Crispy Tacos</th>\n      <td>5613</td>\n      <td>12</td>\n    </tr>\n    <tr>\n      <th>Barbacoa Salad Bowl</th>\n      <td>9708</td>\n      <td>10</td>\n    </tr>\n    <tr>\n      <th>Barbacoa Soft Tacos</th>\n      <td>18725</td>\n      <td>25</td>\n    </tr>\n    <tr>\n      <th>Bottled Water</th>\n      <td>175944</td>\n      <td>211</td>\n    </tr>\n    <tr>\n      <th>Bowl</th>\n      <td>472</td>\n      <td>4</td>\n    </tr>\n    <tr>\n      <th>Burrito</th>\n      <td>1550</td>\n      <td>6</td>\n    </tr>\n    <tr>\n      <th>Canned Soda</th>\n      <td>76396</td>\n      <td>126</td>\n    </tr>\n    <tr>\n      <th>Canned Soft Drink</th>\n      <td>304753</td>\n      <td>351</td>\n    </tr>\n    <tr>\n      <th>Carnitas Bowl</th>\n      <td>62742</td>\n      <td>71</td>\n    </tr>\n    <tr>\n      <th>Carnitas Burrito</th>\n      <td>51652</td>\n      <td>60</td>\n    </tr>\n    <tr>\n      <th>Carnitas Crispy Tacos</th>\n      <td>5868</td>\n      <td>8</td>\n    </tr>\n    <tr>\n      <th>Carnitas Salad</th>\n      <td>1500</td>\n      <td>1</td>\n    </tr>\n    <tr>\n      <th>Carnitas Salad Bowl</th>\n      <td>6693</td>\n      <td>6</td>\n    </tr>\n    <tr>\n      <th>Carnitas Soft Tacos</th>\n      <td>37673</td>\n      <td>40</td>\n    </tr>\n    <tr>\n      <th>Chicken Bowl</th>\n      <td>713926</td>\n      <td>761</td>\n    </tr>\n    <tr>\n      <th>Chicken Burrito</th>\n      <td>497303</td>\n      <td>591</td>\n    </tr>\n    <tr>\n      <th>Chicken Crispy Tacos</th>\n      <td>47382</td>\n      <td>50</td>\n    </tr>\n    <tr>\n      <th>Chicken Salad</th>\n      <td>10465</td>\n      <td>9</td>\n    </tr>\n    <tr>\n      <th>Chicken Salad Bowl</th>\n      <td>117104</td>\n      <td>123</td>\n    </tr>\n    <tr>\n      <th>Chicken Soft Tacos</th>\n      <td>98395</td>\n      <td>120</td>\n    </tr>\n    <tr>\n      <th>Chips</th>\n      <td>208004</td>\n      <td>230</td>\n    </tr>\n    <tr>\n      <th>Chips and Fresh Tomato Salsa</th>\n      <td>100418</td>\n      <td>129</td>\n    </tr>\n    <tr>\n      <th>Chips and Guacamole</th>\n      <td>449959</td>\n      <td>506</td>\n    </tr>\n    <tr>\n      <th>Chips and Mild Fresh Tomato Salsa</th>\n      <td>279</td>\n      <td>1</td>\n    </tr>\n    <tr>\n      <th>Chips and Roasted Chili Corn Salsa</th>\n      <td>14999</td>\n      <td>23</td>\n    </tr>\n    <tr>\n      <th>Chips and Roasted Chili-Corn Salsa</th>\n      <td>17462</td>\n      <td>18</td>\n    </tr>\n    <tr>\n      <th>Chips and Tomatillo Green Chili Salsa</th>\n      <td>41170</td>\n      <td>45</td>\n    </tr>\n    <tr>\n      <th>Chips and Tomatillo Red Chili Salsa</th>\n      <td>45556</td>\n      <td>50</td>\n    </tr>\n    <tr>\n      <th>Chips and Tomatillo-Green Chili Salsa</th>\n      <td>21826</td>\n      <td>33</td>\n    </tr>\n    <tr>\n      <th>Chips and Tomatillo-Red Chili Salsa</th>\n      <td>18344</td>\n      <td>25</td>\n    </tr>\n    <tr>\n      <th>Crispy Tacos</th>\n      <td>434</td>\n      <td>2</td>\n    </tr>\n    <tr>\n      <th>Izze</th>\n      <td>10587</td>\n      <td>20</td>\n    </tr>\n    <tr>\n      <th>Nantucket Nectar</th>\n      <td>21814</td>\n      <td>29</td>\n    </tr>\n    <tr>\n      <th>Salad</th>\n      <td>1150</td>\n      <td>2</td>\n    </tr>\n    <tr>\n      <th>Side of Chips</th>\n      <td>84769</td>\n      <td>110</td>\n    </tr>\n    <tr>\n      <th>Steak Bowl</th>\n      <td>193752</td>\n      <td>221</td>\n    </tr>\n    <tr>\n      <th>Steak Burrito</th>\n      <td>328437</td>\n      <td>386</td>\n    </tr>\n    <tr>\n      <th>Steak Crispy Tacos</th>\n      <td>35818</td>\n      <td>36</td>\n    </tr>\n    <tr>\n      <th>Steak Salad</th>\n      <td>2362</td>\n      <td>4</td>\n    </tr>\n    <tr>\n      <th>Steak Salad Bowl</th>\n      <td>29590</td>\n      <td>31</td>\n    </tr>\n    <tr>\n      <th>Steak Soft Tacos</th>\n      <td>50177</td>\n      <td>56</td>\n    </tr>\n    <tr>\n      <th>Veggie Bowl</th>\n      <td>72270</td>\n      <td>87</td>\n    </tr>\n    <tr>\n      <th>Veggie Burrito</th>\n      <td>80962</td>\n      <td>97</td>\n    </tr>\n    <tr>\n      <th>Veggie Crispy Tacos</th>\n      <td>668</td>\n      <td>1</td>\n    </tr>\n    <tr>\n      <th>Veggie Salad</th>\n      <td>7265</td>\n      <td>6</td>\n    </tr>\n    <tr>\n      <th>Veggie Salad Bowl</th>\n      <td>17303</td>\n      <td>18</td>\n    </tr>\n    <tr>\n      <th>Veggie Soft Tacos</th>\n      <td>5520</td>\n      <td>8</td>\n    </tr>\n  </tbody>\n</table>\n</div>"
     },
     "execution_count": 133,
     "metadata": {},
     "output_type": "execute_result"
    }
   ],
   "source": [
    "# To see the result, we need to apply an aggregation function (e.g. sum, mean, count, etc.)\n",
    "df_grouped.sum() # apply sum() aggregation function"
   ],
   "metadata": {
    "collapsed": false
   }
  },
  {
   "cell_type": "code",
   "execution_count": 134,
   "outputs": [
    {
     "data": {
      "text/plain": "<pandas.core.groupby.generic.DataFrameGroupBy object at 0x7fa1d90c50f0>"
     },
     "execution_count": 134,
     "metadata": {},
     "output_type": "execute_result"
    }
   ],
   "source": [
    "# How to group rows of a dataframe by multiple columns?\n",
    "df_grouped = df.groupby(['item_name', 'choice_description']) # group rows of a dataframe by multiple columns (item_name and choice_description)\n",
    "df_grouped # returns a GroupBy object (not a dataframe) and does not perform any computation until the aggregation is applied"
   ],
   "metadata": {
    "collapsed": false
   }
  },
  {
   "cell_type": "code",
   "execution_count": 135,
   "outputs": [
    {
     "data": {
      "text/plain": "                                                                      order_id  \\\nitem_name         choice_description                                             \n6 Pack Soft Drink [Coke]                                                 19440   \n                  [Diet Coke]                                            24539   \n                  [Lemonade]                                              3056   \n                  [Nestea]                                                1746   \n                  [Sprite]                                                3541   \n...                                                                        ...   \nVeggie Soft Tacos [Fresh Tomato Salsa, [Black Beans, Cheese, Sour...       322   \n                  [Fresh Tomato Salsa, [Fajita Vegetables, Rice, ...       688   \n                  [Roasted Chili Corn Salsa (Medium), [Black Bean...      1132   \n                  [Roasted Chili Corn Salsa, [Fajita Vegetables, ...       948   \n                  [Tomatillo Red Chili Salsa, [Fajita Vegetables,...       304   \n\n                                                                      quantity  \nitem_name         choice_description                                            \n6 Pack Soft Drink [Coke]                                                    21  \n                  [Diet Coke]                                               25  \n                  [Lemonade]                                                 2  \n                  [Nestea]                                                   2  \n                  [Sprite]                                                   5  \n...                                                                        ...  \nVeggie Soft Tacos [Fresh Tomato Salsa, [Black Beans, Cheese, Sour...         1  \n                  [Fresh Tomato Salsa, [Fajita Vegetables, Rice, ...         1  \n                  [Roasted Chili Corn Salsa (Medium), [Black Bean...         1  \n                  [Roasted Chili Corn Salsa, [Fajita Vegetables, ...         1  \n                  [Tomatillo Red Chili Salsa, [Fajita Vegetables,...         1  \n\n[1859 rows x 2 columns]",
      "text/html": "<div>\n<style scoped>\n    .dataframe tbody tr th:only-of-type {\n        vertical-align: middle;\n    }\n\n    .dataframe tbody tr th {\n        vertical-align: top;\n    }\n\n    .dataframe thead th {\n        text-align: right;\n    }\n</style>\n<table border=\"1\" class=\"dataframe\">\n  <thead>\n    <tr style=\"text-align: right;\">\n      <th></th>\n      <th></th>\n      <th>order_id</th>\n      <th>quantity</th>\n    </tr>\n    <tr>\n      <th>item_name</th>\n      <th>choice_description</th>\n      <th></th>\n      <th></th>\n    </tr>\n  </thead>\n  <tbody>\n    <tr>\n      <th rowspan=\"5\" valign=\"top\">6 Pack Soft Drink</th>\n      <th>[Coke]</th>\n      <td>19440</td>\n      <td>21</td>\n    </tr>\n    <tr>\n      <th>[Diet Coke]</th>\n      <td>24539</td>\n      <td>25</td>\n    </tr>\n    <tr>\n      <th>[Lemonade]</th>\n      <td>3056</td>\n      <td>2</td>\n    </tr>\n    <tr>\n      <th>[Nestea]</th>\n      <td>1746</td>\n      <td>2</td>\n    </tr>\n    <tr>\n      <th>[Sprite]</th>\n      <td>3541</td>\n      <td>5</td>\n    </tr>\n    <tr>\n      <th>...</th>\n      <th>...</th>\n      <td>...</td>\n      <td>...</td>\n    </tr>\n    <tr>\n      <th rowspan=\"5\" valign=\"top\">Veggie Soft Tacos</th>\n      <th>[Fresh Tomato Salsa, [Black Beans, Cheese, Sour Cream, Lettuce]]</th>\n      <td>322</td>\n      <td>1</td>\n    </tr>\n    <tr>\n      <th>[Fresh Tomato Salsa, [Fajita Vegetables, Rice, Black Beans, Pinto Beans, Cheese, Sour Cream, Guacamole, Lettuce]]</th>\n      <td>688</td>\n      <td>1</td>\n    </tr>\n    <tr>\n      <th>[Roasted Chili Corn Salsa (Medium), [Black Beans, Fajita Veggies, Cheese, Sour Cream, Lettuce]]</th>\n      <td>1132</td>\n      <td>1</td>\n    </tr>\n    <tr>\n      <th>[Roasted Chili Corn Salsa, [Fajita Vegetables, Black Beans, Pinto Beans, Cheese, Lettuce]]</th>\n      <td>948</td>\n      <td>1</td>\n    </tr>\n    <tr>\n      <th>[Tomatillo Red Chili Salsa, [Fajita Vegetables, Rice, Black Beans, Cheese, Guacamole, Lettuce]]</th>\n      <td>304</td>\n      <td>1</td>\n    </tr>\n  </tbody>\n</table>\n<p>1859 rows × 2 columns</p>\n</div>"
     },
     "execution_count": 135,
     "metadata": {},
     "output_type": "execute_result"
    }
   ],
   "source": [
    "# To see the result, we need to apply an aggregation function (e.g. sum, mean, count, etc.)\n",
    "df_grouped.sum() # apply sum() aggregation function"
   ],
   "metadata": {
    "collapsed": false
   }
  },
  {
   "cell_type": "code",
   "execution_count": 136,
   "outputs": [
    {
     "data": {
      "text/plain": "1                                        IZZE\n2                            NANTUCKET NECTAR\n3       CHIPS AND TOMATILLO-GREEN CHILI SALSA\n4                                CHICKEN BOWL\n5                                CHICKEN BOWL\n                        ...                  \n4617                            STEAK BURRITO\n4618                            STEAK BURRITO\n4619                       CHICKEN SALAD BOWL\n4620                       CHICKEN SALAD BOWL\n4621                       CHICKEN SALAD BOWL\nName: item_name, Length: 4621, dtype: object"
     },
     "execution_count": 136,
     "metadata": {},
     "output_type": "execute_result"
    }
   ],
   "source": [
    "# How to apply a function to each element in a column?\n",
    "df['item_name'].apply(lambda x: x.upper()) # apply a function to each element in a column (item_name)"
   ],
   "metadata": {
    "collapsed": false
   }
  },
  {
   "cell_type": "code",
   "execution_count": 137,
   "outputs": [],
   "source": [
    "# Function to convert the price from string to float and remove the dollar sign\n",
    "def convert_to_float(x):\n",
    "    \"\"\"\n",
    "    Function to convert the price from string to float and remove the dollar sign\n",
    "    Input parameter: x (string)\n",
    "    Output parameter: x (float)\n",
    "    \"\"\"\n",
    "    x = x.replace('$', '')\n",
    "    return float(x)"
   ],
   "metadata": {
    "collapsed": false
   }
  },
  {
   "cell_type": "code",
   "execution_count": 138,
   "outputs": [],
   "source": [
    "# How to apply a function to each element in a dataframe?\n",
    "df['item_price'] = df['item_price'].apply(lambda x: convert_to_float(x)) # apply a function to each element in a dataframe (item_price)"
   ],
   "metadata": {
    "collapsed": false
   }
  },
  {
   "cell_type": "code",
   "execution_count": 140,
   "outputs": [
    {
     "data": {
      "text/plain": "      order_id  quantity                              item_name  \\\n1            1         1                                   Izze   \n2            1         1                       Nantucket Nectar   \n3            1         1  Chips and Tomatillo-Green Chili Salsa   \n4            2         2                           Chicken Bowl   \n5            3         1                           Chicken Bowl   \n...        ...       ...                                    ...   \n4617      1833         1                          Steak Burrito   \n4618      1833         1                          Steak Burrito   \n4619      1834         1                     Chicken Salad Bowl   \n4620      1834         1                     Chicken Salad Bowl   \n4621      1834         1                     Chicken Salad Bowl   \n\n                                     choice_description  item_price  \\\n1                                          [Clementine]        3.39   \n2                                               [Apple]        3.39   \n3                                                   NaN        2.39   \n4     [Tomatillo-Red Chili Salsa (Hot), [Black Beans...       16.98   \n5     [Fresh Tomato Salsa (Mild), [Rice, Cheese, Sou...       10.98   \n...                                                 ...         ...   \n4617  [Fresh Tomato Salsa, [Rice, Black Beans, Sour ...       11.75   \n4618  [Fresh Tomato Salsa, [Rice, Sour Cream, Cheese...       11.75   \n4619  [Fresh Tomato Salsa, [Fajita Vegetables, Pinto...       11.25   \n4620  [Fresh Tomato Salsa, [Fajita Vegetables, Lettu...        8.75   \n4621  [Fresh Tomato Salsa, [Fajita Vegetables, Pinto...        8.75   \n\n      total_price  \n1            3.39  \n2            3.39  \n3            2.39  \n4           33.96  \n5           10.98  \n...           ...  \n4617        11.75  \n4618        11.75  \n4619        11.25  \n4620         8.75  \n4621         8.75  \n\n[4621 rows x 6 columns]",
      "text/html": "<div>\n<style scoped>\n    .dataframe tbody tr th:only-of-type {\n        vertical-align: middle;\n    }\n\n    .dataframe tbody tr th {\n        vertical-align: top;\n    }\n\n    .dataframe thead th {\n        text-align: right;\n    }\n</style>\n<table border=\"1\" class=\"dataframe\">\n  <thead>\n    <tr style=\"text-align: right;\">\n      <th></th>\n      <th>order_id</th>\n      <th>quantity</th>\n      <th>item_name</th>\n      <th>choice_description</th>\n      <th>item_price</th>\n      <th>total_price</th>\n    </tr>\n  </thead>\n  <tbody>\n    <tr>\n      <th>1</th>\n      <td>1</td>\n      <td>1</td>\n      <td>Izze</td>\n      <td>[Clementine]</td>\n      <td>3.39</td>\n      <td>3.39</td>\n    </tr>\n    <tr>\n      <th>2</th>\n      <td>1</td>\n      <td>1</td>\n      <td>Nantucket Nectar</td>\n      <td>[Apple]</td>\n      <td>3.39</td>\n      <td>3.39</td>\n    </tr>\n    <tr>\n      <th>3</th>\n      <td>1</td>\n      <td>1</td>\n      <td>Chips and Tomatillo-Green Chili Salsa</td>\n      <td>NaN</td>\n      <td>2.39</td>\n      <td>2.39</td>\n    </tr>\n    <tr>\n      <th>4</th>\n      <td>2</td>\n      <td>2</td>\n      <td>Chicken Bowl</td>\n      <td>[Tomatillo-Red Chili Salsa (Hot), [Black Beans...</td>\n      <td>16.98</td>\n      <td>33.96</td>\n    </tr>\n    <tr>\n      <th>5</th>\n      <td>3</td>\n      <td>1</td>\n      <td>Chicken Bowl</td>\n      <td>[Fresh Tomato Salsa (Mild), [Rice, Cheese, Sou...</td>\n      <td>10.98</td>\n      <td>10.98</td>\n    </tr>\n    <tr>\n      <th>...</th>\n      <td>...</td>\n      <td>...</td>\n      <td>...</td>\n      <td>...</td>\n      <td>...</td>\n      <td>...</td>\n    </tr>\n    <tr>\n      <th>4617</th>\n      <td>1833</td>\n      <td>1</td>\n      <td>Steak Burrito</td>\n      <td>[Fresh Tomato Salsa, [Rice, Black Beans, Sour ...</td>\n      <td>11.75</td>\n      <td>11.75</td>\n    </tr>\n    <tr>\n      <th>4618</th>\n      <td>1833</td>\n      <td>1</td>\n      <td>Steak Burrito</td>\n      <td>[Fresh Tomato Salsa, [Rice, Sour Cream, Cheese...</td>\n      <td>11.75</td>\n      <td>11.75</td>\n    </tr>\n    <tr>\n      <th>4619</th>\n      <td>1834</td>\n      <td>1</td>\n      <td>Chicken Salad Bowl</td>\n      <td>[Fresh Tomato Salsa, [Fajita Vegetables, Pinto...</td>\n      <td>11.25</td>\n      <td>11.25</td>\n    </tr>\n    <tr>\n      <th>4620</th>\n      <td>1834</td>\n      <td>1</td>\n      <td>Chicken Salad Bowl</td>\n      <td>[Fresh Tomato Salsa, [Fajita Vegetables, Lettu...</td>\n      <td>8.75</td>\n      <td>8.75</td>\n    </tr>\n    <tr>\n      <th>4621</th>\n      <td>1834</td>\n      <td>1</td>\n      <td>Chicken Salad Bowl</td>\n      <td>[Fresh Tomato Salsa, [Fajita Vegetables, Pinto...</td>\n      <td>8.75</td>\n      <td>8.75</td>\n    </tr>\n  </tbody>\n</table>\n<p>4621 rows × 6 columns</p>\n</div>"
     },
     "execution_count": 140,
     "metadata": {},
     "output_type": "execute_result"
    }
   ],
   "source": [
    "# How to apply a function to each row in a dataframe and create a new column?\n",
    "df['total_price'] = df.apply(lambda x: x['item_price'] * x['quantity'], axis=1) # apply a function to each row in a dataframe and create a new column (total_price)\n",
    "df"
   ],
   "metadata": {
    "collapsed": false
   }
  },
  {
   "cell_type": "markdown",
   "source": [
    "### Practice Questions"
   ],
   "metadata": {
    "collapsed": false
   }
  },
  {
   "cell_type": "code",
   "execution_count": 182,
   "outputs": [],
   "source": [
    "data = {'Name': ['Linh', 'Hoa', 'Hung', 'Hieu', 'Huong', 'John', 'Peter', 'Lily', 'Linda', 'Lam'],\n",
    "        'Age': [23, 25, 22, 23, 29, 30, 31, 28, 27, 26],\n",
    "        'Address': ['HN', 'HN', 'HN', 'HN', 'No address', 'NY', 'NY', 'NY', 'No address', 'NY'],\n",
    "        'Qualification': ['MSc', 'MSc', 'PhD', 'BSc', 'MSc', 'MSc', 'MSc', 'PhD', 'BSc', 'BSc']}\n",
    "\n",
    "df = pd.DataFrame(data)"
   ],
   "metadata": {
    "collapsed": false
   }
  },
  {
   "cell_type": "code",
   "execution_count": 183,
   "outputs": [
    {
     "data": {
      "text/plain": "<Figure size 1440x576 with 2 Axes>",
      "image/png": "[encoded data removed]"
     },
     "metadata": {
      "needs_background": "light"
     },
     "output_type": "display_data"
    }
   ],
   "source": [
    "import matplotlib.pyplot as plt\n",
    "\n",
    "# Ignore this part, we do this later in the course\n",
    "\n",
    "plt.style.use('seaborn-paper')\n",
    "plt.rc('text', usetex=True)\n",
    "plt.rc('font', family='serif')\n",
    "plt.rc('font', size=18)\n",
    "plt.rc('axes', titlesize=18)\n",
    "plt.rc('axes', labelsize=18)\n",
    "plt.rc('xtick', labelsize=18)\n",
    "plt.rc('ytick', labelsize=18)\n",
    "plt.rc('legend', fontsize=18)\n",
    "plt.rc('lines', markersize=10)\n",
    "\n",
    "fig, ax = plt.subplots(1, 2, figsize=(20, 8))\n",
    "ax[0].bar(df['Name'], df['Age'])\n",
    "ax[1].scatter(df['Name'], df['Qualification'])\n",
    "ax[0].set_title('Name and Age of all students')\n",
    "ax[1].set_title('Name and Qualification of all students')\n",
    "ax[0].set_xlabel('Name')\n",
    "ax[0].set_ylabel('Age')\n",
    "ax[1].set_xlabel('Name')\n",
    "ax[1].set_ylabel('Qualification')\n",
    "plt.show()"
   ],
   "metadata": {
    "collapsed": false
   }
  },
  {
   "cell_type": "code",
   "execution_count": 184,
   "outputs": [
    {
     "data": {
      "text/plain": "<Figure size 576x576 with 1 Axes>",
      "image/png": "[encoded data removed]"
     },
     "metadata": {
      "needs_background": "light"
     },
     "output_type": "display_data"
    }
   ],
   "source": [
    "# Plot sum of people by Qualification\n",
    "fig, ax = plt.subplots(1, 1, figsize=(8, 8))\n",
    "ax.bar(df['Qualification'], df['Age'])\n",
    "ax.set_title('Qualification and Age of all students')\n",
    "ax.set_xlabel('Qualification')\n",
    "ax.set_ylabel('Age')\n",
    "plt.show()"
   ],
   "metadata": {
    "collapsed": false
   }
  },
  {
   "cell_type": "code",
   "execution_count": 185,
   "outputs": [
    {
     "data": {
      "text/plain": "    Name  Age     Address Qualification\n0   Linh   23          HN           MSc\n1    Hoa   25          HN           MSc\n2   Hung   22          HN           PhD\n3   Hieu   23          HN           BSc\n4  Huong   29  No address           MSc\n5   John   30          NY           MSc\n6  Peter   31          NY           MSc\n7   Lily   28          NY           PhD\n8  Linda   27  No address           BSc\n9    Lam   26          NY           BSc",
      "text/html": "<div>\n<style scoped>\n    .dataframe tbody tr th:only-of-type {\n        vertical-align: middle;\n    }\n\n    .dataframe tbody tr th {\n        vertical-align: top;\n    }\n\n    .dataframe thead th {\n        text-align: right;\n    }\n</style>\n<table border=\"1\" class=\"dataframe\">\n  <thead>\n    <tr style=\"text-align: right;\">\n      <th></th>\n      <th>Name</th>\n      <th>Age</th>\n      <th>Address</th>\n      <th>Qualification</th>\n    </tr>\n  </thead>\n  <tbody>\n    <tr>\n      <th>0</th>\n      <td>Linh</td>\n      <td>23</td>\n      <td>HN</td>\n      <td>MSc</td>\n    </tr>\n    <tr>\n      <th>1</th>\n      <td>Hoa</td>\n      <td>25</td>\n      <td>HN</td>\n      <td>MSc</td>\n    </tr>\n    <tr>\n      <th>2</th>\n      <td>Hung</td>\n      <td>22</td>\n      <td>HN</td>\n      <td>PhD</td>\n    </tr>\n    <tr>\n      <th>3</th>\n      <td>Hieu</td>\n      <td>23</td>\n      <td>HN</td>\n      <td>BSc</td>\n    </tr>\n    <tr>\n      <th>4</th>\n      <td>Huong</td>\n      <td>29</td>\n      <td>No address</td>\n      <td>MSc</td>\n    </tr>\n    <tr>\n      <th>5</th>\n      <td>John</td>\n      <td>30</td>\n      <td>NY</td>\n      <td>MSc</td>\n    </tr>\n    <tr>\n      <th>6</th>\n      <td>Peter</td>\n      <td>31</td>\n      <td>NY</td>\n      <td>MSc</td>\n    </tr>\n    <tr>\n      <th>7</th>\n      <td>Lily</td>\n      <td>28</td>\n      <td>NY</td>\n      <td>PhD</td>\n    </tr>\n    <tr>\n      <th>8</th>\n      <td>Linda</td>\n      <td>27</td>\n      <td>No address</td>\n      <td>BSc</td>\n    </tr>\n    <tr>\n      <th>9</th>\n      <td>Lam</td>\n      <td>26</td>\n      <td>NY</td>\n      <td>BSc</td>\n    </tr>\n  </tbody>\n</table>\n</div>"
     },
     "execution_count": 185,
     "metadata": {},
     "output_type": "execute_result"
    }
   ],
   "source": [
    "df"
   ],
   "metadata": {
    "collapsed": false
   }
  },
  {
   "cell_type": "code",
   "execution_count": 186,
   "outputs": [
    {
     "data": {
      "text/plain": "    Name  Age     Address Qualification\n0   Linh   23          HN           MSc\n1    Hoa   25          HN           MSc\n2   Hung   22          HN           PhD\n3   Hieu   23          HN           BSc\n4  Huong   29  No address           MSc\n5   John   30          NY           MSc\n6  Peter   31          NY           MSc\n7   Lily   28          NY           PhD\n8  Linda   27  No address           BSc\n9    Lam   26          NY           BSc",
      "text/html": "<div>\n<style scoped>\n    .dataframe tbody tr th:only-of-type {\n        vertical-align: middle;\n    }\n\n    .dataframe tbody tr th {\n        vertical-align: top;\n    }\n\n    .dataframe thead th {\n        text-align: right;\n    }\n</style>\n<table border=\"1\" class=\"dataframe\">\n  <thead>\n    <tr style=\"text-align: right;\">\n      <th></th>\n      <th>Name</th>\n      <th>Age</th>\n      <th>Address</th>\n      <th>Qualification</th>\n    </tr>\n  </thead>\n  <tbody>\n    <tr>\n      <th>0</th>\n      <td>Linh</td>\n      <td>23</td>\n      <td>HN</td>\n      <td>MSc</td>\n    </tr>\n    <tr>\n      <th>1</th>\n      <td>Hoa</td>\n      <td>25</td>\n      <td>HN</td>\n      <td>MSc</td>\n    </tr>\n    <tr>\n      <th>2</th>\n      <td>Hung</td>\n      <td>22</td>\n      <td>HN</td>\n      <td>PhD</td>\n    </tr>\n    <tr>\n      <th>3</th>\n      <td>Hieu</td>\n      <td>23</td>\n      <td>HN</td>\n      <td>BSc</td>\n    </tr>\n    <tr>\n      <th>4</th>\n      <td>Huong</td>\n      <td>29</td>\n      <td>No address</td>\n      <td>MSc</td>\n    </tr>\n    <tr>\n      <th>5</th>\n      <td>John</td>\n      <td>30</td>\n      <td>NY</td>\n      <td>MSc</td>\n    </tr>\n    <tr>\n      <th>6</th>\n      <td>Peter</td>\n      <td>31</td>\n      <td>NY</td>\n      <td>MSc</td>\n    </tr>\n    <tr>\n      <th>7</th>\n      <td>Lily</td>\n      <td>28</td>\n      <td>NY</td>\n      <td>PhD</td>\n    </tr>\n    <tr>\n      <th>8</th>\n      <td>Linda</td>\n      <td>27</td>\n      <td>No address</td>\n      <td>BSc</td>\n    </tr>\n    <tr>\n      <th>9</th>\n      <td>Lam</td>\n      <td>26</td>\n      <td>NY</td>\n      <td>BSc</td>\n    </tr>\n  </tbody>\n</table>\n</div>"
     },
     "execution_count": 186,
     "metadata": {},
     "output_type": "execute_result"
    }
   ],
   "source": [
    "# Print the first 3 rows of the dataframe\n",
    "\"\"\"\n",
    "To print the first 3 rows of the dataframe we can use the head() function\n",
    "\"\"\"\n",
    "df.head(10)"
   ],
   "metadata": {
    "collapsed": false
   }
  },
  {
   "cell_type": "code",
   "execution_count": 187,
   "outputs": [
    {
     "data": {
      "text/plain": "    Name  Age     Address Qualification\n8  Linda   27  No address           BSc\n9    Lam   26          NY           BSc",
      "text/html": "<div>\n<style scoped>\n    .dataframe tbody tr th:only-of-type {\n        vertical-align: middle;\n    }\n\n    .dataframe tbody tr th {\n        vertical-align: top;\n    }\n\n    .dataframe thead th {\n        text-align: right;\n    }\n</style>\n<table border=\"1\" class=\"dataframe\">\n  <thead>\n    <tr style=\"text-align: right;\">\n      <th></th>\n      <th>Name</th>\n      <th>Age</th>\n      <th>Address</th>\n      <th>Qualification</th>\n    </tr>\n  </thead>\n  <tbody>\n    <tr>\n      <th>8</th>\n      <td>Linda</td>\n      <td>27</td>\n      <td>No address</td>\n      <td>BSc</td>\n    </tr>\n    <tr>\n      <th>9</th>\n      <td>Lam</td>\n      <td>26</td>\n      <td>NY</td>\n      <td>BSc</td>\n    </tr>\n  </tbody>\n</table>\n</div>"
     },
     "execution_count": 187,
     "metadata": {},
     "output_type": "execute_result"
    }
   ],
   "source": [
    "# Print the last 2 rows of the dataframe\n",
    "\"\"\"\n",
    "To print the last 2 rows of the dataframe we can use the tail() function\n",
    "\"\"\"\n",
    "# Your code here\n",
    "df.tail(2)"
   ],
   "metadata": {
    "collapsed": false
   }
  },
  {
   "cell_type": "code",
   "execution_count": 188,
   "outputs": [
    {
     "data": {
      "text/plain": "(10, 4)"
     },
     "execution_count": 188,
     "metadata": {},
     "output_type": "execute_result"
    }
   ],
   "source": [
    "# Print the number of rows and columns of the dataframe\n",
    "\"\"\"\n",
    "To print the number of rows and columns of the dataframe we can use the shape attribute\n",
    "\"\"\"\n",
    "# Your code here\n",
    "df.shape"
   ],
   "metadata": {
    "collapsed": false
   }
  },
  {
   "cell_type": "code",
   "execution_count": 189,
   "outputs": [
    {
     "name": "stdout",
     "output_type": "stream",
     "text": [
      "The name of all columns:  Index(['Name', 'Age', 'Address', 'Qualification'], dtype='object')\n"
     ]
    }
   ],
   "source": [
    "# Print the name of all columns\n",
    "\"\"\"\n",
    "To print the name of all columns we can use the columns attribute\n",
    "\"\"\"\n",
    "# Your code here\n",
    "print(\"The name of all columns: \", df.columns)"
   ],
   "metadata": {
    "collapsed": false
   }
  },
  {
   "cell_type": "code",
   "execution_count": 190,
   "outputs": [
    {
     "name": "stdout",
     "output_type": "stream",
     "text": [
      "The index of all rows:  RangeIndex(start=0, stop=10, step=1)\n"
     ]
    }
   ],
   "source": [
    "# Print the index of all rows using the index attribute and for loop\n",
    "\"\"\"\n",
    "To print the index of all rows we can use the index attribute\n",
    "\"\"\"\n",
    "# Your code here\n",
    "print(\"The index of all rows: \", df.index)"
   ],
   "metadata": {
    "collapsed": false
   }
  },
  {
   "cell_type": "code",
   "execution_count": 191,
   "outputs": [
    {
     "name": "stdout",
     "output_type": "stream",
     "text": [
      "The name of all unique values in the Qualification column:  ['MSc' 'PhD' 'BSc']\n"
     ]
    }
   ],
   "source": [
    "# Print the name of all unique values in the Qualification column\n",
    "\"\"\"\n",
    "To print the name of all unique values in the Qualification column we can use the unique() function\n",
    "\"\"\"\n",
    "# Your code here\n",
    "print(\"The name of all unique values in the Qualification column: \", df['Qualification'].unique())"
   ],
   "metadata": {
    "collapsed": false
   }
  },
  {
   "cell_type": "code",
   "execution_count": 192,
   "outputs": [
    {
     "data": {
      "text/plain": "MSc    5\nBSc    3\nPhD    2\nName: Qualification, dtype: int64"
     },
     "execution_count": 192,
     "metadata": {},
     "output_type": "execute_result"
    }
   ],
   "source": [
    "# Print the number of times each unique value appears in the Qualification column\n",
    "\"\"\"\n",
    "To print the number of times each unique value appears in the Qualification column we can use the value_counts() function\n",
    "\"\"\"\n",
    "# Your code here\n",
    "df['Qualification'].value_counts()"
   ],
   "metadata": {
    "collapsed": false
   }
  },
  {
   "cell_type": "code",
   "execution_count": 193,
   "outputs": [
    {
     "data": {
      "text/plain": "Name             0\nAge              0\nAddress          0\nQualification    0\ndtype: int64"
     },
     "execution_count": 193,
     "metadata": {},
     "output_type": "execute_result"
    }
   ],
   "source": [
    "# Print the number of missing values in each column\n",
    "\"\"\"\n",
    "To print the number of missing values in each column we can use the isnull() function\n",
    "\"\"\"\n",
    "# Your code here\n",
    "df.isnull().sum()"
   ],
   "metadata": {
    "collapsed": false
   }
  },
  {
   "cell_type": "code",
   "execution_count": 194,
   "outputs": [
    {
     "data": {
      "text/plain": "0    0\n1    0\n2    0\n3    0\n4    0\n5    0\n6    0\n7    0\n8    0\n9    0\ndtype: int64"
     },
     "execution_count": 194,
     "metadata": {},
     "output_type": "execute_result"
    }
   ],
   "source": [
    "# Print the number of missing values in each row\n",
    "\"\"\"\n",
    "To print the number of missing values in each row we can use the isnull() function\n",
    "\"\"\"\n",
    "# Your code here\n",
    "df.isnull().sum(axis=1)"
   ],
   "metadata": {
    "collapsed": false
   }
  },
  {
   "cell_type": "code",
   "execution_count": 195,
   "outputs": [
    {
     "data": {
      "text/plain": "    Name  Age     Address Qualification  Score\n0   Linh   23          HN           MSc     10\n1    Hoa   25          HN           MSc     10\n2   Hung   22          HN           PhD     10\n3   Hieu   23          HN           BSc     10\n4  Huong   29  No address           MSc     10\n5   John   30          NY           MSc     10\n6  Peter   31          NY           MSc     10\n7   Lily   28          NY           PhD     10\n8  Linda   27  No address           BSc     10\n9    Lam   26          NY           BSc     10",
      "text/html": "<div>\n<style scoped>\n    .dataframe tbody tr th:only-of-type {\n        vertical-align: middle;\n    }\n\n    .dataframe tbody tr th {\n        vertical-align: top;\n    }\n\n    .dataframe thead th {\n        text-align: right;\n    }\n</style>\n<table border=\"1\" class=\"dataframe\">\n  <thead>\n    <tr style=\"text-align: right;\">\n      <th></th>\n      <th>Name</th>\n      <th>Age</th>\n      <th>Address</th>\n      <th>Qualification</th>\n      <th>Score</th>\n    </tr>\n  </thead>\n  <tbody>\n    <tr>\n      <th>0</th>\n      <td>Linh</td>\n      <td>23</td>\n      <td>HN</td>\n      <td>MSc</td>\n      <td>10</td>\n    </tr>\n    <tr>\n      <th>1</th>\n      <td>Hoa</td>\n      <td>25</td>\n      <td>HN</td>\n      <td>MSc</td>\n      <td>10</td>\n    </tr>\n    <tr>\n      <th>2</th>\n      <td>Hung</td>\n      <td>22</td>\n      <td>HN</td>\n      <td>PhD</td>\n      <td>10</td>\n    </tr>\n    <tr>\n      <th>3</th>\n      <td>Hieu</td>\n      <td>23</td>\n      <td>HN</td>\n      <td>BSc</td>\n      <td>10</td>\n    </tr>\n    <tr>\n      <th>4</th>\n      <td>Huong</td>\n      <td>29</td>\n      <td>No address</td>\n      <td>MSc</td>\n      <td>10</td>\n    </tr>\n    <tr>\n      <th>5</th>\n      <td>John</td>\n      <td>30</td>\n      <td>NY</td>\n      <td>MSc</td>\n      <td>10</td>\n    </tr>\n    <tr>\n      <th>6</th>\n      <td>Peter</td>\n      <td>31</td>\n      <td>NY</td>\n      <td>MSc</td>\n      <td>10</td>\n    </tr>\n    <tr>\n      <th>7</th>\n      <td>Lily</td>\n      <td>28</td>\n      <td>NY</td>\n      <td>PhD</td>\n      <td>10</td>\n    </tr>\n    <tr>\n      <th>8</th>\n      <td>Linda</td>\n      <td>27</td>\n      <td>No address</td>\n      <td>BSc</td>\n      <td>10</td>\n    </tr>\n    <tr>\n      <th>9</th>\n      <td>Lam</td>\n      <td>26</td>\n      <td>NY</td>\n      <td>BSc</td>\n      <td>10</td>\n    </tr>\n  </tbody>\n</table>\n</div>"
     },
     "execution_count": 195,
     "metadata": {},
     "output_type": "execute_result"
    }
   ],
   "source": [
    "# Add a new column named 'Score' with all values equal to 10\n",
    "\"\"\"\n",
    "To add a new column named 'Score' with all values equal to 10 we can use the assign() function\n",
    "\"\"\"\n",
    "# Your code here\n",
    "df = df.assign(Score=10)\n",
    "df"
   ],
   "metadata": {
    "collapsed": false
   }
  },
  {
   "cell_type": "code",
   "execution_count": 196,
   "outputs": [
    {
     "data": {
      "text/plain": "    Name  Age     Address Qualification\n0   Linh   23          HN           MSc\n1    Hoa   25          HN           MSc\n2   Hung   22          HN           PhD\n3   Hieu   23          HN           BSc\n4  Huong   29  No address           MSc\n5   John   30          NY           MSc\n6  Peter   31          NY           MSc\n7   Lily   28          NY           PhD\n8  Linda   27  No address           BSc\n9    Lam   26          NY           BSc",
      "text/html": "<div>\n<style scoped>\n    .dataframe tbody tr th:only-of-type {\n        vertical-align: middle;\n    }\n\n    .dataframe tbody tr th {\n        vertical-align: top;\n    }\n\n    .dataframe thead th {\n        text-align: right;\n    }\n</style>\n<table border=\"1\" class=\"dataframe\">\n  <thead>\n    <tr style=\"text-align: right;\">\n      <th></th>\n      <th>Name</th>\n      <th>Age</th>\n      <th>Address</th>\n      <th>Qualification</th>\n    </tr>\n  </thead>\n  <tbody>\n    <tr>\n      <th>0</th>\n      <td>Linh</td>\n      <td>23</td>\n      <td>HN</td>\n      <td>MSc</td>\n    </tr>\n    <tr>\n      <th>1</th>\n      <td>Hoa</td>\n      <td>25</td>\n      <td>HN</td>\n      <td>MSc</td>\n    </tr>\n    <tr>\n      <th>2</th>\n      <td>Hung</td>\n      <td>22</td>\n      <td>HN</td>\n      <td>PhD</td>\n    </tr>\n    <tr>\n      <th>3</th>\n      <td>Hieu</td>\n      <td>23</td>\n      <td>HN</td>\n      <td>BSc</td>\n    </tr>\n    <tr>\n      <th>4</th>\n      <td>Huong</td>\n      <td>29</td>\n      <td>No address</td>\n      <td>MSc</td>\n    </tr>\n    <tr>\n      <th>5</th>\n      <td>John</td>\n      <td>30</td>\n      <td>NY</td>\n      <td>MSc</td>\n    </tr>\n    <tr>\n      <th>6</th>\n      <td>Peter</td>\n      <td>31</td>\n      <td>NY</td>\n      <td>MSc</td>\n    </tr>\n    <tr>\n      <th>7</th>\n      <td>Lily</td>\n      <td>28</td>\n      <td>NY</td>\n      <td>PhD</td>\n    </tr>\n    <tr>\n      <th>8</th>\n      <td>Linda</td>\n      <td>27</td>\n      <td>No address</td>\n      <td>BSc</td>\n    </tr>\n    <tr>\n      <th>9</th>\n      <td>Lam</td>\n      <td>26</td>\n      <td>NY</td>\n      <td>BSc</td>\n    </tr>\n  </tbody>\n</table>\n</div>"
     },
     "execution_count": 196,
     "metadata": {},
     "output_type": "execute_result"
    }
   ],
   "source": [
    "# Delete the 'Score' column\n",
    "\"\"\"\n",
    "To delete the 'Score' column we can use the drop() function\n",
    "\"\"\"\n",
    "# Your code here\n",
    "df = df.drop('Score', axis=1)\n",
    "df"
   ],
   "metadata": {
    "collapsed": false
   }
  },
  {
   "cell_type": "code",
   "execution_count": 197,
   "outputs": [
    {
     "data": {
      "text/plain": "Name             10\nAge               9\nAddress           3\nQualification     3\ndtype: int64"
     },
     "execution_count": 197,
     "metadata": {},
     "output_type": "execute_result"
    }
   ],
   "source": [
    "# Print the number of unique values in each column\n",
    "\"\"\"\n",
    "To print the number of unique values in each column we can use the nunique() function\n",
    "\"\"\"\n",
    "# Your code\n",
    "df.nunique()"
   ],
   "metadata": {
    "collapsed": false
   }
  },
  {
   "cell_type": "code",
   "execution_count": 198,
   "outputs": [
    {
     "data": {
      "text/plain": "0    4\n1    4\n2    4\n3    4\n4    4\n5    4\n6    4\n7    4\n8    4\n9    4\ndtype: int64"
     },
     "execution_count": 198,
     "metadata": {},
     "output_type": "execute_result"
    }
   ],
   "source": [
    "# Print the number of unique values in each row\n",
    "\"\"\"\n",
    "To print the number of unique values in each row we can use the nunique() function\n",
    "\"\"\"\n",
    "# Your code here\n",
    "df.nunique(axis=1)"
   ],
   "metadata": {
    "collapsed": false
   }
  },
  {
   "cell_type": "code",
   "execution_count": 199,
   "outputs": [
    {
     "data": {
      "text/plain": "Name             Peter\nAge                 31\nAddress             NY\nQualification      MSc\nName: 6, dtype: object"
     },
     "execution_count": 199,
     "metadata": {},
     "output_type": "execute_result"
    }
   ],
   "source": [
    "# Print the row which has the maximum value in the 'Age' column\n",
    "\"\"\"\n",
    "To print the row which has the maximum value in the 'Age' column we can use the idxmax() function\n",
    "\"\"\"\n",
    "# Your code here\n",
    "df.loc[df['Age'].idxmax()]"
   ],
   "metadata": {
    "collapsed": false
   }
  },
  {
   "cell_type": "code",
   "execution_count": 200,
   "outputs": [
    {
     "data": {
      "text/plain": "Name             Hung\nAge                22\nAddress            HN\nQualification     PhD\nName: 2, dtype: object"
     },
     "execution_count": 200,
     "metadata": {},
     "output_type": "execute_result"
    }
   ],
   "source": [
    "# Print the row which has the minimum value in the 'Age' column\n",
    "\"\"\"\n",
    "To print the row which has the minimum value in the 'Age' column we can use the idxmin() function\n",
    "\"\"\"\n",
    "# Your code here\n",
    "df.loc[df['Age'].idxmin()]"
   ],
   "metadata": {
    "collapsed": false
   }
  },
  {
   "cell_type": "code",
   "execution_count": 201,
   "outputs": [
    {
     "data": {
      "text/plain": "Name             Peter\nAge                 31\nAddress             NY\nQualification      MSc\nName: 6, dtype: object"
     },
     "execution_count": 201,
     "metadata": {},
     "output_type": "execute_result"
    }
   ],
   "source": [
    "# Print the row which has the maximum value in the 'Age' column\n",
    "\"\"\"\n",
    "To print the row which has the maximum value in the 'Age' column we can use the idxmax() function\n",
    "\"\"\"\n",
    "# Your code here\n",
    "df.loc[df['Age'].idxmax()]"
   ],
   "metadata": {
    "collapsed": false
   }
  },
  {
   "cell_type": "code",
   "execution_count": 202,
   "outputs": [
    {
     "data": {
      "text/plain": "    Name  Age Address Qualification\n0   Linh   23      HN           MSc\n1    Hoa   25      HN           MSc\n2   Hung   22      HN           PhD\n3   Hieu   23      HN           NaN\n4  Huong   29     NaN           MSc\n5   John   30      NY           MSc\n6  Peter   31      NY           MSc\n7   Lily   28      NY           PhD\n8  Linda   27     NaN           NaN\n9    Lam   26      NY           NaN",
      "text/html": "<div>\n<style scoped>\n    .dataframe tbody tr th:only-of-type {\n        vertical-align: middle;\n    }\n\n    .dataframe tbody tr th {\n        vertical-align: top;\n    }\n\n    .dataframe thead th {\n        text-align: right;\n    }\n</style>\n<table border=\"1\" class=\"dataframe\">\n  <thead>\n    <tr style=\"text-align: right;\">\n      <th></th>\n      <th>Name</th>\n      <th>Age</th>\n      <th>Address</th>\n      <th>Qualification</th>\n    </tr>\n  </thead>\n  <tbody>\n    <tr>\n      <th>0</th>\n      <td>Linh</td>\n      <td>23</td>\n      <td>HN</td>\n      <td>MSc</td>\n    </tr>\n    <tr>\n      <th>1</th>\n      <td>Hoa</td>\n      <td>25</td>\n      <td>HN</td>\n      <td>MSc</td>\n    </tr>\n    <tr>\n      <th>2</th>\n      <td>Hung</td>\n      <td>22</td>\n      <td>HN</td>\n      <td>PhD</td>\n    </tr>\n    <tr>\n      <th>3</th>\n      <td>Hieu</td>\n      <td>23</td>\n      <td>HN</td>\n      <td>NaN</td>\n    </tr>\n    <tr>\n      <th>4</th>\n      <td>Huong</td>\n      <td>29</td>\n      <td>NaN</td>\n      <td>MSc</td>\n    </tr>\n    <tr>\n      <th>5</th>\n      <td>John</td>\n      <td>30</td>\n      <td>NY</td>\n      <td>MSc</td>\n    </tr>\n    <tr>\n      <th>6</th>\n      <td>Peter</td>\n      <td>31</td>\n      <td>NY</td>\n      <td>MSc</td>\n    </tr>\n    <tr>\n      <th>7</th>\n      <td>Lily</td>\n      <td>28</td>\n      <td>NY</td>\n      <td>PhD</td>\n    </tr>\n    <tr>\n      <th>8</th>\n      <td>Linda</td>\n      <td>27</td>\n      <td>NaN</td>\n      <td>NaN</td>\n    </tr>\n    <tr>\n      <th>9</th>\n      <td>Lam</td>\n      <td>26</td>\n      <td>NY</td>\n      <td>NaN</td>\n    </tr>\n  </tbody>\n</table>\n</div>"
     },
     "execution_count": 202,
     "metadata": {},
     "output_type": "execute_result"
    }
   ],
   "source": [
    "import numpy as np\n",
    "\n",
    "# Make some null data in Address, Qualification columns\n",
    "\"\"\"\n",
    "To make some null data in Address, Qualification columns we can use the replace() function\n",
    "\"\"\"\n",
    "# Your code here\n",
    "df['Address'] = df['Address'].replace('No address', np.nan)\n",
    "df['Qualification'] = df['Qualification'].replace('BSc', np.nan)\n",
    "df"
   ],
   "metadata": {
    "collapsed": false
   }
  },
  {
   "cell_type": "code",
   "execution_count": 203,
   "outputs": [
    {
     "data": {
      "text/plain": "    Name  Age     Address Qualification\n0   Linh   23          HN           MSc\n1    Hoa   25          HN           MSc\n2   Hung   22          HN           PhD\n3   Hieu   23          HN           NaN\n4  Huong   29  No address           MSc\n5   John   30          NY           MSc\n6  Peter   31          NY           MSc\n7   Lily   28          NY           PhD\n8  Linda   27  No address           NaN\n9    Lam   26          NY           NaN",
      "text/html": "<div>\n<style scoped>\n    .dataframe tbody tr th:only-of-type {\n        vertical-align: middle;\n    }\n\n    .dataframe tbody tr th {\n        vertical-align: top;\n    }\n\n    .dataframe thead th {\n        text-align: right;\n    }\n</style>\n<table border=\"1\" class=\"dataframe\">\n  <thead>\n    <tr style=\"text-align: right;\">\n      <th></th>\n      <th>Name</th>\n      <th>Age</th>\n      <th>Address</th>\n      <th>Qualification</th>\n    </tr>\n  </thead>\n  <tbody>\n    <tr>\n      <th>0</th>\n      <td>Linh</td>\n      <td>23</td>\n      <td>HN</td>\n      <td>MSc</td>\n    </tr>\n    <tr>\n      <th>1</th>\n      <td>Hoa</td>\n      <td>25</td>\n      <td>HN</td>\n      <td>MSc</td>\n    </tr>\n    <tr>\n      <th>2</th>\n      <td>Hung</td>\n      <td>22</td>\n      <td>HN</td>\n      <td>PhD</td>\n    </tr>\n    <tr>\n      <th>3</th>\n      <td>Hieu</td>\n      <td>23</td>\n      <td>HN</td>\n      <td>NaN</td>\n    </tr>\n    <tr>\n      <th>4</th>\n      <td>Huong</td>\n      <td>29</td>\n      <td>No address</td>\n      <td>MSc</td>\n    </tr>\n    <tr>\n      <th>5</th>\n      <td>John</td>\n      <td>30</td>\n      <td>NY</td>\n      <td>MSc</td>\n    </tr>\n    <tr>\n      <th>6</th>\n      <td>Peter</td>\n      <td>31</td>\n      <td>NY</td>\n      <td>MSc</td>\n    </tr>\n    <tr>\n      <th>7</th>\n      <td>Lily</td>\n      <td>28</td>\n      <td>NY</td>\n      <td>PhD</td>\n    </tr>\n    <tr>\n      <th>8</th>\n      <td>Linda</td>\n      <td>27</td>\n      <td>No address</td>\n      <td>NaN</td>\n    </tr>\n    <tr>\n      <th>9</th>\n      <td>Lam</td>\n      <td>26</td>\n      <td>NY</td>\n      <td>NaN</td>\n    </tr>\n  </tbody>\n</table>\n</div>"
     },
     "execution_count": 203,
     "metadata": {},
     "output_type": "execute_result"
    }
   ],
   "source": [
    "# If the 'Address' column has missing values, replace them with 'No address'\n",
    "\"\"\"\n",
    "To replace the missing values in the 'Address' column with 'No address' we can use the fillna() function\n",
    "\"\"\"\n",
    "# Your code here\n",
    "df['Address'] = df['Address'].fillna('No address')\n",
    "df"
   ],
   "metadata": {
    "collapsed": false
   }
  },
  {
   "cell_type": "code",
   "execution_count": 204,
   "outputs": [
    {
     "data": {
      "text/plain": "    Name  Age     Address Qualification\n0   Linh   23          HN           MSc\n1    Hoa   25          HN           MSc\n2   Hung   22          HN           PhD\n3   Hieu   23          HN           NaN\n4  Huong   29  No address           MSc\n5   John   30          NY           MSc\n6  Peter   31          NY           MSc\n7   Lily   28          NY           PhD\n8  Linda   27  No address           NaN\n9    Lam   26          NY           NaN",
      "text/html": "<div>\n<style scoped>\n    .dataframe tbody tr th:only-of-type {\n        vertical-align: middle;\n    }\n\n    .dataframe tbody tr th {\n        vertical-align: top;\n    }\n\n    .dataframe thead th {\n        text-align: right;\n    }\n</style>\n<table border=\"1\" class=\"dataframe\">\n  <thead>\n    <tr style=\"text-align: right;\">\n      <th></th>\n      <th>Name</th>\n      <th>Age</th>\n      <th>Address</th>\n      <th>Qualification</th>\n    </tr>\n  </thead>\n  <tbody>\n    <tr>\n      <th>0</th>\n      <td>Linh</td>\n      <td>23</td>\n      <td>HN</td>\n      <td>MSc</td>\n    </tr>\n    <tr>\n      <th>1</th>\n      <td>Hoa</td>\n      <td>25</td>\n      <td>HN</td>\n      <td>MSc</td>\n    </tr>\n    <tr>\n      <th>2</th>\n      <td>Hung</td>\n      <td>22</td>\n      <td>HN</td>\n      <td>PhD</td>\n    </tr>\n    <tr>\n      <th>3</th>\n      <td>Hieu</td>\n      <td>23</td>\n      <td>HN</td>\n      <td>NaN</td>\n    </tr>\n    <tr>\n      <th>4</th>\n      <td>Huong</td>\n      <td>29</td>\n      <td>No address</td>\n      <td>MSc</td>\n    </tr>\n    <tr>\n      <th>5</th>\n      <td>John</td>\n      <td>30</td>\n      <td>NY</td>\n      <td>MSc</td>\n    </tr>\n    <tr>\n      <th>6</th>\n      <td>Peter</td>\n      <td>31</td>\n      <td>NY</td>\n      <td>MSc</td>\n    </tr>\n    <tr>\n      <th>7</th>\n      <td>Lily</td>\n      <td>28</td>\n      <td>NY</td>\n      <td>PhD</td>\n    </tr>\n    <tr>\n      <th>8</th>\n      <td>Linda</td>\n      <td>27</td>\n      <td>No address</td>\n      <td>NaN</td>\n    </tr>\n    <tr>\n      <th>9</th>\n      <td>Lam</td>\n      <td>26</td>\n      <td>NY</td>\n      <td>NaN</td>\n    </tr>\n  </tbody>\n</table>\n</div>"
     },
     "execution_count": 204,
     "metadata": {},
     "output_type": "execute_result"
    }
   ],
   "source": [
    "# We can do the same thing with the replace() function\n",
    "\"\"\"\n",
    "To replace the missing values in the 'Address' column with 'No address' we can use the replace() function\n",
    "\"\"\"\n",
    "# Your code here\n",
    "df['Address'] = df['Address'].replace(np.nan, 'No address')\n",
    "df"
   ],
   "metadata": {
    "collapsed": false
   }
  },
  {
   "cell_type": "code",
   "execution_count": 205,
   "outputs": [
    {
     "data": {
      "text/plain": "    Name  Age     Address Qualification\n0   Linh   23          HN           MSc\n1    Hoa   25          HN           MSc\n2   Hung   22          HN           PhD\n3   Hieu   23          HN           NaN\n4  Huong   29  No address           MSc\n5   John   30          NY           MSc\n6  Peter   31          NY           MSc\n7   Lily   28          NY           PhD\n8  Linda   27  No address           NaN\n9    Lam   26          NY           NaN",
      "text/html": "<div>\n<style scoped>\n    .dataframe tbody tr th:only-of-type {\n        vertical-align: middle;\n    }\n\n    .dataframe tbody tr th {\n        vertical-align: top;\n    }\n\n    .dataframe thead th {\n        text-align: right;\n    }\n</style>\n<table border=\"1\" class=\"dataframe\">\n  <thead>\n    <tr style=\"text-align: right;\">\n      <th></th>\n      <th>Name</th>\n      <th>Age</th>\n      <th>Address</th>\n      <th>Qualification</th>\n    </tr>\n  </thead>\n  <tbody>\n    <tr>\n      <th>0</th>\n      <td>Linh</td>\n      <td>23</td>\n      <td>HN</td>\n      <td>MSc</td>\n    </tr>\n    <tr>\n      <th>1</th>\n      <td>Hoa</td>\n      <td>25</td>\n      <td>HN</td>\n      <td>MSc</td>\n    </tr>\n    <tr>\n      <th>2</th>\n      <td>Hung</td>\n      <td>22</td>\n      <td>HN</td>\n      <td>PhD</td>\n    </tr>\n    <tr>\n      <th>3</th>\n      <td>Hieu</td>\n      <td>23</td>\n      <td>HN</td>\n      <td>NaN</td>\n    </tr>\n    <tr>\n      <th>4</th>\n      <td>Huong</td>\n      <td>29</td>\n      <td>No address</td>\n      <td>MSc</td>\n    </tr>\n    <tr>\n      <th>5</th>\n      <td>John</td>\n      <td>30</td>\n      <td>NY</td>\n      <td>MSc</td>\n    </tr>\n    <tr>\n      <th>6</th>\n      <td>Peter</td>\n      <td>31</td>\n      <td>NY</td>\n      <td>MSc</td>\n    </tr>\n    <tr>\n      <th>7</th>\n      <td>Lily</td>\n      <td>28</td>\n      <td>NY</td>\n      <td>PhD</td>\n    </tr>\n    <tr>\n      <th>8</th>\n      <td>Linda</td>\n      <td>27</td>\n      <td>No address</td>\n      <td>NaN</td>\n    </tr>\n    <tr>\n      <th>9</th>\n      <td>Lam</td>\n      <td>26</td>\n      <td>NY</td>\n      <td>NaN</td>\n    </tr>\n  </tbody>\n</table>\n</div>"
     },
     "execution_count": 205,
     "metadata": {},
     "output_type": "execute_result"
    }
   ],
   "source": [
    "# Also with lambda function\n",
    "\"\"\"\n",
    "To replace the missing values in the 'Address' column with 'No address' we can use the lambda function\n",
    "\"\"\"\n",
    "# Your code here\n",
    "df['Address'] = df['Address'].apply(lambda x: 'No address' if pd.isnull(x) else x)\n",
    "df"
   ],
   "metadata": {
    "collapsed": false
   }
  },
  {
   "cell_type": "code",
   "execution_count": 206,
   "outputs": [
    {
     "data": {
      "text/plain": "    Name  Age     Address Qualification University\n0   Linh   23          HN           MSc        PSL\n1    Hoa   25          HN           MSc        PSL\n2   Hung   22          HN           PhD        PSL\n3   Hieu   23          HN           NaN        PSL\n4  Huong   29  No address           MSc        PSL\n5   John   30          NY           MSc        PSL\n6  Peter   31          NY           MSc        PSL\n7   Lily   28          NY           PhD        PSL\n8  Linda   27  No address           NaN        PSL\n9    Lam   26          NY           NaN        PSL",
      "text/html": "<div>\n<style scoped>\n    .dataframe tbody tr th:only-of-type {\n        vertical-align: middle;\n    }\n\n    .dataframe tbody tr th {\n        vertical-align: top;\n    }\n\n    .dataframe thead th {\n        text-align: right;\n    }\n</style>\n<table border=\"1\" class=\"dataframe\">\n  <thead>\n    <tr style=\"text-align: right;\">\n      <th></th>\n      <th>Name</th>\n      <th>Age</th>\n      <th>Address</th>\n      <th>Qualification</th>\n      <th>University</th>\n    </tr>\n  </thead>\n  <tbody>\n    <tr>\n      <th>0</th>\n      <td>Linh</td>\n      <td>23</td>\n      <td>HN</td>\n      <td>MSc</td>\n      <td>PSL</td>\n    </tr>\n    <tr>\n      <th>1</th>\n      <td>Hoa</td>\n      <td>25</td>\n      <td>HN</td>\n      <td>MSc</td>\n      <td>PSL</td>\n    </tr>\n    <tr>\n      <th>2</th>\n      <td>Hung</td>\n      <td>22</td>\n      <td>HN</td>\n      <td>PhD</td>\n      <td>PSL</td>\n    </tr>\n    <tr>\n      <th>3</th>\n      <td>Hieu</td>\n      <td>23</td>\n      <td>HN</td>\n      <td>NaN</td>\n      <td>PSL</td>\n    </tr>\n    <tr>\n      <th>4</th>\n      <td>Huong</td>\n      <td>29</td>\n      <td>No address</td>\n      <td>MSc</td>\n      <td>PSL</td>\n    </tr>\n    <tr>\n      <th>5</th>\n      <td>John</td>\n      <td>30</td>\n      <td>NY</td>\n      <td>MSc</td>\n      <td>PSL</td>\n    </tr>\n    <tr>\n      <th>6</th>\n      <td>Peter</td>\n      <td>31</td>\n      <td>NY</td>\n      <td>MSc</td>\n      <td>PSL</td>\n    </tr>\n    <tr>\n      <th>7</th>\n      <td>Lily</td>\n      <td>28</td>\n      <td>NY</td>\n      <td>PhD</td>\n      <td>PSL</td>\n    </tr>\n    <tr>\n      <th>8</th>\n      <td>Linda</td>\n      <td>27</td>\n      <td>No address</td>\n      <td>NaN</td>\n      <td>PSL</td>\n    </tr>\n    <tr>\n      <th>9</th>\n      <td>Lam</td>\n      <td>26</td>\n      <td>NY</td>\n      <td>NaN</td>\n      <td>PSL</td>\n    </tr>\n  </tbody>\n</table>\n</div>"
     },
     "execution_count": 206,
     "metadata": {},
     "output_type": "execute_result"
    }
   ],
   "source": [
    "# Add a column named 'University' with all values equal to 'PSL'\n",
    "\"\"\"\n",
    "To add a column named 'University' with all values equal to 'PSL' we can use the assign() function\n",
    "\"\"\"\n",
    "# Your code here\n",
    "df = df.assign(University='PSL')\n",
    "df"
   ],
   "metadata": {
    "collapsed": false
   }
  },
  {
   "cell_type": "code",
   "execution_count": 207,
   "outputs": [
    {
     "data": {
      "text/plain": "26.4"
     },
     "execution_count": 207,
     "metadata": {},
     "output_type": "execute_result"
    }
   ],
   "source": [
    "# Calculate the mean of the 'Age' column\n",
    "\"\"\"\n",
    "To calculate the mean of the 'Age' column we can use the mean() function\n",
    "\"\"\"\n",
    "# Your code here\n",
    "df['Age'].mean()"
   ],
   "metadata": {
    "collapsed": false
   }
  },
  {
   "cell_type": "code",
   "execution_count": 208,
   "outputs": [
    {
     "data": {
      "text/plain": "26.5"
     },
     "execution_count": 208,
     "metadata": {},
     "output_type": "execute_result"
    }
   ],
   "source": [
    "# Calculate the median of the 'Age' column\n",
    "\"\"\"\n",
    "To calculate the median of the 'Age' column we can use the median() function\n",
    "\"\"\"\n",
    "# Your code here\n",
    "df['Age'].median()"
   ],
   "metadata": {
    "collapsed": false
   }
  },
  {
   "cell_type": "code",
   "execution_count": 209,
   "outputs": [
    {
     "data": {
      "text/plain": "    Name  Age     Address Qualification University\n0   Linh   23          HN        Master        PSL\n1    Hoa   25          HN        Master        PSL\n2   Hung   22          HN           PhD        PSL\n3   Hieu   23          HN           NaN        PSL\n4  Huong   29  No address        Master        PSL\n5   John   30          NY        Master        PSL\n6  Peter   31          NY        Master        PSL\n7   Lily   28          NY           PhD        PSL\n8  Linda   27  No address           NaN        PSL\n9    Lam   26          NY           NaN        PSL",
      "text/html": "<div>\n<style scoped>\n    .dataframe tbody tr th:only-of-type {\n        vertical-align: middle;\n    }\n\n    .dataframe tbody tr th {\n        vertical-align: top;\n    }\n\n    .dataframe thead th {\n        text-align: right;\n    }\n</style>\n<table border=\"1\" class=\"dataframe\">\n  <thead>\n    <tr style=\"text-align: right;\">\n      <th></th>\n      <th>Name</th>\n      <th>Age</th>\n      <th>Address</th>\n      <th>Qualification</th>\n      <th>University</th>\n    </tr>\n  </thead>\n  <tbody>\n    <tr>\n      <th>0</th>\n      <td>Linh</td>\n      <td>23</td>\n      <td>HN</td>\n      <td>Master</td>\n      <td>PSL</td>\n    </tr>\n    <tr>\n      <th>1</th>\n      <td>Hoa</td>\n      <td>25</td>\n      <td>HN</td>\n      <td>Master</td>\n      <td>PSL</td>\n    </tr>\n    <tr>\n      <th>2</th>\n      <td>Hung</td>\n      <td>22</td>\n      <td>HN</td>\n      <td>PhD</td>\n      <td>PSL</td>\n    </tr>\n    <tr>\n      <th>3</th>\n      <td>Hieu</td>\n      <td>23</td>\n      <td>HN</td>\n      <td>NaN</td>\n      <td>PSL</td>\n    </tr>\n    <tr>\n      <th>4</th>\n      <td>Huong</td>\n      <td>29</td>\n      <td>No address</td>\n      <td>Master</td>\n      <td>PSL</td>\n    </tr>\n    <tr>\n      <th>5</th>\n      <td>John</td>\n      <td>30</td>\n      <td>NY</td>\n      <td>Master</td>\n      <td>PSL</td>\n    </tr>\n    <tr>\n      <th>6</th>\n      <td>Peter</td>\n      <td>31</td>\n      <td>NY</td>\n      <td>Master</td>\n      <td>PSL</td>\n    </tr>\n    <tr>\n      <th>7</th>\n      <td>Lily</td>\n      <td>28</td>\n      <td>NY</td>\n      <td>PhD</td>\n      <td>PSL</td>\n    </tr>\n    <tr>\n      <th>8</th>\n      <td>Linda</td>\n      <td>27</td>\n      <td>No address</td>\n      <td>NaN</td>\n      <td>PSL</td>\n    </tr>\n    <tr>\n      <th>9</th>\n      <td>Lam</td>\n      <td>26</td>\n      <td>NY</td>\n      <td>NaN</td>\n      <td>PSL</td>\n    </tr>\n  </tbody>\n</table>\n</div>"
     },
     "execution_count": 209,
     "metadata": {},
     "output_type": "execute_result"
    }
   ],
   "source": [
    "# Replace the 'MSc' value in the 'Qualification' column with 'Master'\n",
    "\"\"\"\n",
    "To replace the 'MSc' value in the 'Qualification' column with 'Master' we can use the replace() function\n",
    "\"\"\"\n",
    "# Your code here\n",
    "df['Qualification'] = df['Qualification'].replace('MSc', 'Master')\n",
    "df"
   ],
   "metadata": {
    "collapsed": false
   }
  },
  {
   "cell_type": "code",
   "execution_count": 210,
   "outputs": [
    {
     "data": {
      "text/plain": "    Name  Age     Address Qualification University\n0   Linh   23          HN        Master        PSL\n1    Hoa   25          HN        Master        PSL\n2   Hung   22          HN        Doctor        PSL\n3   Hieu   23          HN           NaN        PSL\n4  Huong   29  No address        Master        PSL\n5   John   30          NY        Master        PSL\n6  Peter   31          NY        Master        PSL\n7   Lily   28          NY        Doctor        PSL\n8  Linda   27  No address           NaN        PSL\n9    Lam   26          NY           NaN        PSL",
      "text/html": "<div>\n<style scoped>\n    .dataframe tbody tr th:only-of-type {\n        vertical-align: middle;\n    }\n\n    .dataframe tbody tr th {\n        vertical-align: top;\n    }\n\n    .dataframe thead th {\n        text-align: right;\n    }\n</style>\n<table border=\"1\" class=\"dataframe\">\n  <thead>\n    <tr style=\"text-align: right;\">\n      <th></th>\n      <th>Name</th>\n      <th>Age</th>\n      <th>Address</th>\n      <th>Qualification</th>\n      <th>University</th>\n    </tr>\n  </thead>\n  <tbody>\n    <tr>\n      <th>0</th>\n      <td>Linh</td>\n      <td>23</td>\n      <td>HN</td>\n      <td>Master</td>\n      <td>PSL</td>\n    </tr>\n    <tr>\n      <th>1</th>\n      <td>Hoa</td>\n      <td>25</td>\n      <td>HN</td>\n      <td>Master</td>\n      <td>PSL</td>\n    </tr>\n    <tr>\n      <th>2</th>\n      <td>Hung</td>\n      <td>22</td>\n      <td>HN</td>\n      <td>Doctor</td>\n      <td>PSL</td>\n    </tr>\n    <tr>\n      <th>3</th>\n      <td>Hieu</td>\n      <td>23</td>\n      <td>HN</td>\n      <td>NaN</td>\n      <td>PSL</td>\n    </tr>\n    <tr>\n      <th>4</th>\n      <td>Huong</td>\n      <td>29</td>\n      <td>No address</td>\n      <td>Master</td>\n      <td>PSL</td>\n    </tr>\n    <tr>\n      <th>5</th>\n      <td>John</td>\n      <td>30</td>\n      <td>NY</td>\n      <td>Master</td>\n      <td>PSL</td>\n    </tr>\n    <tr>\n      <th>6</th>\n      <td>Peter</td>\n      <td>31</td>\n      <td>NY</td>\n      <td>Master</td>\n      <td>PSL</td>\n    </tr>\n    <tr>\n      <th>7</th>\n      <td>Lily</td>\n      <td>28</td>\n      <td>NY</td>\n      <td>Doctor</td>\n      <td>PSL</td>\n    </tr>\n    <tr>\n      <th>8</th>\n      <td>Linda</td>\n      <td>27</td>\n      <td>No address</td>\n      <td>NaN</td>\n      <td>PSL</td>\n    </tr>\n    <tr>\n      <th>9</th>\n      <td>Lam</td>\n      <td>26</td>\n      <td>NY</td>\n      <td>NaN</td>\n      <td>PSL</td>\n    </tr>\n  </tbody>\n</table>\n</div>"
     },
     "execution_count": 210,
     "metadata": {},
     "output_type": "execute_result"
    }
   ],
   "source": [
    "# Replace the 'PhD' value in the 'Qualification' column with 'Doctor'\n",
    "\"\"\"\n",
    "To replace the 'PhD' value in the 'Qualification' column with 'Doctor' we can use the replace() function\n",
    "\"\"\"\n",
    "# Your code here\n",
    "df['Qualification'] = df['Qualification'].replace('PhD', 'Doctor')\n",
    "df"
   ],
   "metadata": {
    "collapsed": false
   }
  },
  {
   "cell_type": "code",
   "execution_count": 211,
   "outputs": [
    {
     "data": {
      "text/plain": "    Name  Age     Address Qualification University\n0   Linh   23          HN        Master        PSL\n1    Hoa   25          HN        Master        PSL\n2   Hung   22          HN        Doctor        PSL\n3   Hieu   23          HN           NaN        PSL\n4  Huong   29  No address        Master        PSL\n5   John   30          NY        Master        PSL\n6  Peter   31          NY        Master        PSL\n7   Lily   28          NY        Doctor        PSL\n8  Linda   27  No address           NaN        PSL\n9    Lam   26          NY           NaN        PSL",
      "text/html": "<div>\n<style scoped>\n    .dataframe tbody tr th:only-of-type {\n        vertical-align: middle;\n    }\n\n    .dataframe tbody tr th {\n        vertical-align: top;\n    }\n\n    .dataframe thead th {\n        text-align: right;\n    }\n</style>\n<table border=\"1\" class=\"dataframe\">\n  <thead>\n    <tr style=\"text-align: right;\">\n      <th></th>\n      <th>Name</th>\n      <th>Age</th>\n      <th>Address</th>\n      <th>Qualification</th>\n      <th>University</th>\n    </tr>\n  </thead>\n  <tbody>\n    <tr>\n      <th>0</th>\n      <td>Linh</td>\n      <td>23</td>\n      <td>HN</td>\n      <td>Master</td>\n      <td>PSL</td>\n    </tr>\n    <tr>\n      <th>1</th>\n      <td>Hoa</td>\n      <td>25</td>\n      <td>HN</td>\n      <td>Master</td>\n      <td>PSL</td>\n    </tr>\n    <tr>\n      <th>2</th>\n      <td>Hung</td>\n      <td>22</td>\n      <td>HN</td>\n      <td>Doctor</td>\n      <td>PSL</td>\n    </tr>\n    <tr>\n      <th>3</th>\n      <td>Hieu</td>\n      <td>23</td>\n      <td>HN</td>\n      <td>NaN</td>\n      <td>PSL</td>\n    </tr>\n    <tr>\n      <th>4</th>\n      <td>Huong</td>\n      <td>29</td>\n      <td>No address</td>\n      <td>Master</td>\n      <td>PSL</td>\n    </tr>\n    <tr>\n      <th>5</th>\n      <td>John</td>\n      <td>30</td>\n      <td>NY</td>\n      <td>Master</td>\n      <td>PSL</td>\n    </tr>\n    <tr>\n      <th>6</th>\n      <td>Peter</td>\n      <td>31</td>\n      <td>NY</td>\n      <td>Master</td>\n      <td>PSL</td>\n    </tr>\n    <tr>\n      <th>7</th>\n      <td>Lily</td>\n      <td>28</td>\n      <td>NY</td>\n      <td>Doctor</td>\n      <td>PSL</td>\n    </tr>\n    <tr>\n      <th>8</th>\n      <td>Linda</td>\n      <td>27</td>\n      <td>No address</td>\n      <td>NaN</td>\n      <td>PSL</td>\n    </tr>\n    <tr>\n      <th>9</th>\n      <td>Lam</td>\n      <td>26</td>\n      <td>NY</td>\n      <td>NaN</td>\n      <td>PSL</td>\n    </tr>\n  </tbody>\n</table>\n</div>"
     },
     "execution_count": 211,
     "metadata": {},
     "output_type": "execute_result"
    }
   ],
   "source": [
    "# Replace the 'BSc' value in the 'Qualification' column with 'Bachelor'\n",
    "\"\"\"\n",
    "To replace the 'BSc' value in the 'Qualification' column with 'Bachelor' we can use the replace() function\n",
    "\"\"\"\n",
    "# Your code here\n",
    "df['Qualification'] = df['Qualification'].replace('BSc', 'Bachelor')\n",
    "df"
   ],
   "metadata": {
    "collapsed": false
   }
  },
  {
   "cell_type": "code",
   "execution_count": 212,
   "outputs": [
    {
     "data": {
      "text/plain": "    Name  Age     Address     Qualification University\n0   Linh   23          HN            Master        PSL\n1    Hoa   25          HN            Master        PSL\n2   Hung   22          HN            Doctor        PSL\n3   Hieu   23          HN  No qualification        PSL\n4  Huong   29  No address            Master        PSL\n5   John   30          NY            Master        PSL\n6  Peter   31          NY            Master        PSL\n7   Lily   28          NY            Doctor        PSL\n8  Linda   27  No address  No qualification        PSL\n9    Lam   26          NY  No qualification        PSL",
      "text/html": "<div>\n<style scoped>\n    .dataframe tbody tr th:only-of-type {\n        vertical-align: middle;\n    }\n\n    .dataframe tbody tr th {\n        vertical-align: top;\n    }\n\n    .dataframe thead th {\n        text-align: right;\n    }\n</style>\n<table border=\"1\" class=\"dataframe\">\n  <thead>\n    <tr style=\"text-align: right;\">\n      <th></th>\n      <th>Name</th>\n      <th>Age</th>\n      <th>Address</th>\n      <th>Qualification</th>\n      <th>University</th>\n    </tr>\n  </thead>\n  <tbody>\n    <tr>\n      <th>0</th>\n      <td>Linh</td>\n      <td>23</td>\n      <td>HN</td>\n      <td>Master</td>\n      <td>PSL</td>\n    </tr>\n    <tr>\n      <th>1</th>\n      <td>Hoa</td>\n      <td>25</td>\n      <td>HN</td>\n      <td>Master</td>\n      <td>PSL</td>\n    </tr>\n    <tr>\n      <th>2</th>\n      <td>Hung</td>\n      <td>22</td>\n      <td>HN</td>\n      <td>Doctor</td>\n      <td>PSL</td>\n    </tr>\n    <tr>\n      <th>3</th>\n      <td>Hieu</td>\n      <td>23</td>\n      <td>HN</td>\n      <td>No qualification</td>\n      <td>PSL</td>\n    </tr>\n    <tr>\n      <th>4</th>\n      <td>Huong</td>\n      <td>29</td>\n      <td>No address</td>\n      <td>Master</td>\n      <td>PSL</td>\n    </tr>\n    <tr>\n      <th>5</th>\n      <td>John</td>\n      <td>30</td>\n      <td>NY</td>\n      <td>Master</td>\n      <td>PSL</td>\n    </tr>\n    <tr>\n      <th>6</th>\n      <td>Peter</td>\n      <td>31</td>\n      <td>NY</td>\n      <td>Master</td>\n      <td>PSL</td>\n    </tr>\n    <tr>\n      <th>7</th>\n      <td>Lily</td>\n      <td>28</td>\n      <td>NY</td>\n      <td>Doctor</td>\n      <td>PSL</td>\n    </tr>\n    <tr>\n      <th>8</th>\n      <td>Linda</td>\n      <td>27</td>\n      <td>No address</td>\n      <td>No qualification</td>\n      <td>PSL</td>\n    </tr>\n    <tr>\n      <th>9</th>\n      <td>Lam</td>\n      <td>26</td>\n      <td>NY</td>\n      <td>No qualification</td>\n      <td>PSL</td>\n    </tr>\n  </tbody>\n</table>\n</div>"
     },
     "execution_count": 212,
     "metadata": {},
     "output_type": "execute_result"
    }
   ],
   "source": [
    "# Replace the null value in the 'Qualification' column with 'No qualification'\n",
    "\"\"\"\n",
    "To replace the null value in the 'Qualification' column with 'No qualification' we can use the replace() function\n",
    "\"\"\"\n",
    "# Your code here\n",
    "df['Qualification'] = df['Qualification'].replace(np.nan, 'No qualification')\n",
    "df"
   ],
   "metadata": {
    "collapsed": false
   }
  },
  {
   "cell_type": "code",
   "execution_count": 213,
   "outputs": [
    {
     "name": "stderr",
     "output_type": "stream",
     "text": [
      "/var/folders/sm/lw2bbffs15g5l3r4ldd25hc00000gn/T/ipykernel_16349/2546144256.py:6: FutureWarning: The frame.append method is deprecated and will be removed from pandas in a future version. Use pandas.concat instead.\n",
      "  df = df.append({'Name': 'Hai', 'Age': 25, 'Address': 'HN', 'Qualification': 'Master'}, ignore_index=True)\n"
     ]
    },
    {
     "data": {
      "text/plain": "     Name  Age     Address     Qualification University\n0    Linh   23          HN            Master        PSL\n1     Hoa   25          HN            Master        PSL\n2    Hung   22          HN            Doctor        PSL\n3    Hieu   23          HN  No qualification        PSL\n4   Huong   29  No address            Master        PSL\n5    John   30          NY            Master        PSL\n6   Peter   31          NY            Master        PSL\n7    Lily   28          NY            Doctor        PSL\n8   Linda   27  No address  No qualification        PSL\n9     Lam   26          NY  No qualification        PSL\n10    Hai   25          HN            Master        NaN",
      "text/html": "<div>\n<style scoped>\n    .dataframe tbody tr th:only-of-type {\n        vertical-align: middle;\n    }\n\n    .dataframe tbody tr th {\n        vertical-align: top;\n    }\n\n    .dataframe thead th {\n        text-align: right;\n    }\n</style>\n<table border=\"1\" class=\"dataframe\">\n  <thead>\n    <tr style=\"text-align: right;\">\n      <th></th>\n      <th>Name</th>\n      <th>Age</th>\n      <th>Address</th>\n      <th>Qualification</th>\n      <th>University</th>\n    </tr>\n  </thead>\n  <tbody>\n    <tr>\n      <th>0</th>\n      <td>Linh</td>\n      <td>23</td>\n      <td>HN</td>\n      <td>Master</td>\n      <td>PSL</td>\n    </tr>\n    <tr>\n      <th>1</th>\n      <td>Hoa</td>\n      <td>25</td>\n      <td>HN</td>\n      <td>Master</td>\n      <td>PSL</td>\n    </tr>\n    <tr>\n      <th>2</th>\n      <td>Hung</td>\n      <td>22</td>\n      <td>HN</td>\n      <td>Doctor</td>\n      <td>PSL</td>\n    </tr>\n    <tr>\n      <th>3</th>\n      <td>Hieu</td>\n      <td>23</td>\n      <td>HN</td>\n      <td>No qualification</td>\n      <td>PSL</td>\n    </tr>\n    <tr>\n      <th>4</th>\n      <td>Huong</td>\n      <td>29</td>\n      <td>No address</td>\n      <td>Master</td>\n      <td>PSL</td>\n    </tr>\n    <tr>\n      <th>5</th>\n      <td>John</td>\n      <td>30</td>\n      <td>NY</td>\n      <td>Master</td>\n      <td>PSL</td>\n    </tr>\n    <tr>\n      <th>6</th>\n      <td>Peter</td>\n      <td>31</td>\n      <td>NY</td>\n      <td>Master</td>\n      <td>PSL</td>\n    </tr>\n    <tr>\n      <th>7</th>\n      <td>Lily</td>\n      <td>28</td>\n      <td>NY</td>\n      <td>Doctor</td>\n      <td>PSL</td>\n    </tr>\n    <tr>\n      <th>8</th>\n      <td>Linda</td>\n      <td>27</td>\n      <td>No address</td>\n      <td>No qualification</td>\n      <td>PSL</td>\n    </tr>\n    <tr>\n      <th>9</th>\n      <td>Lam</td>\n      <td>26</td>\n      <td>NY</td>\n      <td>No qualification</td>\n      <td>PSL</td>\n    </tr>\n    <tr>\n      <th>10</th>\n      <td>Hai</td>\n      <td>25</td>\n      <td>HN</td>\n      <td>Master</td>\n      <td>NaN</td>\n    </tr>\n  </tbody>\n</table>\n</div>"
     },
     "execution_count": 213,
     "metadata": {},
     "output_type": "execute_result"
    }
   ],
   "source": [
    "# Add 5 new distinct data to the dataframe for example (Name: Hai, Age: 25, Address: HN, Qualification: Master)\n",
    "\"\"\"\n",
    "To add new data to the dataframe we can use the append() function\n",
    "\"\"\"\n",
    "# Your code here\n",
    "df = df.append({'Name': 'Hai', 'Age': 25, 'Address': 'HN', 'Qualification': 'Master'}, ignore_index=True)\n",
    "df"
   ],
   "metadata": {
    "collapsed": false
   }
  },
  {
   "cell_type": "code",
   "execution_count": 214,
   "outputs": [
    {
     "data": {
      "text/plain": "     Name  Age     Address     Qualification University\n0    Linh   23          HN            Master        PSL\n1     Hoa   25          HN            Master        PSL\n2    Hung   22          HN            Doctor        PSL\n3    Hieu   23          HN  No qualification        PSL\n5    John   30          NY            Master        PSL\n6   Peter   31          NY            Master        PSL\n7    Lily   28          NY            Doctor        PSL\n8   Linda   27  No address  No qualification        PSL\n9     Lam   26          NY  No qualification        PSL\n10    Hai   25          HN            Master        NaN",
      "text/html": "<div>\n<style scoped>\n    .dataframe tbody tr th:only-of-type {\n        vertical-align: middle;\n    }\n\n    .dataframe tbody tr th {\n        vertical-align: top;\n    }\n\n    .dataframe thead th {\n        text-align: right;\n    }\n</style>\n<table border=\"1\" class=\"dataframe\">\n  <thead>\n    <tr style=\"text-align: right;\">\n      <th></th>\n      <th>Name</th>\n      <th>Age</th>\n      <th>Address</th>\n      <th>Qualification</th>\n      <th>University</th>\n    </tr>\n  </thead>\n  <tbody>\n    <tr>\n      <th>0</th>\n      <td>Linh</td>\n      <td>23</td>\n      <td>HN</td>\n      <td>Master</td>\n      <td>PSL</td>\n    </tr>\n    <tr>\n      <th>1</th>\n      <td>Hoa</td>\n      <td>25</td>\n      <td>HN</td>\n      <td>Master</td>\n      <td>PSL</td>\n    </tr>\n    <tr>\n      <th>2</th>\n      <td>Hung</td>\n      <td>22</td>\n      <td>HN</td>\n      <td>Doctor</td>\n      <td>PSL</td>\n    </tr>\n    <tr>\n      <th>3</th>\n      <td>Hieu</td>\n      <td>23</td>\n      <td>HN</td>\n      <td>No qualification</td>\n      <td>PSL</td>\n    </tr>\n    <tr>\n      <th>5</th>\n      <td>John</td>\n      <td>30</td>\n      <td>NY</td>\n      <td>Master</td>\n      <td>PSL</td>\n    </tr>\n    <tr>\n      <th>6</th>\n      <td>Peter</td>\n      <td>31</td>\n      <td>NY</td>\n      <td>Master</td>\n      <td>PSL</td>\n    </tr>\n    <tr>\n      <th>7</th>\n      <td>Lily</td>\n      <td>28</td>\n      <td>NY</td>\n      <td>Doctor</td>\n      <td>PSL</td>\n    </tr>\n    <tr>\n      <th>8</th>\n      <td>Linda</td>\n      <td>27</td>\n      <td>No address</td>\n      <td>No qualification</td>\n      <td>PSL</td>\n    </tr>\n    <tr>\n      <th>9</th>\n      <td>Lam</td>\n      <td>26</td>\n      <td>NY</td>\n      <td>No qualification</td>\n      <td>PSL</td>\n    </tr>\n    <tr>\n      <th>10</th>\n      <td>Hai</td>\n      <td>25</td>\n      <td>HN</td>\n      <td>Master</td>\n      <td>NaN</td>\n    </tr>\n  </tbody>\n</table>\n</div>"
     },
     "execution_count": 214,
     "metadata": {},
     "output_type": "execute_result"
    }
   ],
   "source": [
    "# Delete the row which has the index 4\n",
    "\"\"\"\n",
    "To delete the row which has the index 4 we can use the drop() function\n",
    "\"\"\"\n",
    "# Your code here\n",
    "df = df.drop(4)\n",
    "df"
   ],
   "metadata": {
    "collapsed": false
   }
  },
  {
   "cell_type": "code",
   "execution_count": 215,
   "outputs": [
    {
     "data": {
      "text/plain": "    Name  Age     Address     Qualification University\n0   Linh   23          HN            Master        PSL\n1    Hoa   25          HN            Master        PSL\n2   Hung   22          HN            Doctor        PSL\n3   Hieu   23          HN  No qualification        PSL\n4   John   30          NY            Master        PSL\n5  Peter   31          NY            Master        PSL\n6   Lily   28          NY            Doctor        PSL\n7  Linda   27  No address  No qualification        PSL\n8    Lam   26          NY  No qualification        PSL\n9    Hai   25          HN            Master        NaN",
      "text/html": "<div>\n<style scoped>\n    .dataframe tbody tr th:only-of-type {\n        vertical-align: middle;\n    }\n\n    .dataframe tbody tr th {\n        vertical-align: top;\n    }\n\n    .dataframe thead th {\n        text-align: right;\n    }\n</style>\n<table border=\"1\" class=\"dataframe\">\n  <thead>\n    <tr style=\"text-align: right;\">\n      <th></th>\n      <th>Name</th>\n      <th>Age</th>\n      <th>Address</th>\n      <th>Qualification</th>\n      <th>University</th>\n    </tr>\n  </thead>\n  <tbody>\n    <tr>\n      <th>0</th>\n      <td>Linh</td>\n      <td>23</td>\n      <td>HN</td>\n      <td>Master</td>\n      <td>PSL</td>\n    </tr>\n    <tr>\n      <th>1</th>\n      <td>Hoa</td>\n      <td>25</td>\n      <td>HN</td>\n      <td>Master</td>\n      <td>PSL</td>\n    </tr>\n    <tr>\n      <th>2</th>\n      <td>Hung</td>\n      <td>22</td>\n      <td>HN</td>\n      <td>Doctor</td>\n      <td>PSL</td>\n    </tr>\n    <tr>\n      <th>3</th>\n      <td>Hieu</td>\n      <td>23</td>\n      <td>HN</td>\n      <td>No qualification</td>\n      <td>PSL</td>\n    </tr>\n    <tr>\n      <th>4</th>\n      <td>John</td>\n      <td>30</td>\n      <td>NY</td>\n      <td>Master</td>\n      <td>PSL</td>\n    </tr>\n    <tr>\n      <th>5</th>\n      <td>Peter</td>\n      <td>31</td>\n      <td>NY</td>\n      <td>Master</td>\n      <td>PSL</td>\n    </tr>\n    <tr>\n      <th>6</th>\n      <td>Lily</td>\n      <td>28</td>\n      <td>NY</td>\n      <td>Doctor</td>\n      <td>PSL</td>\n    </tr>\n    <tr>\n      <th>7</th>\n      <td>Linda</td>\n      <td>27</td>\n      <td>No address</td>\n      <td>No qualification</td>\n      <td>PSL</td>\n    </tr>\n    <tr>\n      <th>8</th>\n      <td>Lam</td>\n      <td>26</td>\n      <td>NY</td>\n      <td>No qualification</td>\n      <td>PSL</td>\n    </tr>\n    <tr>\n      <th>9</th>\n      <td>Hai</td>\n      <td>25</td>\n      <td>HN</td>\n      <td>Master</td>\n      <td>NaN</td>\n    </tr>\n  </tbody>\n</table>\n</div>"
     },
     "execution_count": 215,
     "metadata": {},
     "output_type": "execute_result"
    }
   ],
   "source": [
    "# Reset index of the dataframe\n",
    "\"\"\"\n",
    "To reset index of the dataframe we can use the reset_index() function\n",
    "\"\"\"\n",
    "# Your code here\n",
    "df = df.reset_index(drop=True)\n",
    "df"
   ],
   "metadata": {
    "collapsed": false
   }
  },
  {
   "cell_type": "code",
   "execution_count": 216,
   "outputs": [
    {
     "data": {
      "text/plain": "    Name  Age     Address     Qualification University\n5  Peter   31          NY            Master        PSL\n4   John   30          NY            Master        PSL\n6   Lily   28          NY            Doctor        PSL\n7  Linda   27  No address  No qualification        PSL\n8    Lam   26          NY  No qualification        PSL\n1    Hoa   25          HN            Master        PSL\n9    Hai   25          HN            Master        NaN\n0   Linh   23          HN            Master        PSL\n3   Hieu   23          HN  No qualification        PSL\n2   Hung   22          HN            Doctor        PSL",
      "text/html": "<div>\n<style scoped>\n    .dataframe tbody tr th:only-of-type {\n        vertical-align: middle;\n    }\n\n    .dataframe tbody tr th {\n        vertical-align: top;\n    }\n\n    .dataframe thead th {\n        text-align: right;\n    }\n</style>\n<table border=\"1\" class=\"dataframe\">\n  <thead>\n    <tr style=\"text-align: right;\">\n      <th></th>\n      <th>Name</th>\n      <th>Age</th>\n      <th>Address</th>\n      <th>Qualification</th>\n      <th>University</th>\n    </tr>\n  </thead>\n  <tbody>\n    <tr>\n      <th>5</th>\n      <td>Peter</td>\n      <td>31</td>\n      <td>NY</td>\n      <td>Master</td>\n      <td>PSL</td>\n    </tr>\n    <tr>\n      <th>4</th>\n      <td>John</td>\n      <td>30</td>\n      <td>NY</td>\n      <td>Master</td>\n      <td>PSL</td>\n    </tr>\n    <tr>\n      <th>6</th>\n      <td>Lily</td>\n      <td>28</td>\n      <td>NY</td>\n      <td>Doctor</td>\n      <td>PSL</td>\n    </tr>\n    <tr>\n      <th>7</th>\n      <td>Linda</td>\n      <td>27</td>\n      <td>No address</td>\n      <td>No qualification</td>\n      <td>PSL</td>\n    </tr>\n    <tr>\n      <th>8</th>\n      <td>Lam</td>\n      <td>26</td>\n      <td>NY</td>\n      <td>No qualification</td>\n      <td>PSL</td>\n    </tr>\n    <tr>\n      <th>1</th>\n      <td>Hoa</td>\n      <td>25</td>\n      <td>HN</td>\n      <td>Master</td>\n      <td>PSL</td>\n    </tr>\n    <tr>\n      <th>9</th>\n      <td>Hai</td>\n      <td>25</td>\n      <td>HN</td>\n      <td>Master</td>\n      <td>NaN</td>\n    </tr>\n    <tr>\n      <th>0</th>\n      <td>Linh</td>\n      <td>23</td>\n      <td>HN</td>\n      <td>Master</td>\n      <td>PSL</td>\n    </tr>\n    <tr>\n      <th>3</th>\n      <td>Hieu</td>\n      <td>23</td>\n      <td>HN</td>\n      <td>No qualification</td>\n      <td>PSL</td>\n    </tr>\n    <tr>\n      <th>2</th>\n      <td>Hung</td>\n      <td>22</td>\n      <td>HN</td>\n      <td>Doctor</td>\n      <td>PSL</td>\n    </tr>\n  </tbody>\n</table>\n</div>"
     },
     "execution_count": 216,
     "metadata": {},
     "output_type": "execute_result"
    }
   ],
   "source": [
    "# Sort the dataframe by the 'Age' column from oldest to youngest\n",
    "\"\"\"\n",
    "To sort the dataframe by the 'Age' column from oldest to youngest we can use the sort_values() function\n",
    "\"\"\"\n",
    "# Your code here\n",
    "df = df.sort_values(by='Age', ascending=False)\n",
    "df"
   ],
   "metadata": {
    "collapsed": false
   }
  },
  {
   "cell_type": "code",
   "execution_count": 217,
   "outputs": [
    {
     "data": {
      "text/plain": "    Name  Age     Address     Qualification University\n2   Hung   22          HN            Doctor        PSL\n0   Linh   23          HN            Master        PSL\n3   Hieu   23          HN  No qualification        PSL\n1    Hoa   25          HN            Master        PSL\n9    Hai   25          HN            Master        NaN\n8    Lam   26          NY  No qualification        PSL\n7  Linda   27  No address  No qualification        PSL\n6   Lily   28          NY            Doctor        PSL\n4   John   30          NY            Master        PSL\n5  Peter   31          NY            Master        PSL",
      "text/html": "<div>\n<style scoped>\n    .dataframe tbody tr th:only-of-type {\n        vertical-align: middle;\n    }\n\n    .dataframe tbody tr th {\n        vertical-align: top;\n    }\n\n    .dataframe thead th {\n        text-align: right;\n    }\n</style>\n<table border=\"1\" class=\"dataframe\">\n  <thead>\n    <tr style=\"text-align: right;\">\n      <th></th>\n      <th>Name</th>\n      <th>Age</th>\n      <th>Address</th>\n      <th>Qualification</th>\n      <th>University</th>\n    </tr>\n  </thead>\n  <tbody>\n    <tr>\n      <th>2</th>\n      <td>Hung</td>\n      <td>22</td>\n      <td>HN</td>\n      <td>Doctor</td>\n      <td>PSL</td>\n    </tr>\n    <tr>\n      <th>0</th>\n      <td>Linh</td>\n      <td>23</td>\n      <td>HN</td>\n      <td>Master</td>\n      <td>PSL</td>\n    </tr>\n    <tr>\n      <th>3</th>\n      <td>Hieu</td>\n      <td>23</td>\n      <td>HN</td>\n      <td>No qualification</td>\n      <td>PSL</td>\n    </tr>\n    <tr>\n      <th>1</th>\n      <td>Hoa</td>\n      <td>25</td>\n      <td>HN</td>\n      <td>Master</td>\n      <td>PSL</td>\n    </tr>\n    <tr>\n      <th>9</th>\n      <td>Hai</td>\n      <td>25</td>\n      <td>HN</td>\n      <td>Master</td>\n      <td>NaN</td>\n    </tr>\n    <tr>\n      <th>8</th>\n      <td>Lam</td>\n      <td>26</td>\n      <td>NY</td>\n      <td>No qualification</td>\n      <td>PSL</td>\n    </tr>\n    <tr>\n      <th>7</th>\n      <td>Linda</td>\n      <td>27</td>\n      <td>No address</td>\n      <td>No qualification</td>\n      <td>PSL</td>\n    </tr>\n    <tr>\n      <th>6</th>\n      <td>Lily</td>\n      <td>28</td>\n      <td>NY</td>\n      <td>Doctor</td>\n      <td>PSL</td>\n    </tr>\n    <tr>\n      <th>4</th>\n      <td>John</td>\n      <td>30</td>\n      <td>NY</td>\n      <td>Master</td>\n      <td>PSL</td>\n    </tr>\n    <tr>\n      <th>5</th>\n      <td>Peter</td>\n      <td>31</td>\n      <td>NY</td>\n      <td>Master</td>\n      <td>PSL</td>\n    </tr>\n  </tbody>\n</table>\n</div>"
     },
     "execution_count": 217,
     "metadata": {},
     "output_type": "execute_result"
    }
   ],
   "source": [
    "# Sort the dataframe by the 'Age' column from youngest to oldest\n",
    "\"\"\"\n",
    "To sort the dataframe by the 'Age' column from youngest to oldest we can use the sort_values() function\n",
    "\"\"\"\n",
    "# Your code here\n",
    "df = df.sort_values(by='Age', ascending=True)\n",
    "df"
   ],
   "metadata": {
    "collapsed": false
   }
  },
  {
   "cell_type": "code",
   "execution_count": 220,
   "outputs": [
    {
     "name": "stdout",
     "output_type": "stream",
     "text": [
      "Time:  0.0008051395416259766\n"
     ]
    },
    {
     "data": {
      "text/plain": "    Name  Age     Address     Qualification University  Salary\n2   Hung   22          HN            Doctor        PSL    2000\n0   Linh   23          HN            Master        PSL    2000\n3   Hieu   23          HN  No qualification        PSL    2000\n1    Hoa   25          HN            Master        PSL    3000\n9    Hai   25          HN            Master        NaN    3000\n8    Lam   26          NY  No qualification        PSL    3000\n7  Linda   27  No address  No qualification        PSL    3000\n6   Lily   28          NY            Doctor        PSL    3000\n4   John   30          NY            Master        PSL    3000\n5  Peter   31          NY            Master        PSL    3000",
      "text/html": "<div>\n<style scoped>\n    .dataframe tbody tr th:only-of-type {\n        vertical-align: middle;\n    }\n\n    .dataframe tbody tr th {\n        vertical-align: top;\n    }\n\n    .dataframe thead th {\n        text-align: right;\n    }\n</style>\n<table border=\"1\" class=\"dataframe\">\n  <thead>\n    <tr style=\"text-align: right;\">\n      <th></th>\n      <th>Name</th>\n      <th>Age</th>\n      <th>Address</th>\n      <th>Qualification</th>\n      <th>University</th>\n      <th>Salary</th>\n    </tr>\n  </thead>\n  <tbody>\n    <tr>\n      <th>2</th>\n      <td>Hung</td>\n      <td>22</td>\n      <td>HN</td>\n      <td>Doctor</td>\n      <td>PSL</td>\n      <td>2000</td>\n    </tr>\n    <tr>\n      <th>0</th>\n      <td>Linh</td>\n      <td>23</td>\n      <td>HN</td>\n      <td>Master</td>\n      <td>PSL</td>\n      <td>2000</td>\n    </tr>\n    <tr>\n      <th>3</th>\n      <td>Hieu</td>\n      <td>23</td>\n      <td>HN</td>\n      <td>No qualification</td>\n      <td>PSL</td>\n      <td>2000</td>\n    </tr>\n    <tr>\n      <th>1</th>\n      <td>Hoa</td>\n      <td>25</td>\n      <td>HN</td>\n      <td>Master</td>\n      <td>PSL</td>\n      <td>3000</td>\n    </tr>\n    <tr>\n      <th>9</th>\n      <td>Hai</td>\n      <td>25</td>\n      <td>HN</td>\n      <td>Master</td>\n      <td>NaN</td>\n      <td>3000</td>\n    </tr>\n    <tr>\n      <th>8</th>\n      <td>Lam</td>\n      <td>26</td>\n      <td>NY</td>\n      <td>No qualification</td>\n      <td>PSL</td>\n      <td>3000</td>\n    </tr>\n    <tr>\n      <th>7</th>\n      <td>Linda</td>\n      <td>27</td>\n      <td>No address</td>\n      <td>No qualification</td>\n      <td>PSL</td>\n      <td>3000</td>\n    </tr>\n    <tr>\n      <th>6</th>\n      <td>Lily</td>\n      <td>28</td>\n      <td>NY</td>\n      <td>Doctor</td>\n      <td>PSL</td>\n      <td>3000</td>\n    </tr>\n    <tr>\n      <th>4</th>\n      <td>John</td>\n      <td>30</td>\n      <td>NY</td>\n      <td>Master</td>\n      <td>PSL</td>\n      <td>3000</td>\n    </tr>\n    <tr>\n      <th>5</th>\n      <td>Peter</td>\n      <td>31</td>\n      <td>NY</td>\n      <td>Master</td>\n      <td>PSL</td>\n      <td>3000</td>\n    </tr>\n  </tbody>\n</table>\n</div>"
     },
     "execution_count": 220,
     "metadata": {},
     "output_type": "execute_result"
    }
   ],
   "source": [
    "import time\n",
    "\n",
    "# Create new column salary (if age < 22, salary = 1000, if age < 24, salary = 2000, else salary = 3000)\n",
    "\"\"\"\n",
    "To create new column salary (if age < 22, salary = 1000, if age < 24, salary = 2000, else salary = 3000) we can use the lambda function\n",
    "\"\"\"\n",
    "# Your code here\n",
    "start = time.time()\n",
    "df['Salary'] = df['Age'].apply(lambda x: 1000 if x < 22 else (2000 if x < 24 else 3000))\n",
    "print(\"Time: \", time.time() - start)\n",
    "df"
   ],
   "metadata": {
    "collapsed": false
   }
  },
  {
   "cell_type": "code",
   "execution_count": 221,
   "outputs": [
    {
     "name": "stdout",
     "output_type": "stream",
     "text": [
      "Time:  0.046751976013183594\n"
     ]
    },
    {
     "name": "stderr",
     "output_type": "stream",
     "text": [
      "/var/folders/sm/lw2bbffs15g5l3r4ldd25hc00000gn/T/ipykernel_16349/1371246668.py:10: SettingWithCopyWarning: \n",
      "A value is trying to be set on a copy of a slice from a DataFrame\n",
      "\n",
      "See the caveats in the documentation: https://pandas.pydata.org/pandas-docs/stable/user_guide/indexing.html#returning-a-view-versus-a-copy\n",
      "  df['Salary'][i] = 2000\n",
      "/var/folders/sm/lw2bbffs15g5l3r4ldd25hc00000gn/T/ipykernel_16349/1371246668.py:12: SettingWithCopyWarning: \n",
      "A value is trying to be set on a copy of a slice from a DataFrame\n",
      "\n",
      "See the caveats in the documentation: https://pandas.pydata.org/pandas-docs/stable/user_guide/indexing.html#returning-a-view-versus-a-copy\n",
      "  df['Salary'][i] = 3000\n"
     ]
    },
    {
     "data": {
      "text/plain": "    Name  Age     Address     Qualification University  Salary\n2   Hung   22          HN            Doctor        PSL    2000\n0   Linh   23          HN            Master        PSL    2000\n3   Hieu   23          HN  No qualification        PSL    2000\n1    Hoa   25          HN            Master        PSL    3000\n9    Hai   25          HN            Master        NaN    3000\n8    Lam   26          NY  No qualification        PSL    3000\n7  Linda   27  No address  No qualification        PSL    3000\n6   Lily   28          NY            Doctor        PSL    3000\n4   John   30          NY            Master        PSL    3000\n5  Peter   31          NY            Master        PSL    3000",
      "text/html": "<div>\n<style scoped>\n    .dataframe tbody tr th:only-of-type {\n        vertical-align: middle;\n    }\n\n    .dataframe tbody tr th {\n        vertical-align: top;\n    }\n\n    .dataframe thead th {\n        text-align: right;\n    }\n</style>\n<table border=\"1\" class=\"dataframe\">\n  <thead>\n    <tr style=\"text-align: right;\">\n      <th></th>\n      <th>Name</th>\n      <th>Age</th>\n      <th>Address</th>\n      <th>Qualification</th>\n      <th>University</th>\n      <th>Salary</th>\n    </tr>\n  </thead>\n  <tbody>\n    <tr>\n      <th>2</th>\n      <td>Hung</td>\n      <td>22</td>\n      <td>HN</td>\n      <td>Doctor</td>\n      <td>PSL</td>\n      <td>2000</td>\n    </tr>\n    <tr>\n      <th>0</th>\n      <td>Linh</td>\n      <td>23</td>\n      <td>HN</td>\n      <td>Master</td>\n      <td>PSL</td>\n      <td>2000</td>\n    </tr>\n    <tr>\n      <th>3</th>\n      <td>Hieu</td>\n      <td>23</td>\n      <td>HN</td>\n      <td>No qualification</td>\n      <td>PSL</td>\n      <td>2000</td>\n    </tr>\n    <tr>\n      <th>1</th>\n      <td>Hoa</td>\n      <td>25</td>\n      <td>HN</td>\n      <td>Master</td>\n      <td>PSL</td>\n      <td>3000</td>\n    </tr>\n    <tr>\n      <th>9</th>\n      <td>Hai</td>\n      <td>25</td>\n      <td>HN</td>\n      <td>Master</td>\n      <td>NaN</td>\n      <td>3000</td>\n    </tr>\n    <tr>\n      <th>8</th>\n      <td>Lam</td>\n      <td>26</td>\n      <td>NY</td>\n      <td>No qualification</td>\n      <td>PSL</td>\n      <td>3000</td>\n    </tr>\n    <tr>\n      <th>7</th>\n      <td>Linda</td>\n      <td>27</td>\n      <td>No address</td>\n      <td>No qualification</td>\n      <td>PSL</td>\n      <td>3000</td>\n    </tr>\n    <tr>\n      <th>6</th>\n      <td>Lily</td>\n      <td>28</td>\n      <td>NY</td>\n      <td>Doctor</td>\n      <td>PSL</td>\n      <td>3000</td>\n    </tr>\n    <tr>\n      <th>4</th>\n      <td>John</td>\n      <td>30</td>\n      <td>NY</td>\n      <td>Master</td>\n      <td>PSL</td>\n      <td>3000</td>\n    </tr>\n    <tr>\n      <th>5</th>\n      <td>Peter</td>\n      <td>31</td>\n      <td>NY</td>\n      <td>Master</td>\n      <td>PSL</td>\n      <td>3000</td>\n    </tr>\n  </tbody>\n</table>\n</div>"
     },
     "execution_count": 221,
     "metadata": {},
     "output_type": "execute_result"
    }
   ],
   "source": [
    "\"\"\"\n",
    "We can use also for loop to create new column salary (if age < 22, salary = 1000, if age < 24, salary = 2000, else salary = 3000)\n",
    "\"\"\"\n",
    "# Your code here\n",
    "start = time.time()\n",
    "for i in range(len(df)):\n",
    "    if df['Age'][i] < 22:\n",
    "        df['Salary'][i] = 1000\n",
    "    elif df['Age'][i] < 24:\n",
    "        df['Salary'][i] = 2000\n",
    "    else:\n",
    "        df['Salary'][i] = 3000\n",
    "print(\"Time: \", time.time() - start)\n",
    "df"
   ],
   "metadata": {
    "collapsed": false
   }
  },
  {
   "cell_type": "code",
   "execution_count": 179,
   "outputs": [
    {
     "data": {
      "text/plain": "14000"
     },
     "execution_count": 179,
     "metadata": {},
     "output_type": "execute_result"
    }
   ],
   "source": [
    "# Sum of all salaries from people who have a MS degree\n",
    "\"\"\"\n",
    "To sum of all salaries from people who have a MS degree we can use the sum() function\n",
    "\"\"\"\n",
    "# Your code here\n",
    "df.loc[df['Qualification'] == 'Master', 'Salary'].sum()"
   ],
   "metadata": {
    "collapsed": false
   }
  },
  {
   "cell_type": "code",
   "execution_count": 180,
   "outputs": [
    {
     "data": {
      "text/plain": "5000"
     },
     "execution_count": 180,
     "metadata": {},
     "output_type": "execute_result"
    }
   ],
   "source": [
    "# Sum of all salaries from people who have a PhD degree\n",
    "\"\"\"\n",
    "To sum of all salaries from people who have a PhD degree we can use the sum() function\n",
    "\"\"\"\n",
    "# Your code here\n",
    "df.loc[df['Qualification'] == 'Doctor', 'Salary'].sum()"
   ],
   "metadata": {
    "collapsed": false
   }
  },
  {
   "cell_type": "code",
   "execution_count": 181,
   "outputs": [
    {
     "data": {
      "text/plain": "    Name  Age     Address     Qualification University  Salary\n2   Hung   22          HN            Doctor        PSL    2000\n0   Linh   23          HN            Master        PSL    2000\n3   Hieu   23          HN  No qualification        PSL    2000\n1    Hoa   25          HN            Master        PSL    4000\n9    Hai   25          HN            Master        NaN    4000\n8    Lam   26          NY  No qualification        PSL    4000\n7  Linda   27  No address  No qualification        PSL    4000\n6   Lily   28          NY            Doctor        PSL    4000\n4   John   30          NY            Master        PSL    4000\n5  Peter   31          NY            Master        PSL    4000",
      "text/html": "<div>\n<style scoped>\n    .dataframe tbody tr th:only-of-type {\n        vertical-align: middle;\n    }\n\n    .dataframe tbody tr th {\n        vertical-align: top;\n    }\n\n    .dataframe thead th {\n        text-align: right;\n    }\n</style>\n<table border=\"1\" class=\"dataframe\">\n  <thead>\n    <tr style=\"text-align: right;\">\n      <th></th>\n      <th>Name</th>\n      <th>Age</th>\n      <th>Address</th>\n      <th>Qualification</th>\n      <th>University</th>\n      <th>Salary</th>\n    </tr>\n  </thead>\n  <tbody>\n    <tr>\n      <th>2</th>\n      <td>Hung</td>\n      <td>22</td>\n      <td>HN</td>\n      <td>Doctor</td>\n      <td>PSL</td>\n      <td>2000</td>\n    </tr>\n    <tr>\n      <th>0</th>\n      <td>Linh</td>\n      <td>23</td>\n      <td>HN</td>\n      <td>Master</td>\n      <td>PSL</td>\n      <td>2000</td>\n    </tr>\n    <tr>\n      <th>3</th>\n      <td>Hieu</td>\n      <td>23</td>\n      <td>HN</td>\n      <td>No qualification</td>\n      <td>PSL</td>\n      <td>2000</td>\n    </tr>\n    <tr>\n      <th>1</th>\n      <td>Hoa</td>\n      <td>25</td>\n      <td>HN</td>\n      <td>Master</td>\n      <td>PSL</td>\n      <td>4000</td>\n    </tr>\n    <tr>\n      <th>9</th>\n      <td>Hai</td>\n      <td>25</td>\n      <td>HN</td>\n      <td>Master</td>\n      <td>NaN</td>\n      <td>4000</td>\n    </tr>\n    <tr>\n      <th>8</th>\n      <td>Lam</td>\n      <td>26</td>\n      <td>NY</td>\n      <td>No qualification</td>\n      <td>PSL</td>\n      <td>4000</td>\n    </tr>\n    <tr>\n      <th>7</th>\n      <td>Linda</td>\n      <td>27</td>\n      <td>No address</td>\n      <td>No qualification</td>\n      <td>PSL</td>\n      <td>4000</td>\n    </tr>\n    <tr>\n      <th>6</th>\n      <td>Lily</td>\n      <td>28</td>\n      <td>NY</td>\n      <td>Doctor</td>\n      <td>PSL</td>\n      <td>4000</td>\n    </tr>\n    <tr>\n      <th>4</th>\n      <td>John</td>\n      <td>30</td>\n      <td>NY</td>\n      <td>Master</td>\n      <td>PSL</td>\n      <td>4000</td>\n    </tr>\n    <tr>\n      <th>5</th>\n      <td>Peter</td>\n      <td>31</td>\n      <td>NY</td>\n      <td>Master</td>\n      <td>PSL</td>\n      <td>4000</td>\n    </tr>\n  </tbody>\n</table>\n</div>"
     },
     "execution_count": 181,
     "metadata": {},
     "output_type": "execute_result"
    }
   ],
   "source": [
    "# For all people who have a PhD degree, add 1000 to their salary\n",
    "\"\"\"\n",
    "To add 1000 to their salary for all people who have a PhD degree we can use the lambda function\n",
    "\"\"\"\n",
    "# Your code here\n",
    "df['Salary'] = df['Salary'].apply(lambda x: x + 1000 if x == 3000 else x)\n",
    "df"
   ],
   "metadata": {
    "collapsed": false
   }
  },
  {
   "cell_type": "code",
   "execution_count": 181,
   "outputs": [],
   "source": [],
   "metadata": {
    "collapsed": false
   }
  }
 ],
 "metadata": {
  "kernelspec": {
   "display_name": "Python 3",
   "language": "python",
   "name": "python3"
  },
  "language_info": {
   "codemirror_mode": {
    "name": "ipython",
    "version": 2
   },
   "file_extension": ".py",
   "mimetype": "text/x-python",
   "name": "python",
   "nbconvert_exporter": "python",
   "pygments_lexer": "ipython2",
   "version": "2.7.6"
  }
 },
 "nbformat": 4,
 "nbformat_minor": 0
}
