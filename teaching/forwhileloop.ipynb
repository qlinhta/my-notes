{
 "cells": [
  {
   "cell_type": "code",
   "execution_count": 1,
   "metadata": {},
   "outputs": [],
   "source": [
    "# Example of for/while loop"
   ]
  },
  {
   "cell_type": "code",
   "execution_count": 2,
   "metadata": {},
   "outputs": [],
   "source": [
    "# What is for loop?\n",
    "# for loop is used to iterate over a sequence (list, tuple, string) or other iterable objects.\n",
    "# Iterating over a sequence is called traversal.\n",
    "\n",
    "# Syntax of for loop\n",
    "# for val in sequence:\n",
    "#     Body of for\n",
    "\n",
    "# What is while loop?\n",
    "# while loop is used to iterate over a block of code as long as the test expression (condition) is true.\n",
    "# Syntax of while loop\n",
    "# while test_expression:\n",
    "#     Body of while"
   ]
  },
  {
   "cell_type": "code",
   "execution_count": 1,
   "metadata": {},
   "outputs": [
    {
     "name": "stdout",
     "output_type": "stream",
     "text": [
      "The sum is 48\n"
     ]
    }
   ],
   "source": [
    "# Example of for loop\n",
    "# Program to find the sum of all numbers stored in a list\n",
    "# List of numbers\n",
    "list_of_number = [6, 5, 3, 8, 4, 2, 5, 4, 11]\n",
    "# variable to store the sum\n",
    "sum = 0\n",
    "# iterate over the list\n",
    "for a_number in list_of_number:\n",
    "    sum += a_number\n",
    "# Output: The sum is 48\n",
    "print(\"The sum is\", sum)"
   ]
  },
  {
   "cell_type": "code",
   "execution_count": 2,
   "metadata": {},
   "outputs": [
    {
     "name": "stdout",
     "output_type": "stream",
     "text": [
      "The sum is 0\n"
     ]
    }
   ],
   "source": [
    "# Example of while loop\n",
    "# Program to add natural\n",
    "# numbers up to\n",
    "# sum = 1+2+3+...+n\n",
    "# To take input from the user,\n",
    "# n = int(input(\"Enter n: \"))\n",
    "n = 16\n",
    "# initialize sum and counter\n",
    "sum = 0\n",
    "i = 17\n",
    "while i <= n:\n",
    "    sum = sum + i\n",
    "    i = i+1    # update counter\n",
    "# print the sum\n",
    "print(\"The sum is\", sum)"
   ]
  },
  {
   "cell_type": "code",
   "execution_count": 6,
   "metadata": {},
   "outputs": [
    {
     "name": "stdout",
     "output_type": "stream",
     "text": [
      "The sum is 48\n"
     ]
    }
   ],
   "source": [
    "# Example 1: Using a for Loop\n",
    "# Python program to find the sum of all numbers stored in a list\n",
    "# List of numbers\n",
    "\n",
    "numbers = [6, 5, 3, 8, 4, 2, 5, 4, 11]\n",
    "# variable to store the sum\n",
    "sum = 0\n",
    "# iterate over the list\n",
    "for val in numbers:\n",
    "    sum += val\n",
    "print(\"The sum is\", sum)"
   ]
  },
  {
   "cell_type": "code",
   "execution_count": 8,
   "metadata": {
    "collapsed": false
   },
   "outputs": [
    {
     "name": "stdout",
     "output_type": "stream",
     "text": [
      "0\n",
      "1\n",
      "2\n",
      "3\n",
      "4\n",
      "5\n",
      "6\n",
      "7\n",
      "8\n",
      "9\n"
     ]
    }
   ],
   "source": [
    "for id in range(10):\n",
    "    print(id)"
   ]
  },
  {
   "cell_type": "code",
   "execution_count": 10,
   "metadata": {
    "collapsed": false
   },
   "outputs": [
    {
     "name": "stdout",
     "output_type": "stream",
     "text": [
      "[0, 1, 2, 3, 4, 5, 6, 7, 8, 9, 10, 11, 12, 13, 14, 15, 16, 17, 18, 19, 20, 21, 22, 23, 24, 25, 26, 27, 28, 29, 30, 31, 32, 33, 34, 35, 36, 37, 38, 39, 40, 41, 42, 43, 44, 45, 46, 47, 48, 49]\n",
      "[0, 1, 0, 3, 0, 5, 0, 7, 0, 9, 0, 11, 0, 13, 0, 15, 0, 17, 0, 19, 0, 21, 0, 23, 0, 25, 0, 27, 0, 29, 0, 31, 0, 33, 0, 35, 0, 37, 0, 39, 0, 41, 0, 43, 0, 45, 0, 47, 0, 49]\n"
     ]
    }
   ],
   "source": [
    "x = [i for i in range(50)] # Comprehension list\n",
    "print(x)\n",
    "# Replace even numbers with 0\n",
    "for i in x:\n",
    "    if i % 2 == 0:\n",
    "        x[i] = 0\n",
    "print(x)"
   ]
  },
  {
   "cell_type": "code",
   "execution_count": 3,
   "metadata": {
    "collapsed": false
   },
   "outputs": [
    {
     "name": "stdout",
     "output_type": "stream",
     "text": [
      "[1, 2, 3, 4, 5, 6, 7, 8, 9]\n"
     ]
    }
   ],
   "source": [
    "list1 = [1, 2, 3, 4, 5, 6, 7, 8, 9]\n",
    "for i in list1:\n",
    "    if i % 2 == 0:\n",
    "        i = 0 # This will not change the value of list1 because i is a local variable of for loop and it will be destroyed after the loop is finished\n",
    "        # list1[i] = 0 # This will change the value of list1 because list1 is a global variable.\n",
    "print(list1)"
   ]
  },
  {
   "cell_type": "code",
   "execution_count": 4,
   "metadata": {},
   "outputs": [
    {
     "name": "stdout",
     "output_type": "stream",
     "text": [
      "[1, 0, 3, 0, 5, 0, 7, 0, 9]\n"
     ]
    }
   ],
   "source": [
    "list1 = [1, 2, 3, 4, 5, 6, 7, 8, 9]\n",
    "for i in list1:\n",
    "    if i % 2 == 0:\n",
    "        list1[list1.index(i)] = 0 # This will change the value of list1 because list1 is a global variable.\n",
    "print(list1)"
   ]
  },
  {
   "cell_type": "code",
   "execution_count": null,
   "metadata": {},
   "outputs": [],
   "source": []
  }
 ],
 "metadata": {
  "kernelspec": {
   "display_name": "Python 3",
   "language": "python",
   "name": "python3"
  },
  "language_info": {
   "codemirror_mode": {
    "name": "ipython",
    "version": 3
   },
   "file_extension": ".py",
   "mimetype": "text/x-python",
   "name": "python",
   "nbconvert_exporter": "python",
   "pygments_lexer": "ipython3",
   "version": "3.10.4"
  },
  "orig_nbformat": 4,
  "vscode": {
   "interpreter": {
    "hash": "7e1998ff7f8aa20ada591c520b972326324e5ea05489af9e422744c7c09f6dad"
   }
  }
 },
 "nbformat": 4,
 "nbformat_minor": 2
}
