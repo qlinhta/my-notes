{
 "cells": [
  {
   "cell_type": "code",
   "execution_count": 1,
   "metadata": {},
   "outputs": [],
   "source": [
    "import numpy as np\n",
    "import matplotlib.pyplot as plt\n",
    "import seaborn as sns\n",
    "%matplotlib inline"
   ]
  },
  {
   "cell_type": "code",
   "execution_count": 2,
   "metadata": {},
   "outputs": [],
   "source": [
    "# Exercise about string manipulation"
   ]
  },
  {
   "cell_type": "code",
   "execution_count": 3,
   "metadata": {},
   "outputs": [],
   "source": [
    "# Exercise 1: Write a function that takes a string as input and returns the string with the first letter capitalized.\n",
    "# For example, if the input is \"hello\", the output should be \"Hello\".\n",
    "\n",
    "def capitalize_first_letter(string):\n",
    "    return string.capitalize()\n",
    "\n",
    "# Assert statements to test your function\n",
    "assert capitalize_first_letter(\"hello\") == \"Hello\"\n",
    "assert capitalize_first_letter(\"Hello\") == \"Hello\""
   ]
  },
  {
   "cell_type": "code",
   "execution_count": 4,
   "metadata": {},
   "outputs": [],
   "source": [
    "# Exercise 2: Write a function that takes a string as input and returns the string with the first letter of each word capitalized.\n",
    "# For example, if the input is \"hello world\", the output should be \"Hello World\".\n",
    "\n",
    "def capitalize_first_letter_of_each_word(string):\n",
    "    return string.title()\n",
    "\n",
    "# Assert statements to test your function\n",
    "assert capitalize_first_letter_of_each_word(\"hello world\") == \"Hello World\"\n",
    "assert capitalize_first_letter_of_each_word(\"Hello World\") == \"Hello World\""
   ]
  },
  {
   "cell_type": "code",
   "execution_count": 5,
   "metadata": {},
   "outputs": [],
   "source": [
    "# Exercise 3: Question about string function\n",
    "# What does the string function \"split\" do?\n",
    "def split_string(string):\n",
    "    return string.split()\n",
    "\n",
    "# Assert statements to test your function\n",
    "assert split_string(\"hello world\") == [\"hello\", \"world\"]"
   ]
  },
  {
   "cell_type": "code",
   "execution_count": 6,
   "metadata": {},
   "outputs": [],
   "source": [
    "# Exercise 4: Write a function that takes a string as input and inverses the case of each letter.\n",
    "# For example, if the input is \"Hello World\", the output should be \"hELLO wORLD\".\n",
    "\n",
    "def inverse_case(string):\n",
    "    return string.swapcase()\n",
    "\n",
    "# Assert statements to test your function\n",
    "assert inverse_case(\"Hello World\") == \"hELLO wORLD\"\n",
    "assert inverse_case(\"hELLO wORLD\") == \"Hello World\""
   ]
  },
  {
   "cell_type": "code",
   "execution_count": 7,
   "metadata": {},
   "outputs": [],
   "source": [
    "# Exercise 5: Same as exercise 4, but using a for loop\n",
    "def inverse_case_for_loop(string):\n",
    "    result = \"\"\n",
    "    for letter in string:\n",
    "        if letter.isupper():\n",
    "            result += letter.lower()\n",
    "        else:\n",
    "            result += letter.upper()\n",
    "    return result\n",
    "\n",
    "# Assert statements to test your function\n",
    "assert inverse_case_for_loop(\"Hello World\") == \"hELLO wORLD\"\n",
    "assert inverse_case_for_loop(\"hELLO wORLD\") == \"Hello World\""
   ]
  },
  {
   "cell_type": "code",
   "execution_count": 8,
   "metadata": {},
   "outputs": [],
   "source": [
    "# Exercise about function"
   ]
  },
  {
   "cell_type": "code",
   "execution_count": 9,
   "metadata": {},
   "outputs": [],
   "source": [
    "# Exercise 6: Write a function return the sum of the first n numbers.\n",
    "# For example, if n = 5, the function should return 1 + 2 + 3 + 4 + 5 = 15.\n",
    "\n",
    "def sum_of_first_n_numbers(n):\n",
    "    return sum(range(1, n+1))\n",
    "\n",
    "# Assert statements to test your function\n",
    "assert sum_of_first_n_numbers(5) == 15\n",
    "assert sum_of_first_n_numbers(10) == 55"
   ]
  },
  {
   "cell_type": "code",
   "execution_count": 10,
   "metadata": {},
   "outputs": [],
   "source": [
    "# Exercise 7: Write a function that takes a list of numbers as input and returns the sum of the numbers.\n",
    "# For example, if the input is [1, 2, 3, 4, 5], the output should be 1 + 2 + 3 + 4 + 5 = 15.\n",
    "\n",
    "def sum_of_numbers(numbers):\n",
    "    return sum(numbers)\n",
    "\n",
    "# Assert statements to test your function\n",
    "assert sum_of_numbers([1, 2, 3, 4, 5]) == 15\n",
    "assert sum_of_numbers([1, 2, 3, 4, 5, 6, 7, 8, 9, 10]) == 55"
   ]
  },
  {
   "cell_type": "code",
   "execution_count": 11,
   "metadata": {},
   "outputs": [],
   "source": [
    "# Exercise 8: Write a small game loto, where the user has to guess 5 numbers between 1 to 50.\n",
    "# The program should generate 5 random numbers between 1 to 50 and compare them to the user's numbers.\n",
    "# The program should print the number of correct guesses.\n",
    "# Return the prize money, which is 1000 times the number of correct guesses. \n",
    "# If the user guessed all 5 numbers, he wins 10000\n",
    "# If the user guessed 4 numbers, he wins 5000\n",
    "# If the user guessed 3 numbers, he wins 1000\n",
    "# If the user guessed 2 numbers, he wins 500\n",
    "# If the user guessed 1 number, he wins 100\n",
    "\n",
    "def loto():\n",
    "    # Generate 5 random numbers between 1 to 50\n",
    "    random_numbers = np.random.randint(1, 51, 5)\n",
    "    # Ask the user to guess 5 numbers between 1 to 50 from the keyboard\n",
    "    user_numbers = []\n",
    "    for i in range(5):\n",
    "        user_numbers.append(int(input(\"Guess a number between 1 to 50: \")))\n",
    "    # Compare the user's numbers to the random numbers\n",
    "    correct_guesses = 0\n",
    "    for user_number in user_numbers:\n",
    "        if user_number in random_numbers:\n",
    "            correct_guesses += 1\n",
    "    # Print the number of correct guesses\n",
    "    print(\"You guessed {} numbers correctly.\".format(correct_guesses))\n",
    "    # Return the prize money\n",
    "    if correct_guesses == 5:\n",
    "        return 10000\n",
    "    elif correct_guesses == 4:\n",
    "        return 5000\n",
    "    elif correct_guesses == 3:\n",
    "        return 1000\n",
    "    elif correct_guesses == 2:\n",
    "        return 500\n",
    "    elif correct_guesses == 1:\n",
    "        return 100\n",
    "    else:\n",
    "        return 0"
   ]
  },
  {
   "cell_type": "code",
   "execution_count": 15,
   "metadata": {},
   "outputs": [
    {
     "name": "stdout",
     "output_type": "stream",
     "text": [
      "You guessed 0 numbers correctly.\n"
     ]
    },
    {
     "data": {
      "text/plain": [
       "0"
      ]
     },
     "execution_count": 15,
     "metadata": {},
     "output_type": "execute_result"
    }
   ],
   "source": [
    "loto()"
   ]
  },
  {
   "cell_type": "code",
   "execution_count": 16,
   "metadata": {},
   "outputs": [],
   "source": [
    "# Exercise 9: Write a function that takes a list of numbers as input and returns the average of the numbers.\n",
    "# For example, if the input is [1, 2, 3, 4, 5], the output should be (1 + 2 + 3 + 4 + 5) / 5 = 3.\n",
    "\n",
    "def average(numbers):\n",
    "    return sum(numbers) / len(numbers)\n",
    "\n",
    "# Assert statements to test your function\n",
    "assert average([1, 2, 3, 4, 5]) == 3"
   ]
  },
  {
   "cell_type": "code",
   "execution_count": 17,
   "metadata": {},
   "outputs": [],
   "source": [
    "# Exercise 10: Write a function that takes a list of numbers as input and returns the median of the numbers.\n",
    "# For example, if the input is [1, 2, 3, 4, 5], the output should be 3.\n",
    "# If the input is [1, 2, 3, 4, 5, 6], the output should be (3 + 4) / 2 = 3.5.\n",
    "\n",
    "def median(numbers):\n",
    "    numbers = sorted(numbers)\n",
    "    if len(numbers) % 2 == 0:\n",
    "        return (numbers[len(numbers) // 2 - 1] + numbers[len(numbers) // 2]) / 2\n",
    "    else:\n",
    "        return numbers[len(numbers) // 2]\n",
    "\n",
    "# Assert statements to test your function\n",
    "assert median([1, 2, 3, 4, 5]) == 3\n",
    "assert median([1, 2, 3, 4, 5, 6]) == 3.5"
   ]
  },
  {
   "cell_type": "code",
   "execution_count": 18,
   "metadata": {},
   "outputs": [],
   "source": [
    "# Exercise 11: Write a small program that simulates a simple calculator.\n",
    "# The program should ask the user to enter a number, an operator and another number.\n",
    "# The program should print the result of the calculation.\n",
    "# The program should continue to ask the user to enter a number, an operator and another number until the user enters \"exit\".\n",
    "# The program should print the result of the calculation and then exit.\n",
    "\n",
    "def calculator():\n",
    "    while True:\n",
    "        number1 = int(input(\"Enter a number: \"))\n",
    "        operator = input(\"Enter an operator: \")\n",
    "        number2 = int(input(\"Enter another number: \"))\n",
    "        if operator == \"+\":\n",
    "            print(number1 + number2)\n",
    "        elif operator == \"-\":\n",
    "            print(number1 - number2)\n",
    "        elif operator == \"*\":\n",
    "            print(number1 * number2)\n",
    "        elif operator == \"/\":\n",
    "            print(number1 / number2)\n",
    "        else:\n",
    "            print(\"Invalid operator.\")\n",
    "        if input(\"Enter 'exit' to exit the program: \") == \"exit\":\n",
    "            break"
   ]
  },
  {
   "cell_type": "code",
   "execution_count": 19,
   "metadata": {},
   "outputs": [
    {
     "name": "stdout",
     "output_type": "stream",
     "text": [
      "4\n"
     ]
    }
   ],
   "source": [
    "calculator()"
   ]
  },
  {
   "cell_type": "code",
   "execution_count": 22,
   "metadata": {},
   "outputs": [],
   "source": [
    "# Exercise 12: Write a small program that simulates a ATM machine.\n",
    "''' \n",
    "The program should ask the user to enter a PIN code.\n",
    "The program should ask the user to enter an amount of money.\n",
    "The program should print the amount of money that the user can withdraw.\n",
    "The program should continue to ask the user to enter a PIN code, an amount of money and print the amount of money that the user can withdraw until the user enters \"exit\".\n",
    "The program should print the amount of money that the user can withdraw and then exit.\n",
    "The PIN code is 1234.\n",
    "The user can only withdraw multiples of 10.\n",
    "Account balance is 1,000,000\n",
    "Print out the amount of money that the user can withdraw, and amount after withdrawal.\n",
    "'''\n",
    "\n",
    "def atm():\n",
    "    while True:\n",
    "        pin = int(input(\"Enter your PIN code: \"))\n",
    "        if pin == 1234:\n",
    "            amount = int(input(\"Enter an amount of money: \"))\n",
    "            if amount % 10 == 0 and amount <= 1000000:\n",
    "                print(\"You can withdraw {}.\".format(amount))\n",
    "                print(\"Amount after withdrawal: {}\".format(1000000 - amount))\n",
    "            else:\n",
    "                print(\"Invalid amount.\")\n",
    "        else:\n",
    "            print(\"Invalid PIN code.\")\n",
    "        if input(\"Enter 'exit' to exit the program: \") == \"exit\":\n",
    "            break"
   ]
  },
  {
   "cell_type": "code",
   "execution_count": 24,
   "metadata": {},
   "outputs": [
    {
     "name": "stdout",
     "output_type": "stream",
     "text": [
      "You can withdraw 100000.\n",
      "Amount after withdrawal: 900000\n",
      "You can withdraw 100000.\n",
      "Amount after withdrawal: 900000\n"
     ]
    }
   ],
   "source": [
    "atm()"
   ]
  },
  {
   "cell_type": "code",
   "execution_count": 25,
   "metadata": {},
   "outputs": [],
   "source": [
    "# Exercise 13: Write a small program that simulates a human.\n",
    "# The program should ask the user to enter a name, age, birthday\n",
    "# The program should ask the user to\n",
    "#   - enter \"eat\" to eat\n",
    "#   - enter \"sleep\" to sleep\n",
    "#   - enter \"work\" to work\n",
    "#   - enter \"play\" to play\n",
    "#   - enter \"exit\" to exit\n",
    "\n",
    "def human():\n",
    "    name = input(\"Enter your name: \")\n",
    "    age = int(input(\"Enter your age: \"))\n",
    "    birthday = input(\"Enter your birthday: \")\n",
    "    while True:\n",
    "        action = input(\"Enter 'eat', 'sleep', 'work', 'play' or 'exit': \")\n",
    "        if action == \"eat\":\n",
    "            print(\"{} is eating.\".format(name))\n",
    "        elif action == \"sleep\":\n",
    "            print(\"{} is sleeping.\".format(name))\n",
    "        elif action == \"work\":\n",
    "            print(\"{} is working.\".format(name))\n",
    "        elif action == \"play\":\n",
    "            print(\"{} is playing.\".format(name))\n",
    "        elif action == \"exit\":\n",
    "            break\n",
    "        else:\n",
    "            print(\"Invalid action.\")\n"
   ]
  },
  {
   "cell_type": "code",
   "execution_count": 26,
   "metadata": {},
   "outputs": [
    {
     "name": "stdout",
     "output_type": "stream",
     "text": [
      "Linh is eating.\n",
      "Linh is sleeping.\n",
      "Linh is playing.\n"
     ]
    }
   ],
   "source": [
    "human()"
   ]
  },
  {
   "cell_type": "code",
   "execution_count": 27,
   "metadata": {},
   "outputs": [],
   "source": [
    "# Exercise 14: A small program ask human to enter a name, age, birthday and save it to a file.\n",
    "# The program should ask the user to enter a name, age, birthday\n",
    "# Create a file called \"human.txt\" and save the name, age, birthday to the file, one per line.\n",
    "# The program should ask the user to enter \"exit\" to exit.\n",
    "\n",
    "def ask_human():\n",
    "    name = input(\"Enter your name: \")\n",
    "    age = int(input(\"Enter your age: \"))\n",
    "    birthday = input(\"Enter your birthday: \")\n",
    "    with open(\"human.txt\", \"w\") as f:\n",
    "        f.write(name + \" \" + str(age) + \" \" + birthday)\n",
    "    while True:\n",
    "        if input(\"Enter 'exit' to exit the program: \") == \"exit\":\n",
    "            break"
   ]
  },
  {
   "cell_type": "code",
   "execution_count": 29,
   "metadata": {},
   "outputs": [],
   "source": [
    "ask_human()"
   ]
  },
  {
   "cell_type": "code",
   "execution_count": null,
   "metadata": {},
   "outputs": [],
   "source": []
  }
 ],
 "metadata": {
  "kernelspec": {
   "display_name": "Python 3.10.4 64-bit",
   "language": "python",
   "name": "python3"
  },
  "language_info": {
   "codemirror_mode": {
    "name": "ipython",
    "version": 3
   },
   "file_extension": ".py",
   "mimetype": "text/x-python",
   "name": "python",
   "nbconvert_exporter": "python",
   "pygments_lexer": "ipython3",
   "version": "3.10.4"
  },
  "orig_nbformat": 4,
  "vscode": {
   "interpreter": {
    "hash": "7e1998ff7f8aa20ada591c520b972326324e5ea05489af9e422744c7c09f6dad"
   }
  }
 },
 "nbformat": 4,
 "nbformat_minor": 2
}
